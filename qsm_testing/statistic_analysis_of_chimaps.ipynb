{
 "cells": [
  {
   "cell_type": "markdown",
   "id": "1079f6f8",
   "metadata": {},
   "source": [
    "# Code for analysis of GM to WM contrast in SC images and SC QSM processing steps"
   ]
  },
  {
   "cell_type": "code",
   "execution_count": 1,
   "id": "ae1e9175",
   "metadata": {},
   "outputs": [],
   "source": [
    "import nibabel as nib\n",
    "import numpy as np  \n",
    "import sys\n",
    "import os"
   ]
  },
  {
   "cell_type": "code",
   "execution_count": 2,
   "id": "0cf8918b",
   "metadata": {},
   "outputs": [],
   "source": [
    "from scipy.stats import ttest_ind\n",
    "from scipy.stats import mannwhitneyu"
   ]
  },
  {
   "cell_type": "code",
   "execution_count": 3,
   "id": "3c924a59",
   "metadata": {},
   "outputs": [],
   "source": [
    "# Lets begin analyzing our best looking magnitude\n",
    "hc2_m1_mag_img = nib.load(r\"E:\\msc_data\\sc_qsm\\swiss_data_mk2\\QSM_processing\\hc2\\m1\\hc2_m1_mag.nii.gz\")\n",
    "hc2_m1_mag_data = hc2_m1_mag_img.get_fdata()\n",
    "hc2_m1_gm_msk_data = nib.load(r\"E:\\msc_data\\sc_qsm\\swiss_data_mk2\\QSM_processing\\hc2\\m1\\hc2_m1_gm_mks.nii.gz\").get_fdata()\n",
    "hc2_m1_wm_msk_data = nib.load(r\"E:\\msc_data\\sc_qsm\\swiss_data_mk2\\QSM_processing\\hc2\\m1\\hc2_m1_wm_msk.nii.gz\").get_fdata()"
   ]
  },
  {
   "cell_type": "code",
   "execution_count": 4,
   "id": "419b2009",
   "metadata": {},
   "outputs": [
    {
     "data": {
      "text/plain": [
       "16"
      ]
     },
     "execution_count": 4,
     "metadata": {},
     "output_type": "execute_result"
    }
   ],
   "source": [
    "nSlices = hc2_m1_mag_img.shape[2]\n",
    "nSlices"
   ]
  },
  {
   "cell_type": "code",
   "execution_count": 5,
   "id": "443ac79a",
   "metadata": {},
   "outputs": [
    {
     "name": "stdout",
     "output_type": "stream",
     "text": [
      "[0.07211565 0.05832177 0.1012321  0.03194563 0.05406769 0.08772266\n",
      " 0.06536509 0.0661796  0.07663165 0.07719194 0.06496995 0.08389183\n",
      " 0.06915417 0.04618036 0.07092932 0.07579492]\n"
     ]
    }
   ],
   "source": [
    "contrast_values = np.full(nSlices, np.nan)\n",
    "\n",
    "for s in range(nSlices):\n",
    "    wm_slice = hc2_m1_wm_msk_data[:, :, s].astype(bool)\n",
    "    gm_slice = hc2_m1_gm_msk_data[:, :, s].astype(bool)\n",
    "\n",
    "    wm_vals = hc2_m1_mag_data[:, :, s][wm_slice]\n",
    "    gm_vals = hc2_m1_mag_data[:, :, s][gm_slice]\n",
    "\n",
    "    if wm_vals.size > 0 and gm_vals.size > 0:\n",
    "        mu_wm = wm_vals.mean()\n",
    "        mu_gm = gm_vals.mean()\n",
    "\n",
    "        contrast_values[s] = (mu_gm - mu_wm) / (mu_gm + mu_wm)  # signed contrast\n",
    "\n",
    "# contrast_values now contains the GM–WM contrast for each slice\n",
    "print(contrast_values)\n"
   ]
  },
  {
   "cell_type": "markdown",
   "id": "edc41798",
   "metadata": {},
   "source": [
    "# <span style=\"color:orange\"> Difference of mean in Chimaps // *For SC QSM* </br>\n",
    "In this section we'll perform a statistical test looking to see if the difference between of the GM and WM mean is significant or not.\n"
   ]
  },
  {
   "cell_type": "code",
   "execution_count": 6,
   "id": "fdb47321",
   "metadata": {},
   "outputs": [],
   "source": [
    "# Load the chimap you want to analyuze\n",
    "chimap_img = nib.load(r\"E:\\msc_data\\sc_qsm\\swiss_data_mk2\\QSM_processing\\hc2\\m1\\chi_map\\opt_iLSQR\\Sepia_Chimap.nii.gz\")\n",
    "chimap_data = chimap_img.get_fdata()\n",
    "\n",
    "# Now load the masks or custom masks you want to use to calculate the mean \n",
    "wm_mask_data = nib.load(r\"E:\\msc_data\\sc_qsm\\swiss_data_mk2\\QSM_processing\\hc2\\m1\\custom1_wm_msk.nii.gz\").get_fdata()\n",
    "gm_mask_data = nib.load(r\"E:\\msc_data\\sc_qsm\\swiss_data_mk2\\QSM_processing\\hc2\\m1\\custom1_gm_msk.nii.gz\").get_fdata()\n",
    "                      "
   ]
  },
  {
   "cell_type": "code",
   "execution_count": 7,
   "id": "f796e631",
   "metadata": {},
   "outputs": [],
   "source": [
    "# Extract voxel values\n",
    "wm_vals = chimap_data[wm_mask_data == 1]\n",
    "gm_vals = chimap_data[gm_mask_data == 1]\n",
    "\n",
    "# Remove NaN/inf values\n",
    "wm_vals = wm_vals[np.isfinite(wm_vals)]\n",
    "gm_vals = gm_vals[np.isfinite(gm_vals)]\n",
    "\n",
    "# Means\n",
    "wm_mean = np.mean(wm_vals)\n",
    "gm_mean = np.mean(gm_vals)\n",
    "mean_diff = gm_mean - wm_mean  # Substract WM because it should always be negative"
   ]
  },
  {
   "cell_type": "code",
   "execution_count": 16,
   "id": "1530b404",
   "metadata": {},
   "outputs": [
    {
     "name": "stdout",
     "output_type": "stream",
     "text": [
      "WM Mean: -0.0023, GM Mean: 0.0113, Mean Difference (GM - WM): 0.0136\n"
     ]
    }
   ],
   "source": [
    "print(f\"WM Mean: {wm_mean:.4f}, GM Mean: {gm_mean:.4f}, Mean Difference (GM - WM): {mean_diff:.4f}\")"
   ]
  },
  {
   "cell_type": "code",
   "execution_count": 8,
   "id": "69212bd0",
   "metadata": {},
   "outputs": [
    {
     "name": "stdout",
     "output_type": "stream",
     "text": [
      "WM voxel count: 2252\n",
      "GM voxel count: 477\n"
     ]
    }
   ],
   "source": [
    "print(\"WM voxel count:\", wm_vals.size)\n",
    "print(\"GM voxel count:\", gm_vals.size)"
   ]
  },
  {
   "cell_type": "markdown",
   "id": "af970595",
   "metadata": {},
   "source": [
    "Not a big difference in voxel counts indicates that there may not be big imbalance (and if there is, this may not be why)"
   ]
  },
  {
   "cell_type": "code",
   "execution_count": 9,
   "id": "4a39322d",
   "metadata": {},
   "outputs": [
    {
     "name": "stdout",
     "output_type": "stream",
     "text": [
      "WM variance: 0.0001358158286193931\n",
      "GM variance: 0.00013371472459775666\n"
     ]
    }
   ],
   "source": [
    "print(\"WM variance:\", np.var(wm_vals))\n",
    "print(\"GM variance:\", np.var(gm_vals))"
   ]
  },
  {
   "cell_type": "markdown",
   "id": "3b901f73",
   "metadata": {},
   "source": [
    "Nonzero viarance is good, also variance is similar which indicates that independendent t-test is a good fit :)"
   ]
  },
  {
   "cell_type": "code",
   "execution_count": 10,
   "id": "d81c59e9",
   "metadata": {},
   "outputs": [
    {
     "name": "stdout",
     "output_type": "stream",
     "text": [
      "NaNs in WM: 0\n",
      "NaNs in GM: 0\n",
      "Infs in WM: 0\n",
      "Infs in GM: 0\n"
     ]
    }
   ],
   "source": [
    "# Check no Nans, because this messes up the stats\n",
    "print(\"NaNs in WM:\", np.isnan(wm_vals).sum())\n",
    "print(\"NaNs in GM:\", np.isnan(gm_vals).sum())\n",
    "print(\"Infs in WM:\", np.isinf(wm_vals).sum())\n",
    "print(\"Infs in GM:\", np.isinf(gm_vals).sum())\n"
   ]
  },
  {
   "cell_type": "code",
   "execution_count": null,
   "id": "e8984ba5",
   "metadata": {},
   "outputs": [],
   "source": [
    "# Just in case remove NaN/inf values again\n",
    "wm_vals_clean = wm_vals[np.isfinite(wm_vals)]\n",
    "gm_vals_clean = gm_vals[np.isfinite(gm_vals)]"
   ]
  },
  {
   "cell_type": "code",
   "execution_count": 15,
   "id": "690db438",
   "metadata": {},
   "outputs": [
    {
     "name": "stdout",
     "output_type": "stream",
     "text": [
      "T-statistic: -23.3443, p-value: 1.8610e-89\n"
     ]
    }
   ],
   "source": [
    "t_stat, p_val = ttest_ind(wm_vals_clean, gm_vals_clean, equal_var=False)\n",
    "print(f\"T-statistic: {t_stat:.4f}, p-value: {p_val:.4e}\")"
   ]
  },
  {
   "cell_type": "code",
   "execution_count": 13,
   "id": "ea798607",
   "metadata": {},
   "outputs": [
    {
     "name": "stdout",
     "output_type": "stream",
     "text": [
      "Mann-Whitney U statistic: 208875.0000, p-value: 7.1129e-98\n"
     ]
    }
   ],
   "source": [
    "from scipy.stats import mannwhitneyu\n",
    "\n",
    "stat, p_val = mannwhitneyu(wm_vals, gm_vals, alternative='two-sided')\n",
    "print(f\"Mann-Whitney U statistic: {stat:.4f}, p-value: {p_val:.4e}\")\n"
   ]
  },
  {
   "cell_type": "markdown",
   "id": "2bad3862",
   "metadata": {},
   "source": [
    "### Just in case you want to do the statistical test manually"
   ]
  },
  {
   "cell_type": "code",
   "execution_count": 17,
   "id": "02406e88",
   "metadata": {},
   "outputs": [],
   "source": [
    "# Rememmber that s^2 is the sample variance we calculated with np.var()\n",
    "x1_mean = -0.0023\n",
    "x2_mean = 0.0113\n",
    "s1_sq = 0.0001358\n",
    "s2_sq = 0.0001337\n",
    "n1 = 2252\n",
    "n2 = 477"
   ]
  },
  {
   "cell_type": "code",
   "execution_count": 18,
   "id": "33d1cf0b",
   "metadata": {},
   "outputs": [
    {
     "name": "stdout",
     "output_type": "stream",
     "text": [
      "t-statistic: -23.3034\n",
      "Degrees of freedom: 696.03\n"
     ]
    }
   ],
   "source": [
    "diff = x1_mean - x2_mean\n",
    "se = np.sqrt(s1_sq / n1 + s2_sq / n2)\n",
    "t_stat = diff / se\n",
    "\n",
    "# Degrees of freedom\n",
    "numer = (s1_sq / n1 + s2_sq / n2)**2\n",
    "denom = ( (s1_sq / n1)**2 / (n1 - 1) ) + ( (s2_sq / n2)**2 / (n2 - 1) )\n",
    "df = numer / denom\n",
    "\n",
    "print(f\"t-statistic: {t_stat:.4f}\")\n",
    "print(f\"Degrees of freedom: {df:.2f}\")"
   ]
  },
  {
   "cell_type": "code",
   "execution_count": 20,
   "id": "b6ea3ccb",
   "metadata": {},
   "outputs": [
    {
     "name": "stdout",
     "output_type": "stream",
     "text": [
      "Two-tailed p-value: 0.0\n"
     ]
    }
   ],
   "source": [
    "from scipy.stats import t\n",
    "\n",
    "# t_stat and df from previous calculation\n",
    "t_stat_abs = abs(t_stat)  # use absolute value for two-tailed test\n",
    "\n",
    "# Two-tailed p-value\n",
    "p_val = 2 * (1 - t.cdf(t_stat_abs, df))\n",
    "\n",
    "print(f\"Two-tailed p-value: {p_val}\")"
   ]
  }
 ],
 "metadata": {
  "kernelspec": {
   "display_name": "calipso",
   "language": "python",
   "name": "python3"
  },
  "language_info": {
   "codemirror_mode": {
    "name": "ipython",
    "version": 3
   },
   "file_extension": ".py",
   "mimetype": "text/x-python",
   "name": "python",
   "nbconvert_exporter": "python",
   "pygments_lexer": "ipython3",
   "version": "3.13.1"
  }
 },
 "nbformat": 4,
 "nbformat_minor": 5
}
