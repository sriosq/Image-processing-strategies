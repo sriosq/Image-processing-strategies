{
 "cells": [
  {
   "cell_type": "code",
   "execution_count": 2,
   "metadata": {},
   "outputs": [],
   "source": [
    "import numpy as np\n",
    "import pandas as pd\n",
    "import seaborn as sns"
   ]
  },
  {
   "cell_type": "code",
   "execution_count": 3,
   "metadata": {},
   "outputs": [],
   "source": [
    "import matplotlib.pyplot as plt"
   ]
  },
  {
   "cell_type": "markdown",
   "metadata": {},
   "source": [
    "# <span style=\"color:#FFCC80\"> Swiss in vivo processing </span> </br>\n",
    "Compare and analyze if using optimized parameters improves or deteriorates the final chi maps </br>\n",
    "\n",
    "Keywords: </br>\n",
    "* sw = slicewise\n",
    "* pp = pipeline"
   ]
  },
  {
   "cell_type": "code",
   "execution_count": 2,
   "metadata": {},
   "outputs": [],
   "source": [
    "# Working on MAC computer:\n",
    "# Load metric data\n",
    "sw_def_pp_gm_PDF_iLSQR = pd.read_csv(r\"/Users/soothsayer7/msc_rios/msc_data_mac_processing/may_2025_mac_processing/BGFR_to_Chimap/def_PDF/chimap_def_iLSQR/chi_slicewise_mask_gm.csv\")\n",
    "sw_def_pp_wm_PDF_iLSQR = pd.read_csv(r\"/Users/soothsayer7/msc_rios/msc_data_mac_processing/may_2025_mac_processing/BGFR_to_Chimap/def_PDF/chimap_def_iLSQR/chi_slicewise_mask_wm.csv\")\n",
    "\n",
    "sw_opt_pp_gm_PDF_iLSQR = pd.read_csv(r\"/Users/soothsayer7/msc_rios/msc_data_mac_processing/may_2025_mac_processing/BGFR_to_Chimap/opt_PDF/Chimap_opt_iLSQR/chi_slicewise_mask_gm.csv\")\n",
    "sw_opt_pp_wm_PDF_iLSQR = pd.read_csv(r\"/Users/soothsayer7/msc_rios/msc_data_mac_processing/may_2025_mac_processing/BGFR_to_Chimap/opt_PDF/Chimap_opt_iLSQR/chi_slicewise_mask_wm.csv\")\n"
   ]
  },
  {
   "cell_type": "code",
   "execution_count": 3,
   "metadata": {},
   "outputs": [
    {
     "name": "stdout",
     "output_type": "stream",
     "text": [
      "Index(['Timestamp', 'SCT Version', 'Filename', 'Slice (I->S)', 'VertLevel',\n",
      "       'DistancePMJ', 'Label', 'Size [vox]', 'WA()', 'STD()'],\n",
      "      dtype='object')\n"
     ]
    }
   ],
   "source": [
    "print(sw_opt_pp_wm_PDF_iLSQR.columns)"
   ]
  },
  {
   "cell_type": "markdown",
   "metadata": {},
   "source": [
    "# <span style=\"color:#CE93D8\"> Spinal Cord Gray matter to White matter ratio </span> </br>"
   ]
  },
  {
   "cell_type": "code",
   "execution_count": 12,
   "metadata": {},
   "outputs": [],
   "source": [
    "sw_def_pp_gm_score = sw_def_pp_gm_PDF_iLSQR.rename(columns={\"Slice (I->S)\": \"Slice\", \"WA()\": \"GM_WA\", \"STD()\": \"GM_STD\"})\n",
    "sw_def_pp_wm_score = sw_def_pp_wm_PDF_iLSQR.rename(columns={\"Slice (I->S)\": \"Slice\", \"WA()\": \"WM_WA\", \"STD()\": \"WM_STD\"})"
   ]
  },
  {
   "cell_type": "code",
   "execution_count": 23,
   "metadata": {},
   "outputs": [
    {
     "name": "stdout",
     "output_type": "stream",
     "text": [
      "    Slice     GM_WA     WM_WA    GM_STD    WM_STD  GM_WM_Score\n",
      "12     12  0.006628 -0.004349  0.006272  0.009859     0.939340\n",
      "15     15  0.001795 -0.003321  0.003534  0.005764     0.756739\n",
      "14     14  0.002628 -0.004732  0.007296  0.010307     0.582841\n"
     ]
    }
   ],
   "source": [
    "score_merged = pd.merge(sw_def_pp_gm_score, sw_def_pp_wm_score, on=\"Slice\")\n",
    "\n",
    "# Compute separability score\n",
    "score_merged[\"GM_WM_Score\"] = np.abs(score_merged[\"GM_WA\"] - score_merged[\"WM_WA\"]) / np.sqrt(score_merged[\"GM_STD\"]**2 + score_merged[\"WM_STD\"]**2)\n",
    "\n",
    "# Sort and view\n",
    "score_merged_sorted = score_merged.sort_values(\"GM_WM_Score\", ascending=False)\n",
    "print(score_merged_sorted[[\"Slice\", \"GM_WA\", \"WM_WA\", \"GM_STD\", \"WM_STD\", \"GM_WM_Score\"]].head(3))"
   ]
  },
  {
   "cell_type": "code",
   "execution_count": 17,
   "metadata": {},
   "outputs": [],
   "source": [
    "sw_opt_pp_gm_score = sw_opt_pp_gm_PDF_iLSQR.rename(columns={\"Slice (I->S)\": \"Slice\", \"WA()\": \"GM_WA\", \"STD()\": \"GM_STD\"})\n",
    "sw_opt_pp_wm_score = sw_opt_pp_wm_PDF_iLSQR.rename(columns={\"Slice (I->S)\": \"Slice\", \"WA()\": \"WM_WA\", \"STD()\": \"WM_STD\"})"
   ]
  },
  {
   "cell_type": "code",
   "execution_count": 22,
   "metadata": {},
   "outputs": [
    {
     "name": "stdout",
     "output_type": "stream",
     "text": [
      "    Slice     GM_WA     WM_WA    GM_STD    WM_STD  GM_WM_Score\n",
      "12     12  0.007959 -0.006987  0.009289  0.014287     0.877017\n",
      "8       8  0.007478 -0.004834  0.008513  0.018349     0.608656\n",
      "14     14  0.001657 -0.007072  0.008364  0.013150     0.560122\n"
     ]
    }
   ],
   "source": [
    "score_opt_merged = pd.merge(sw_opt_pp_gm_score, sw_opt_pp_wm_score, on=\"Slice\")\n",
    "\n",
    "# Compute separability score\n",
    "score_opt_merged[\"GM_WM_Score\"] = np.abs(score_opt_merged[\"GM_WA\"] - score_opt_merged[\"WM_WA\"]) / np.sqrt(score_opt_merged[\"GM_STD\"]**2 + score_opt_merged[\"WM_STD\"]**2)\n",
    "\n",
    "# Sort and view\n",
    "score_opt_merged_sorted = score_opt_merged.sort_values(\"GM_WM_Score\", ascending=False)\n",
    "print(score_opt_merged_sorted[[\"Slice\", \"GM_WA\", \"WM_WA\", \"GM_STD\", \"WM_STD\", \"GM_WM_Score\"]].head(3))"
   ]
  },
  {
   "cell_type": "code",
   "execution_count": null,
   "metadata": {},
   "outputs": [],
   "source": []
  },
  {
   "cell_type": "markdown",
   "metadata": {},
   "source": [
    "## <span style=\"color:#FF5722\"> Slicewise metrics </span> </br>"
   ]
  },
  {
   "cell_type": "code",
   "execution_count": 10,
   "metadata": {},
   "outputs": [],
   "source": [
    "gm_df = sw_opt_pp_gm_PDF_iLSQR.rename(columns={\"Slice (I->S)\": \"Slice\", \"WA()\": \"WA\"})\n",
    "wm_df = sw_opt_pp_wm_PDF_iLSQR.rename(columns={\"Slice (I->S)\": \"Slice\", \"WA()\": \"WA\"})\n",
    "\n",
    "# Add tissue labels\n",
    "gm_df[\"Tissue\"] = \"GM\"\n",
    "wm_df[\"Tissue\"] = \"WM\"\n",
    "\n",
    "# Combine both DataFrames\n",
    "violin_df = pd.concat([gm_df[[\"Slice\", \"WA\", \"Tissue\"]],\n",
    "                       wm_df[[\"Slice\", \"WA\", \"Tissue\"]]])\n",
    "\n",
    "# Plot violin\n",
    "plt.figure(figsize=(14, 6))\n",
    "sns.violinplot(x=\"Slice\", y=\"WA\", hue=\"Tissue\", data=violin_df, split=True)\n",
    "\n",
    "plt.title(\"Slice-wise Violin Plot of GM and WM Susceptibility (PDF-iLSQR)\")\n",
    "plt.xlabel(\"Slice (I→S)\")\n",
    "plt.ylabel(\"WA (Susceptibility)\")\n",
    "plt.xticks(rotation=90)\n",
    "plt.tight_layout()\n",
    "plt.show()"
   ]
  }
 ],
 "metadata": {
  "kernelspec": {
   "display_name": "calipso",
   "language": "python",
   "name": "python3"
  },
  "language_info": {
   "codemirror_mode": {
    "name": "ipython",
    "version": 3
   },
   "file_extension": ".py",
   "mimetype": "text/x-python",
   "name": "python",
   "nbconvert_exporter": "python",
   "pygments_lexer": "ipython3",
   "version": "3.13.1"
  }
 },
 "nbformat": 4,
 "nbformat_minor": 2
}
