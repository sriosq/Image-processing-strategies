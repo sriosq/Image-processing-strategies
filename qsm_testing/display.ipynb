{
 "cells": [
  {
   "cell_type": "code",
   "execution_count": 1,
   "id": "e361ba8c-7b2e-40f3-a20e-b0c5a8e9ce45",
   "metadata": {},
   "outputs": [],
   "source": [
    "import numpy\n",
    "import nibabel as nib\n",
    "import os\n",
    "import matplotlib.pyplot as plt"
   ]
  },
  {
   "cell_type": "markdown",
   "id": "f90d6849-55f1-4310-8a57-f6f267f2c2ca",
   "metadata": {},
   "source": [
    "# Result display - Theory"
   ]
  },
  {
   "cell_type": "markdown",
   "id": "2b047e6d-c72c-43f3-9bc8-a055e00135f2",
   "metadata": {},
   "source": [
    "This section will guide you through proper image result display/ </br>\n",
    "For the purpose of QSM testing we have 3 important steps to show </br>\n",
    "I. Phase unwrapping: Complex MR signal is composed of Magnitude and Phase. MR phase is proportional to local deviations in the static magnetic field (Hz). Measured phase is a projection of the true phase into the 2pi range. \n",
    "\n"
   ]
  },
  {
   "cell_type": "code",
   "execution_count": 2,
   "id": "6d29409a",
   "metadata": {},
   "outputs": [],
   "source": [
    "# Selecting slice \n",
    "def display_nifti_slice(filepath, slice_number, cbr_title, inf_limit = None, sup_limit = None, xlim = None, ylim = None, cmap = \"gray\"):\n",
    "    # Load the NIfTI image\n",
    "    img = nib.load(filepath)\n",
    "    \n",
    "    # Get the data as a numpy array\n",
    "    img_data = img.get_fdata()\n",
    "    \n",
    "    # Check if the specified slice number is within bounds\n",
    "    if slice_number < 0 or slice_number >= img_data.shape[2]:\n",
    "        print(\"Slice number out of range. Please select a valid slice number.\")\n",
    "        return\n",
    "\n",
    "    # Select the specified slice\n",
    "    slice_data = img_data[:, :, slice_number]\n",
    "    \n",
    "    # Display the slice\n",
    "    plt.figure(figsize=(6, 6))\n",
    "    if inf_limit is None and sup_limit is None:\n",
    "        plt.imshow(slice_data.T, cmap=cmap, origin='lower')\n",
    "    else:\n",
    "        plt.imshow(slice_data.T, cmap=cmap, origin='lower', vmin=inf_limit, vmax=sup_limit)\n",
    "   \n",
    "    cbr= plt.colorbar()\n",
    "    cbr.set_label(cbr_title, rotation = 0, labelpad = 15, fontsize = 15)\n",
    "    slice_number += 1\n",
    "    plt.title(f'Slice {slice_number}')\n",
    "\n",
    "    if xlim is not None:\n",
    "        # xlim is a tuple with (xmin,xmax)\n",
    "        plt.xlim(xlim)\n",
    "\n",
    "    if ylim is not None:\n",
    "        # xlim is a tuple with (xmin,xmax)\n",
    "        plt.ylim(ylim)\n",
    "\n",
    "    plt.axis('off')\n",
    "    plt.show()\n",
    "\n"
   ]
  },
  {
   "cell_type": "code",
   "execution_count": 6,
   "id": "0f4dd665",
   "metadata": {},
   "outputs": [
    {
     "data": {
      "image/png": "[encoded data removed]",
      "text/plain": [
       "<Figure size 600x600 with 2 Axes>"
      ]
     },
     "metadata": {},
     "output_type": "display_data"
    }
   ],
   "source": [
    " # Select a long path outside of this folder\n",
    "long_path = \"C:/Users/User/msc_project/Image-processing-strategies/compare_fieldmap/data/lung_fitting_project/manually_simulated/ismrm_2025_fms/quick_AMU/db0_AMU_VC_fm_ppm.nii.gz\"\n",
    " \n",
    "display_nifti_slice(long_path, 73, 'ppm', inf_limit=-9.09, sup_limit= -9.03, cmap = 'jet')\n",
    "\n",
    "\n",
    "#display_nifti_slice(path_to_img, 73, 'Hz', inf_limit=-400, sup_limit=400, cmap = 'bwr')\n",
    "# The number 73 is an example of slice selection, which is the \"z\" dimension to show an axial slice"
   ]
  },
  {
   "cell_type": "markdown",
   "id": "6ae3211b",
   "metadata": {},
   "source": [
    "# Converting Perfect Local field [ppm] to Hz!"
   ]
  },
  {
   "cell_type": "code",
   "execution_count": 12,
   "id": "d3ac51eb",
   "metadata": {},
   "outputs": [],
   "source": [
    "# Load the ppm local field\n",
    "local_field_ppm_img = nib.load(\"E:/msc_data/sc_qsm/data/wb/data/local_field_gold_crop.nii.gz\")\n",
    "local_field_ppm_data = local_field_ppm_img.get_fdata()\n",
    "local_field_Hz_data = 3 * 42.58 * local_field_ppm_data\n",
    "# Now we remove the Hz value of sc_csf in orther to get the local difference between sc_wm and sc_gm\n",
    "sub_csf_Hz = -603.6\n",
    "local_field_Hz_data = local_field_Hz_data - sub_csf_Hz\n",
    "\n",
    "# New image for this local field\n",
    "local_field_Hz_img = nib.Nifti1Image(local_field_Hz_data, affine = local_field_ppm_img.affine)\n",
    "\n",
    "nib.save(local_field_Hz_img,\"E:/msc_data/sc_qsm/data/wb/data/local_field_Hz_gold_crop.nii.gz\")"
   ]
  },
  {
   "cell_type": "markdown",
   "id": "0f13d27a",
   "metadata": {},
   "source": [
    "# After Chimaps are calculated, we need to add the Chi of CSF to have comparable to initial ground truth ChiMap </br>\n",
    "This assumes your chimap has been reference to the average of a Spinal Cord mask, therefore adding chi of csf manually retrieves image for comparison to Ground Truth"
   ]
  },
  {
   "cell_type": "code",
   "execution_count": 8,
   "id": "80be8b78",
   "metadata": {},
   "outputs": [],
   "source": [
    "chimap_path = \"E:/msc_data/sc_qsm/data/cropped/piece-wise/simulation/TE_4_4_24/dipole_inversion_tests/TKD/test1_def_thr_15/brain_mask/PDF_LocalField/test1_pdf_default/Sepia_Chimap.nii.gz\"\n",
    "chimap_img = nib.load(chimap_path)\n",
    "\n",
    "chimap_data = chimap_img.get_fdata()\n",
    "\n",
    "# Now add the chi value everywhere of CSF\n",
    "\n",
    "chimap_mod = chimap_data - 9.05\n",
    "# Should save in the same folder with mark like moded or mod_csf\n",
    "new_path = \"E:/msc_data/sc_qsm/data/cropped/piece-wise/simulation/TE_4_4_24/dipole_inversion_tests/TKD/test1_def_thr_15/brain_mask/PDF_LocalField/test1_pdf_default/Chimap_Mod_CSF.nii.gz\"\n",
    "chi_mod_img = nib.Nifti1Image(chimap_mod, affine = chimap_img.affine)\n",
    "nib.save(chi_mod_img, new_path)"
   ]
  }
 ],
 "metadata": {
  "kernelspec": {
   "display_name": "Python 3",
   "language": "python",
   "name": "python3"
  },
  "language_info": {
   "codemirror_mode": {
    "name": "ipython",
    "version": 3
   },
   "file_extension": ".py",
   "mimetype": "text/x-python",
   "name": "python",
   "nbconvert_exporter": "python",
   "pygments_lexer": "ipython3",
   "version": "3.12.5"
  }
 },
 "nbformat": 4,
 "nbformat_minor": 5
}
