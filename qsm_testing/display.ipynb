{
 "cells": [
  {
   "cell_type": "code",
   "execution_count": 1,
   "id": "e361ba8c-7b2e-40f3-a20e-b0c5a8e9ce45",
   "metadata": {},
   "outputs": [],
   "source": [
    "import numpy\n",
    "import nibabel as nib\n",
    "import os\n",
    "import matplotlib.pyplot as plt"
   ]
  },
  {
   "cell_type": "markdown",
   "id": "f90d6849-55f1-4310-8a57-f6f267f2c2ca",
   "metadata": {},
   "source": [
    "# Result display - Theory"
   ]
  },
  {
   "cell_type": "markdown",
   "id": "2b047e6d-c72c-43f3-9bc8-a055e00135f2",
   "metadata": {},
   "source": [
    "This section will guide you through proper image result display/ </br>\n",
    "For the purpose of QSM testing we have 3 important steps to show </br>\n",
    "I. Phase unwrapping: Complex MR signal is composed of Magnitude and Phase. MR phase is proportional to local deviations in the static magnetic field (Hz). Measured phase is a projection of the true phase into the 2pi range. \n",
    "\n"
   ]
  },
  {
   "cell_type": "code",
   "execution_count": 2,
   "id": "6d29409a",
   "metadata": {},
   "outputs": [],
   "source": [
    "# Selecting slice \n",
    "def display_nifti_slice(filepath, slice_number, cbr_title, inf_limit = None, sup_limit = None, xlim = None, ylim = None, ):\n",
    "    # Load the NIfTI image\n",
    "    img = nib.load(filepath)\n",
    "    \n",
    "    # Get the data as a numpy array\n",
    "    img_data = img.get_fdata()\n",
    "    \n",
    "    # Check if the specified slice number is within bounds\n",
    "    if slice_number < 0 or slice_number >= img_data.shape[2]:\n",
    "        print(\"Slice number out of range. Please select a valid slice number.\")\n",
    "        return\n",
    "\n",
    "    # Select the specified slice\n",
    "    slice_data = img_data[:, :, slice_number]\n",
    "    \n",
    "    # Display the slice\n",
    "    plt.figure(figsize=(6, 6))\n",
    "    if inf_limit is None and sup_limit is None:\n",
    "        plt.imshow(slice_data.T, cmap='gray', origin='lower')\n",
    "    else:\n",
    "        plt.imshow(slice_data.T, cmap='gray', origin='lower', vmin=inf_limit, vmax=sup_limit)\n",
    "   \n",
    "    cbr= plt.colorbar()\n",
    "    cbr.set_label(cbr_title, rotation = 0, labelpad = 15, fontsize = 15)\n",
    "    slice_number += 1\n",
    "    plt.title(f'Slice {slice_number}')\n",
    "\n",
    "    if xlim is not None:\n",
    "        # xlim is a tuple with (xmin,xmax)\n",
    "        plt.xlim(xlim)\n",
    "\n",
    "    if ylim is not None:\n",
    "        # xlim is a tuple with (xmin,xmax)\n",
    "        plt.ylim(ylim)\n",
    "\n",
    "    plt.axis('off')\n",
    "    plt.show()\n",
    "\n"
   ]
  },
  {
   "cell_type": "code",
   "execution_count": 8,
   "id": "085e6bab",
   "metadata": {},
   "outputs": [
    {
     "data": {
      "image/png": "[encoded data removed]",
      "text/plain": [
       "<Figure size 600x600 with 2 Axes>"
      ]
     },
     "metadata": {},
     "output_type": "display_data"
    }
   ],
   "source": [
    "# Select the parameters\n",
    "# Phase unwrapping:\n",
    "first_golden_path = \"output/1.phase_unwrap_sepia/trial3_nogauss_sc_mask/Sepia_fieldmap.nii.gz\"\n",
    "first_pathX = \"output/1.phase_unwrap_sepia/trialX_opt_w/GRAPHCUT/Sepia_fieldmap.nii.gz\"\n",
    "first_pathY = \"output/1.phase_unwrap_sepia/trialY_nonlinearfit/Laplacian_MEDI/Sepia_fieldmap.nii.gz\"\n",
    "\n",
    "# Background field removal\n",
    "second_golden_path = \"output/2.bgfr_sepia/trial6_nogauss_dilaSC_LBV/Sepia_localfield.nii.gz\"\n",
    "second_pathX = \"output/2.bgfr_sepia/trialX/with_MEDI_RG_FM/Sepia_localfield.nii.gz\"\n",
    "\n",
    "# Dipole inversion\n",
    "third_golden_path = \"\"\n",
    "third_pathX = \"\"\n",
    "third_pathy = \"\"\n",
    "\n",
    "# Defining square focusing on Spinal Cord\n",
    "xlim = (40,60)\n",
    "ylim = (10,40)\n",
    "# To select the titl of the colorbar remember:\n",
    "# For Fieldmaps and Local field the unit should be Hz\n",
    "# For QSM maps it should be in PPM\n",
    "cbr_name = 'Hz'\n",
    "\n",
    "############ ########## # ######### # ### ## ##  ##########################################################\n",
    "display_nifti_slice(second_golden_path, 100, cbr_name, inf_limit = -1.2, sup_limit = 6, xlim = xlim, ylim = ylim)\n",
    "# The value of the slice number is 1 less than what you see in ITK-snap"
   ]
  }
 ],
 "metadata": {
  "kernelspec": {
   "display_name": "Python 3 (ipykernel)",
   "language": "python",
   "name": "python3"
  },
  "language_info": {
   "codemirror_mode": {
    "name": "ipython",
    "version": 3
   },
   "file_extension": ".py",
   "mimetype": "text/x-python",
   "name": "python",
   "nbconvert_exporter": "python",
   "pygments_lexer": "ipython3",
   "version": "3.12.4"
  }
 },
 "nbformat": 4,
 "nbformat_minor": 5
}
