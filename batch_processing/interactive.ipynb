{
 "cells": [
  {
   "cell_type": "code",
   "execution_count": 2,
   "id": "e361ba8c-7b2e-40f3-a20e-b0c5a8e9ce45",
   "metadata": {},
   "outputs": [],
   "source": [
    "import numpy\n",
    "import nibabel as nib\n",
    "import os\n",
    "import matplotlib.pyplot as plt"
   ]
  },
  {
   "cell_type": "markdown",
   "id": "f90d6849-55f1-4310-8a57-f6f267f2c2ca",
   "metadata": {},
   "source": [
    "# Batch processing MRI data with Total Segmentator MRI \n",
    "\n",
    "First we need to conert all the dicom files to nifti format. Usually all the data will be uploaded to the D: drive at UNF data folder location. </br>\n",
    "Then select the date the data was acquired in format \"dd_mm_YYYY\" and ready!"
   ]
  },
  {
   "cell_type": "code",
   "execution_count": 9,
   "id": "66a018f3",
   "metadata": {},
   "outputs": [
    {
     "data": {
      "text/plain": [
       "'D:\\\\UNF_data\\\\23_08_2024\\\\db0_030'"
      ]
     },
     "execution_count": 9,
     "metadata": {},
     "output_type": "execute_result"
    }
   ],
   "source": [
    "path_to_database = \"D:\\\\UNF_data\"\n",
    "date = \"23_08_2024\"\n",
    "title = \"db0_030\"\n",
    "path = os.path.join(path_to_database,date,title)\n",
    "path"
   ]
  },
  {
   "cell_type": "code",
   "execution_count": 12,
   "id": "04c04ad7",
   "metadata": {},
   "outputs": [
    {
     "name": "stdout",
     "output_type": "stream",
     "text": [
      "D:\\UNF_data\\23_08_2024\\db0_030\n"
     ]
    },
    {
     "name": "stderr",
     "output_type": "stream",
     "text": [
      "c:\\Users\\User\\miniconda3\\envs\\mrsim\\Lib\\site-packages\\IPython\\core\\magics\\osm.py:417: UserWarning: This is now an optional IPython functionality, setting dhist requires you to install the `pickleshare` library.\n",
      "  self.shell.db['dhist'] = compress_dhist(dhist)[-100:]\n"
     ]
    },
    {
     "name": "stdout",
     "output_type": "stream",
     "text": [
      " Volume in drive D is RiverVault\n",
      " Volume Serial Number is AE9D-D332\n",
      "\n",
      " Directory of D:\\UNF_data\\23_08_2024\\dB0_030\n",
      "\n",
      "2024-08-24  12:39 PM    <DIR>          .\n",
      "2024-08-24  11:17 AM    <DIR>          ..\n",
      "2024-08-23  03:41 PM    <DIR>          01-localizer_ISO_quick\n",
      "2024-08-23  03:42 PM    <DIR>          02-localizer_ISO_quick\n",
      "2024-08-23  03:42 PM    <DIR>          03-cervical_F_220mm\n",
      "2024-08-23  03:41 PM    <DIR>          04-thoracic_F_430mm\n",
      "2024-08-23  03:41 PM    <DIR>          05-lumbar_F_646mm\n",
      "2024-08-23  03:42 PM    <DIR>          06-Aspire_P_ASPIRE_brain_three_echo\n",
      "2024-08-23  03:42 PM    <DIR>          07-ASPIRE_brain_three_echo\n",
      "2024-08-23  03:42 PM    <DIR>          08-Aspire_P_ASPIRE_cervical_three_echo\n",
      "2024-08-23  03:42 PM    <DIR>          09-ASPIRE_cervical_three_echo\n",
      "2024-08-23  03:42 PM    <DIR>          10-Aspire_P_ASPIRE_cervical_three_echo_2\n",
      "2024-08-23  03:42 PM    <DIR>          11-ASPIRE_cervical_three_echo_2\n",
      "2024-08-23  03:42 PM    <DIR>          12-Aspire_P_ASPIRE_thoracic_three_echo\n",
      "2024-08-23  03:42 PM    <DIR>          13-ASPIRE_thoracic_three_echo\n",
      "2024-08-23  03:42 PM    <DIR>          14-Aspire_P_ASPIRE_lumbar_three_echo\n",
      "2024-08-23  03:42 PM    <DIR>          15-ASPIRE_lumbar_three_echo\n",
      "2024-08-23  03:42 PM    <DIR>          16-t1_petra_tra_brain\n",
      "2024-08-23  03:42 PM    <DIR>          17-t1_petra_tra_cervical\n",
      "2024-08-23  03:42 PM    <DIR>          18-T1w_MP2RAGE_brain\n",
      "2024-08-23  03:41 PM    <DIR>          19-T1w_MP2RAGE_cervical-RESP\n",
      "2024-08-23  03:41 PM    <DIR>          20-T1w_MP2RAGE_cervical-RESP\n",
      "2024-08-23  03:42 PM    <DIR>          21-T1w_MP2RAGE_cervical\n",
      "2024-08-23  03:41 PM    <DIR>          22-T1w_MP2RAGE_thoracic-RESP\n",
      "2024-08-24  12:48 PM    <DIR>          23-_MPR_Range_\n",
      "2024-08-23  03:42 PM    <DIR>          24-_MPR_Range_1__\n",
      "2024-08-23  03:42 PM    <DIR>          25-T1w_MP2RAGE_thoracic\n",
      "2024-08-23  03:42 PM    <DIR>          26-SPINE\n",
      "               0 File(s)              0 bytes\n",
      "              28 Dir(s)  851,271,413,760 bytes free\n"
     ]
    }
   ],
   "source": [
    "%cd D:\\\\UNF_data\\\\23_08_2024\\\\db0_030\n",
    "%ls"
   ]
  },
  {
   "cell_type": "code",
   "execution_count": null,
   "id": "53eaae56",
   "metadata": {},
   "outputs": [],
   "source": [
    "# Use the command from dcmtonix\n",
    "!dcm2niix -z y -f %p_%t_%s folder_of_acquisition"
   ]
  }
 ],
 "metadata": {
  "kernelspec": {
   "display_name": "Python 3 (ipykernel)",
   "language": "python",
   "name": "python3"
  },
  "language_info": {
   "codemirror_mode": {
    "name": "ipython",
    "version": 3
   },
   "file_extension": ".py",
   "mimetype": "text/x-python",
   "name": "python",
   "nbconvert_exporter": "python",
   "pygments_lexer": "ipython3",
   "version": "3.12.4"
  }
 },
 "nbformat": 4,
 "nbformat_minor": 5
}
