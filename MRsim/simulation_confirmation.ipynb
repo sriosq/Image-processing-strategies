{
 "cells": [
  {
   "cell_type": "markdown",
   "metadata": {},
   "source": [
    "# <span style=\"color:#EE6594\"> *Calculating compontent of exponential manually* </span> </br> \n",
    "\n",
    "We want to confirm of the exponential decay makes sense"
   ]
  },
  {
   "cell_type": "code",
   "execution_count": 1,
   "metadata": {},
   "outputs": [],
   "source": [
    "import numpy as np"
   ]
  },
  {
   "cell_type": "code",
   "execution_count": 29,
   "metadata": {},
   "outputs": [],
   "source": [
    "def single_tissue_s0_calculator(alpha, TR, T1, T2s, TE):\n",
    "    S0_a = np.sin(alpha)\n",
    "    S0_b_num = 1 - np.exp(-TR/T1)\n",
    "    S0_b_den = 1 - np.cos(alpha)*np.exp(-TR/T1)\n",
    "    S0_b = S0_b_num/S0_b_den\n",
    "    fakeB0effect = 1\n",
    "    S0_c = np.exp(-TE*1e3/T2s) * 1j* np.exp(TE*fakeB0effect*1e-6)\n",
    "\n",
    "    S0_final = S0_a * S0_b * S0_c\n",
    "    print(\"With fake B0 effect, the magnitude of S0 should be: \", np.abs(S0_final))\n",
    "    return np.abs(S0_final)\n"
   ]
  },
  {
   "cell_type": "markdown",
   "metadata": {},
   "source": [
    "Using Spinal Cord white matter for calculation"
   ]
  },
  {
   "cell_type": "code",
   "execution_count": 32,
   "metadata": {},
   "outputs": [
    {
     "name": "stdout",
     "output_type": "stream",
     "text": [
      "With fake B0 effect, the magnitude of S0 should be:  0.06837215298554856\n"
     ]
    }
   ],
   "source": [
    "# For ideal first echo:\n",
    "ideal_te1_wm = single_tissue_s0_calculator(17.77, 45, 857, 38.65, 0.00686)"
   ]
  },
  {
   "cell_type": "code",
   "execution_count": 33,
   "metadata": {},
   "outputs": [
    {
     "name": "stdout",
     "output_type": "stream",
     "text": [
      "With fake B0 effect, the magnitude of S0 should be:  0.014821852283790323\n"
     ]
    }
   ],
   "source": [
    "# For swiss first echo:\n",
    "swiss_te1_wm = single_tissue_s0_calculator(44, 926, 857, 38.65, 0.00686)"
   ]
  },
  {
   "cell_type": "code",
   "execution_count": 8,
   "metadata": {},
   "outputs": [
    {
     "data": {
      "text/plain": [
       "np.float64(-6.9532718087831205)"
      ]
     },
     "execution_count": 8,
     "metadata": {},
     "output_type": "execute_result"
    }
   ],
   "source": [
    "# Relation ship:\n",
    "ideal_te1_wm/swiss_te1_wm\n"
   ]
  }
 ],
 "metadata": {
  "kernelspec": {
   "display_name": "chiCalc",
   "language": "python",
   "name": "python3"
  },
  "language_info": {
   "codemirror_mode": {
    "name": "ipython",
    "version": 3
   },
   "file_extension": ".py",
   "mimetype": "text/x-python",
   "name": "python",
   "nbconvert_exporter": "python",
   "pygments_lexer": "ipython3",
   "version": "3.13.2"
  }
 },
 "nbformat": 4,
 "nbformat_minor": 2
}
