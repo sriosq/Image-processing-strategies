{
 "cells": [
  {
   "cell_type": "code",
   "execution_count": 1,
   "id": "dd40cd69-0c38-4aa0-96fd-acbab60a968e",
   "metadata": {},
   "outputs": [],
   "source": [
    "import numpy as np\n",
    "import nibabel as nib\n",
    "import os\n",
    "import matplotlib.pyplot as plt\n",
    "from math import pi\n",
    "from utils.sim_functions import optimize_measurement\n",
    "from utils.sim_functions import complete_measurement"
   ]
  },
  {
   "cell_type": "markdown",
   "id": "9f2f498b",
   "metadata": {},
   "source": [
    "# <span style=\"color:green\"> Simple simulation T2* no TR no T1 </br>\n",
    "\n",
    "In this inital notebook, the simulation uses the output from Tissue to MR converter with singular values for every label. </br>\n",
    "_Echo time_ and _flip angle_ not selected for anything in particular. </br>\n",
    "The aim of this notebook is to guide the user on how to use the simulation functions and the images required to run the simulator. </br>\n",
    "The final outcome will be a **T2w image** as this code uses a short version of the signal equation that assumes the repetition time is long enough for the longitudinal magnetization to fully recover."
   ]
  },
  {
   "cell_type": "code",
   "execution_count": 2,
   "id": "17b0f0d3-cfa8-4b50-8ac3-80c586c5e457",
   "metadata": {},
   "outputs": [
    {
     "data": {
      "text/plain": [
       "array([512, 512, 828])"
      ]
     },
     "execution_count": 2,
     "metadata": {},
     "output_type": "execute_result"
    }
   ],
   "source": [
    "# Edit the echo time (or list of echo times) and the flip angle:\n",
    "TE_list = [0.008, 0.0095, 0.011, 0.0125, 0.014, 0.0155] # [seconds]\n",
    "flip_ang = 24\n",
    "# The last requirement for the code is the dimensions, which can be easily acquired from the volume you work with\n",
    "# The dimensions needed because we will create a 4D array, where we will store the echo time data and we want to maintain the initial 3D dimensions.\n",
    "# New MR simulation data folder will be in E:\n",
    "path_to_segmentations = \"E:/msc_data/sc_qsm/data/wb/data/ratatouille_corrected_pixels.nii.gz\"\n",
    "path_to_pd = \"E:/msc_data/sc_qsm/data/wb/output/qsm_wb_tsting_pd.nii.gz\"\n",
    "path_to_t2s = \"E:/msc_data/sc_qsm/data/wb/output/qsm_wb_tsting_t2s.nii.gz\"\n",
    "path_to_fm = \"E:/msc_data/sc_qsm/data/wb/output/qsm_wb_tsting_fm_ppm.nii.gz\"\n",
    "######### ####### # # ####### # # # # # # # # #### # # ### #\n",
    "segmentations_img = nib.load(path_to_segmentations)\n",
    "segmentations_data = segmentations_img.get_fdata()      \n",
    "dimensions = np.array(segmentations_data.shape)\n",
    "dimensions"
   ]
  },
  {
   "cell_type": "code",
   "execution_count": 7,
   "id": "802a6e81-c9f3-43a6-949e-d33fbe803ac6",
   "metadata": {},
   "outputs": [],
   "source": [
    "# Loading the Proton density and T2star volumes \n",
    "pd_img = nib.load(path_to_pd)\n",
    "pd_data = pd_img.get_fdata()\n",
    "t2s_img = nib.load(path_to_t2s)\n",
    "t2s_data = t2s_img.get_fdata()"
   ]
  },
  {
   "cell_type": "code",
   "execution_count": 8,
   "id": "d536d8f7",
   "metadata": {},
   "outputs": [],
   "source": [
    "# This is the outcome of giving the susceptibility phantom to Susceptibility to Fieldmap repo\n",
    "deltaB0_img = nib.load(path_to_fm)\n",
    "dB0_ppm_data = deltaB0_img.get_fdata()\n",
    "# Calculate dB0 in Hz, beccause external B0 FM should be in PPM\n",
    "#gamma = 267.52218744*1e6 # rad*Hz/Tesla\n",
    "#B0 = 3 # Tesla\n",
    "#dB0_Hz = (gamma / 2 * pi) * B0 * 1e-6 * dB0\n",
    "# Then convert dB0 in Tesla\n",
    "#db0_T = dB0_Hz /(gamma/(2*pi))\n",
    "fieldStrength = 3 # In Tesla\n"
   ]
  },
  {
   "cell_type": "code",
   "execution_count": 9,
   "id": "ed2c3e59",
   "metadata": {},
   "outputs": [
    {
     "name": "stdout",
     "output_type": "stream",
     "text": [
      "Starting optimize_measurement\n",
      "Processing TE[0] = 0.008\n",
      "Starting optimized_signal\n"
     ]
    },
    {
     "name": "stderr",
     "output_type": "stream",
     "text": [
      "c:\\Users\\User\\msc_project\\Image-processing-strategies\\MRsim\\utils\\sim_functions.py:120: RuntimeWarning: divide by zero encountered in divide\n",
      "  decay_gauss = np.exp(-te*1e3 / T2star_vol)\n"
     ]
    },
    {
     "name": "stdout",
     "output_type": "stream",
     "text": [
      "sin:  0.4067366430758002\n",
      "handedness=left\n",
      "Coefficient of phase factor:  -6.420532498559999j\n",
      "Finished optimized_signal\n",
      "mag shape: (512, 512, 828), phase_arr shape: (512, 512, 828)\n",
      "Processing TE[1] = 0.0095\n",
      "Starting optimized_signal\n",
      "sin:  0.4067366430758002\n",
      "handedness=left\n",
      "Coefficient of phase factor:  -7.624382342039999j\n",
      "Finished optimized_signal\n",
      "mag shape: (512, 512, 828), phase_arr shape: (512, 512, 828)\n",
      "Processing TE[2] = 0.011\n",
      "Starting optimized_signal\n",
      "sin:  0.4067366430758002\n",
      "handedness=left\n",
      "Coefficient of phase factor:  -8.828232185519997j\n",
      "Finished optimized_signal\n",
      "mag shape: (512, 512, 828), phase_arr shape: (512, 512, 828)\n",
      "Processing TE[3] = 0.0125\n",
      "Starting optimized_signal\n",
      "sin:  0.4067366430758002\n",
      "handedness=left\n",
      "Coefficient of phase factor:  -10.032082029j\n",
      "Finished optimized_signal\n",
      "mag shape: (512, 512, 828), phase_arr shape: (512, 512, 828)\n",
      "Processing TE[4] = 0.014\n",
      "Starting optimized_signal\n",
      "sin:  0.4067366430758002\n",
      "handedness=left\n",
      "Coefficient of phase factor:  -11.235931872479998j\n",
      "Finished optimized_signal\n",
      "mag shape: (512, 512, 828), phase_arr shape: (512, 512, 828)\n",
      "Processing TE[5] = 0.0155\n",
      "Starting optimized_signal\n",
      "sin:  0.4067366430758002\n",
      "handedness=left\n",
      "Coefficient of phase factor:  -12.439781715959999j\n",
      "Finished optimized_signal\n",
      "mag shape: (512, 512, 828), phase_arr shape: (512, 512, 828)\n",
      "Finished optimize_measurement\n"
     ]
    }
   ],
   "source": [
    "\n",
    "magnitude, phase = optimize_measurement(pd_data, t2s_data, dimensions, dB0_ppm_data , flip_ang, TE_list, fieldStrength) # By default, B0 is 3 Tesla"
   ]
  },
  {
   "cell_type": "code",
   "execution_count": 19,
   "id": "a22bacda-c66d-4844-9821-30be6fe38270",
   "metadata": {},
   "outputs": [],
   "source": [
    "# Finally we save the magnitude and the phase to analyze them\n",
    "temp_mag = nib.Nifti1Image(magnitude, affine = segmentations_img.affine)\n",
    "temp_ph = nib.Nifti1Image(phase, affine = segmentations_img.affine)\n",
    "\n",
    "magnitude_outpath = \"E:/msc_data/sc_qsm/data/wb/simulation/sim_mag_pro.nii.gz\"\n",
    "phase_outpath = \"E:/msc_data/sc_qsm/data/wb/simulation/sim_phase_pro.nii.gz\"\n",
    "\n",
    "nib.save(temp_mag, magnitude_outpath)\n",
    "nib.save(temp_ph, phase_outpath)"
   ]
  },
  {
   "cell_type": "code",
   "execution_count": 23,
   "id": "612337d5",
   "metadata": {},
   "outputs": [],
   "source": [
    "# Saving separate nifti files per echoes\n",
    "\n",
    "echo1_mag = nib.Nifti1Image(magnitude[...,0], affine=data.affine)\n",
    "echo1_ph = nib.Nifti1Image(phase[...,0], affine=data.affine)\n",
    "\n",
    "echo2_mag = nib.Nifti1Image(magnitude[...,1], affine=data.affine)\n",
    "echo2_ph = nib.Nifti1Image(phase[...,1], affine=data.affine)\n",
    "\n",
    "path_mag1 = os.path.join('output','echo1_mag.nii.gz')\n",
    "path_ph1= os.path.join('output','echo1_ph.nii.gz')\n",
    "\n",
    "path_mag2 = os.path.join('output','echo2_mag.nii.gz')\n",
    "path_ph2 = os.path.join('output','echo2_ph.nii.gz')\n",
    "\n",
    "nib.save(echo1_mag,path_mag1)\n",
    "nib.save(echo1_ph,path_ph1)\n",
    "\n",
    "nib.save(echo2_mag,path_mag2)\n",
    "nib.save(echo2_ph,path_ph2)"
   ]
  },
  {
   "cell_type": "markdown",
   "id": "a4a24ac9",
   "metadata": {},
   "source": [
    "\n",
    "# <span style=\"color:green\"> Gaussian volume simulations - T2* no TR no T1 </br>\n",
    "Similar to above section, using gaussian distributed volumes that mimic real texture on the phantoms"
   ]
  },
  {
   "cell_type": "code",
   "execution_count": 17,
   "id": "c1602de2",
   "metadata": {},
   "outputs": [],
   "source": [
    "# Now for the gaussian created files\n",
    "path_to_gauss_pd = \"E:/msc_data/sc_qsm/data/wb/output/gauss_qsm_wb_gauss_tsting_pd.nii.gz\"\n",
    "path_to_gauss_t2s = \"E:/msc_data/sc_qsm/data/wb/output/gauss_qsm_wb_gauss_tsting_t2s.nii.gz\"\n",
    "path_to_gauss_fm = \"E:/msc_data/sc_qsm/data/wb/output/qsm_wb_gauss_tsting_fm_ppm.nii.gz\""
   ]
  },
  {
   "cell_type": "code",
   "execution_count": 13,
   "id": "d9a8f0c4",
   "metadata": {},
   "outputs": [],
   "source": [
    "pd_gauss_img = nib.load(path_to_gauss_pd)\n",
    "pd_gauss_data = pd_gauss_img.get_fdata()\n",
    "t2s_gauss_img = nib.load(path_to_gauss_t2s)\n",
    "t2s_gauss_data = t2s_gauss_img.get_fdata()\n",
    "\n",
    "segmentations_img = nib.load(path_to_segmentations) # Assuming segmnetation is same for gauss and non-gauss this variable should be already loaded\n",
    "segmentations_data = segmentations_img.get_fdata()      \n",
    "dimensions = np.array(segmentations_data.shape)\n",
    "# This is the outcome of giving the susceptibility phantom to Susceptibility to Fieldmap repo\n",
    "deltaB0_gauss_img = nib.load(path_to_gauss_fm)\n",
    "dB0_gauss_ppm_data = deltaB0_gauss_img.get_fdata()\n",
    "\n",
    "fieldStrength = 3 # In Tesla"
   ]
  },
  {
   "cell_type": "code",
   "execution_count": 14,
   "id": "cfb3fb70",
   "metadata": {},
   "outputs": [],
   "source": [
    "# Edit the echo time (or list of echo times) and the flip angle:\n",
    "short_TE_list = [0.008, 0.011, 0.0155] # [seconds]\n",
    "short_flip_ang = 12"
   ]
  },
  {
   "cell_type": "code",
   "execution_count": 15,
   "id": "a7b3811f",
   "metadata": {},
   "outputs": [
    {
     "name": "stdout",
     "output_type": "stream",
     "text": [
      "Starting optimize_measurement\n",
      "Processing TE[0] = 0.008\n",
      "Starting optimized_signal\n",
      "sin:  0.20791169081775934\n",
      "handedness=left\n",
      "Coefficient of phase factor:  -6.420532498559999j\n",
      "Finished optimized_signal\n",
      "mag shape: (512, 512, 828), phase_arr shape: (512, 512, 828)\n",
      "Processing TE[1] = 0.011\n",
      "Starting optimized_signal\n",
      "sin:  0.20791169081775934\n",
      "handedness=left\n",
      "Coefficient of phase factor:  -8.828232185519997j\n",
      "Finished optimized_signal\n",
      "mag shape: (512, 512, 828), phase_arr shape: (512, 512, 828)\n",
      "Processing TE[2] = 0.0155\n",
      "Starting optimized_signal\n",
      "sin:  0.20791169081775934\n",
      "handedness=left\n",
      "Coefficient of phase factor:  -12.439781715959999j\n",
      "Finished optimized_signal\n",
      "mag shape: (512, 512, 828), phase_arr shape: (512, 512, 828)\n",
      "Finished optimize_measurement\n"
     ]
    }
   ],
   "source": [
    "gauss_magnitude, gausS_phase = optimize_measurement(pd_gauss_data, t2s_gauss_data, dimensions, dB0_gauss_ppm_data , short_flip_ang, short_TE_list, fieldStrength) # By default, B0 is 3 Tesla"
   ]
  },
  {
   "cell_type": "code",
   "execution_count": 16,
   "id": "5c1873d3",
   "metadata": {},
   "outputs": [],
   "source": [
    "# Finally we save the magnitude and the phase to analyze them\n",
    "temp_gauss_mag = nib.Nifti1Image(gauss_magnitude, affine = segmentations_img.affine)\n",
    "temp_gauss_ph = nib.Nifti1Image(gausS_phase, affine = segmentations_img.affine)\n",
    "\n",
    "gauss_magnitude_outpath = \"E:/msc_data/sc_qsm/data/wb/simulation/gauss_sim_mag_pro.nii.gz\"\n",
    "gauss_phase_outpath = \"E:/msc_data/sc_qsm/data/wb/simulation/gauss_sim_phase_pro.nii.gz\"\n",
    "\n",
    "nib.save(temp_gauss_mag, gauss_magnitude_outpath)\n",
    "nib.save(temp_gauss_ph, gauss_phase_outpath)"
   ]
  },
  {
   "cell_type": "markdown",
   "id": "5c13b7ed",
   "metadata": {},
   "source": [
    "# <span style=\"color:orange\"> *Complete signal equation - T1 // T2* // PD & calculation of Flip Angle* </span> "
   ]
  },
  {
   "cell_type": "markdown",
   "id": "7c4a409a",
   "metadata": {},
   "source": [
    "Completeing signal equation with T1 and TR block + the effect of the flip angle. <br>\n",
    "Flip angle should be the ernst angle which by definition is the *arc cos* of exp(-TR/T1). Fixing TR leads to the FA needed to maximize signal from either GM or WM from the spinal cord. <br>\n",
    "Signal equation for spoiled gradient-recalled echo:\n"
   ]
  },
  {
   "cell_type": "markdown",
   "id": "5e3788d3",
   "metadata": {},
   "source": [
    "### <span style=\"color:#BC8EC4\"> *Piecewise complete simulation* </span> "
   ]
  },
  {
   "cell_type": "code",
   "execution_count": 2,
   "id": "e5fd87df",
   "metadata": {},
   "outputs": [
    {
     "data": {
      "text/plain": [
       "array([512, 512, 828])"
      ]
     },
     "execution_count": 2,
     "metadata": {},
     "output_type": "execute_result"
    }
   ],
   "source": [
    "path_to_segmentations = \"E:/msc_data/sc_qsm/data/wb/data/ratatouille_corrected_pixels.nii.gz\"\n",
    "path_to_pd = \"E:/msc_data/sc_qsm/data/wb/output/qsm_wb_tsting_pd.nii.gz\"\n",
    "path_to_t1 = \"E:/msc_data/sc_qsm/data/wb/output/qsm_wb_tsting_t1.nii.gz\"\n",
    "path_to_t2s = \"E:/msc_data/sc_qsm/data/wb/output/qsm_wb_tsting_t2s.nii.gz\"\n",
    "path_to_fm = \"E:/msc_data/sc_qsm/data/wb/output/qsm_wb_tsting_fm_ppm.nii.gz\"\n",
    "######### ####### # # ####### # # # # # # # # #### # # ### #\n",
    "segmentations_img = nib.load(path_to_segmentations)\n",
    "segmentations_data = segmentations_img.get_fdata()      \n",
    "dimensions = np.array(segmentations_data.shape)\n",
    "dimensions"
   ]
  },
  {
   "cell_type": "code",
   "execution_count": 3,
   "id": "4a42da41",
   "metadata": {},
   "outputs": [],
   "source": [
    "# Load nifti volumes\n",
    "gauss_pw_img = nib.load(path_to_pd)\n",
    "pd_pw_data = gauss_pw_img.get_fdata()\n",
    "t2s_pw_img = nib.load(path_to_t2s)\n",
    "t2s_pw_data = t2s_pw_img.get_fdata()\n",
    "t1_pw_img = nib.load(path_to_t1)\n",
    "t1_pw_data = t1_pw_img.get_fdata()\n",
    "\n",
    "# This is the outcome of giving the susceptibility phantom to Susceptibility to Fieldmap repo\n",
    "deltaB0_pw_img = nib.load(path_to_fm)\n",
    "dB0_pw_ppm_data = deltaB0_pw_img.get_fdata()"
   ]
  },
  {
   "cell_type": "code",
   "execution_count": 6,
   "id": "acdf0e8f",
   "metadata": {},
   "outputs": [
    {
     "name": "stdout",
     "output_type": "stream",
     "text": [
      "FA for gm:  10.304394802819381\n"
     ]
    }
   ],
   "source": [
    "# Acquisition parameters:\n",
    "t1_gm = 984\n",
    "t1_wm = 857\n",
    "tr = 16 \n",
    "fieldStrength = 3 # Tesla\n",
    "fa_gm = np.rad2deg(np.arccos(np.exp(-tr/t1_gm))) # Degrees\n",
    "print(\"FA for gm: \", fa_gm)\n",
    "# Echo times\n",
    "complete_TEs = [0.008, 0.016, 0.024, 0.032, 0.040]"
   ]
  },
  {
   "cell_type": "code",
   "execution_count": 7,
   "id": "c6b3dffb",
   "metadata": {},
   "outputs": [
    {
     "name": "stdout",
     "output_type": "stream",
     "text": [
      "Starting optimize_measurement\n",
      "Processing TE[0] = 0.008  [s]\n",
      "Using T1, T2* and PD for simulation\n",
      "sin($/alpha$):  0.1788776822909693\n",
      "handedness=left\n",
      "Coefficient of phase factor:  -6.420532498559999j\n",
      "Finished optimized_signal\n",
      "mag shape: (512, 512, 828), phase_arr shape: (512, 512, 828)\n",
      "Processing TE[1] = 0.016  [s]\n",
      "Using T1, T2* and PD for simulation\n",
      "sin($/alpha$):  0.1788776822909693\n",
      "handedness=left\n",
      "Coefficient of phase factor:  -12.841064997119998j\n",
      "Finished optimized_signal\n",
      "mag shape: (512, 512, 828), phase_arr shape: (512, 512, 828)\n",
      "Processing TE[2] = 0.024  [s]\n",
      "Using T1, T2* and PD for simulation\n",
      "sin($/alpha$):  0.1788776822909693\n",
      "handedness=left\n",
      "Coefficient of phase factor:  -19.261597495679997j\n",
      "Finished optimized_signal\n",
      "mag shape: (512, 512, 828), phase_arr shape: (512, 512, 828)\n",
      "Processing TE[3] = 0.032  [s]\n",
      "Using T1, T2* and PD for simulation\n",
      "sin($/alpha$):  0.1788776822909693\n",
      "handedness=left\n",
      "Coefficient of phase factor:  -25.682129994239997j\n",
      "Finished optimized_signal\n",
      "mag shape: (512, 512, 828), phase_arr shape: (512, 512, 828)\n",
      "Processing TE[4] = 0.04  [s]\n",
      "Using T1, T2* and PD for simulation\n",
      "sin($/alpha$):  0.1788776822909693\n",
      "handedness=left\n",
      "Coefficient of phase factor:  -32.10266249279999j\n",
      "Finished optimized_signal\n",
      "mag shape: (512, 512, 828), phase_arr shape: (512, 512, 828)\n",
      "Finished optimize_measurement\n"
     ]
    }
   ],
   "source": [
    "complete_pw_mag, complete_pw_phase = complete_measurement(t1_pw_data, pd_pw_data, t2s_pw_data, dimensions, dB0_pw_ppm_data , fa_gm, complete_TEs, tr, fieldStrength) # By default, B0 is 3 Tesla"
   ]
  },
  {
   "cell_type": "code",
   "execution_count": 8,
   "id": "9ec6ff96",
   "metadata": {},
   "outputs": [],
   "source": [
    "temp_pw_mag = nib.Nifti1Image(complete_pw_mag, affine = segmentations_img.affine)\n",
    "temp_pw_ph = nib.Nifti1Image(complete_pw_phase, affine = segmentations_img.affine)\n",
    "\n",
    "pw_magnitude_outpath = \"E:/msc_data/sc_qsm/data/wb/simulation/pw_full_sim_mag_pro.nii.gz\"\n",
    "pw_phase_outpath = \"E:/msc_data/sc_qsm/data/wb/simulation/pw_full_sim_phase_pro.nii.gz\"\n",
    "\n",
    "nib.save(temp_pw_mag, pw_magnitude_outpath)\n",
    "nib.save(temp_pw_ph, pw_phase_outpath)"
   ]
  },
  {
   "cell_type": "markdown",
   "id": "b9f0ecc0",
   "metadata": {},
   "source": [
    "### <span style=\"color:#BC8EC4\"> *Gaussian complete simulation* </span> </br>\n",
    "*Soon!* Still waiting on consensus for gaussian distribution of values"
   ]
  },
  {
   "cell_type": "code",
   "execution_count": 2,
   "id": "6c0050a0",
   "metadata": {},
   "outputs": [],
   "source": [
    "path_to_segmentations = \"E:/msc_data/sc_qsm/data/wb/data/ratatouille_corrected_pixels.nii.gz\"\n",
    "path_to_gauss_t1 = \"E:/msc_data/sc_qsm/data/wb/output/gauss_qsm_wb_gauss_tsting_t1.nii.gz\"\n",
    "path_to_gauss_pd = \"E:/msc_data/sc_qsm/data/wb/output/gauss_qsm_wb_gauss_tsting_pd.nii.gz\"\n",
    "path_to_gauss_t2s = \"E:/msc_data/sc_qsm/data/wb/output/gauss_qsm_wb_gauss_tsting_t2s.nii.gz\"\n",
    "path_to_gauss_fm = \"E:/msc_data/sc_qsm/data/wb/output/qsm_wb_gauss_tsting_fm_ppm.nii.gz\"\n",
    "fieldStrength = 3 # In Tesla"
   ]
  },
  {
   "cell_type": "code",
   "execution_count": 3,
   "id": "0c9b2e91",
   "metadata": {},
   "outputs": [],
   "source": [
    "segmentations_img = nib.load(path_to_segmentations)\n",
    "segmentations_data = segmentations_img.get_fdata()      \n",
    "dimensions = np.array(segmentations_data.shape)\n",
    "\n",
    "pd_gauss_img = nib.load(path_to_gauss_pd)\n",
    "pd_gauss_data = pd_gauss_img.get_fdata()\n",
    "t2s_gauss_img = nib.load(path_to_gauss_t2s)\n",
    "t2s_gauss_data = t2s_gauss_img.get_fdata()\n",
    "t1_gauss_img = nib.load(path_to_gauss_t1)\n",
    "t1_gauss_data = t1_gauss_img.get_fdata()\n",
    "\n",
    "# This is the outcome of giving the susceptibility phantom to Susceptibility to Fieldmap repo\n",
    "deltaB0_gauss_img = nib.load(path_to_gauss_fm)\n",
    "dB0_gauss_ppm_data = deltaB0_gauss_img.get_fdata()"
   ]
  },
  {
   "cell_type": "code",
   "execution_count": 5,
   "id": "1486284c",
   "metadata": {},
   "outputs": [
    {
     "name": "stdout",
     "output_type": "stream",
     "text": [
      "FA for gm:  10.304394802819381\n",
      "FA for wm:  11.0371009293002\n"
     ]
    }
   ],
   "source": [
    "# We want to maximize contrast between SC wm and SC gm\n",
    "t1_gm = 984\n",
    "t1_wm = 857\n",
    "tr = 16 \n",
    "\n",
    "fa_gm = np.rad2deg(np.arccos(np.exp(-tr/t1_gm)))\n",
    "fa_wm = np.rad2deg(np.arccos(np.exp(-tr/t1_wm)))\n",
    "\n",
    "print(\"FA for gm: \", fa_gm)\n",
    "print(\"FA for wm: \", fa_wm)"
   ]
  },
  {
   "cell_type": "code",
   "execution_count": 6,
   "id": "db99421d",
   "metadata": {},
   "outputs": [
    {
     "data": {
      "text/plain": [
       "0.1788776822909693"
      ]
     },
     "execution_count": 6,
     "metadata": {},
     "output_type": "execute_result"
    }
   ],
   "source": [
    "np.sin(np.deg2rad(fa_gm))"
   ]
  },
  {
   "cell_type": "code",
   "execution_count": 7,
   "id": "9b048241",
   "metadata": {},
   "outputs": [
    {
     "data": {
      "text/plain": [
       "0.17984561673459007"
      ]
     },
     "execution_count": 7,
     "metadata": {},
     "output_type": "execute_result"
    }
   ],
   "source": [
    "np.deg2rad(fa_gm)"
   ]
  },
  {
   "cell_type": "markdown",
   "id": "2920f9a5",
   "metadata": {},
   "source": [
    "### Plotting Intensity for FA selection"
   ]
  },
  {
   "cell_type": "code",
   "execution_count": 5,
   "id": "31c10a4b",
   "metadata": {},
   "outputs": [
    {
     "data": {
      "image/png": "[encoded data removed]",
      "text/plain": [
       "<Figure size 800x600 with 1 Axes>"
      ]
     },
     "metadata": {},
     "output_type": "display_data"
    }
   ],
   "source": [
    "# What if we don't fix TR?\n",
    "import numpy as np\n",
    "import matplotlib.pyplot as plt\n",
    "\n",
    "TRs = np.linspace(10, 2000, 500)\n",
    "theta_1 = np.arccos(np.exp(-TRs / t1_gm))\n",
    "theta_2 = np.arccos(np.exp(-TRs / t1_wm))\n",
    "\n",
    "E1_gm = np.exp(-TRs / t1_gm)\n",
    "E1_wm = np.exp(-TRs / t1_wm)\n",
    "S1 = np.sin(theta_1) * (1 - E1_gm) / (1 - E1_gm * np.cos(theta_1))\n",
    "S2 = np.sin(theta_2) * (1 - E1_wm) / (1 - E1_wm * np.cos(theta_2))\n",
    "\n",
    "# Plot\n",
    "plt.figure(figsize=(8, 6))\n",
    "#plt.plot(TRs, S1, label=f'T1 = {t1_gm} ms', color='blue')\n",
    "#plt.plot(TRs, S2, label=f'T1 = {t1_wm} ms', color='red')\n",
    "plt.plot(TRs, np.abs(S2-S1), label=f'Difference in instensity', color='green')\n",
    "plt.xlabel('Repetition Time (TR) [ms]')\n",
    "plt.ylabel('Signal Intensity (arbitrary units)')\n",
    "plt.title('Signal Intensity vs. TR')\n",
    "plt.legend()\n",
    "plt.grid(True)\n",
    "plt.show()"
   ]
  },
  {
   "cell_type": "markdown",
   "id": "7fa27b1c",
   "metadata": {},
   "source": [
    "### Acquistion parameters and measurement"
   ]
  },
  {
   "cell_type": "code",
   "execution_count": 8,
   "id": "cc44b364",
   "metadata": {},
   "outputs": [],
   "source": [
    "# Following the QSM recommendations for initial testing, echospacing of 8ms and we should include the T2s of tissue of interest\n",
    "# In this case our last echo would be T2* of sc_gm around 40ms\n",
    "complete_TEs = [0.008, 0.016, 0.024, 0.032, 0.040]"
   ]
  },
  {
   "cell_type": "code",
   "execution_count": 9,
   "id": "02b6d080",
   "metadata": {},
   "outputs": [
    {
     "name": "stdout",
     "output_type": "stream",
     "text": [
      "Starting optimize_measurement\n",
      "Processing TE[0] = 0.008  [s]\n",
      "Using T1, T2* and PD for simulation\n",
      "sin($/alpha$):  0.1788776822909693\n",
      "handedness=left\n",
      "Coefficient of phase factor:  -6.420532498559999j\n",
      "Finished optimized_signal\n",
      "mag shape: (512, 512, 828), phase_arr shape: (512, 512, 828)\n",
      "Processing TE[1] = 0.016  [s]\n",
      "Using T1, T2* and PD for simulation\n",
      "sin($/alpha$):  0.1788776822909693\n",
      "handedness=left\n",
      "Coefficient of phase factor:  -12.841064997119998j\n",
      "Finished optimized_signal\n",
      "mag shape: (512, 512, 828), phase_arr shape: (512, 512, 828)\n",
      "Processing TE[2] = 0.024  [s]\n",
      "Using T1, T2* and PD for simulation\n",
      "sin($/alpha$):  0.1788776822909693\n",
      "handedness=left\n",
      "Coefficient of phase factor:  -19.261597495679997j\n",
      "Finished optimized_signal\n",
      "mag shape: (512, 512, 828), phase_arr shape: (512, 512, 828)\n",
      "Processing TE[3] = 0.032  [s]\n",
      "Using T1, T2* and PD for simulation\n",
      "sin($/alpha$):  0.1788776822909693\n",
      "handedness=left\n",
      "Coefficient of phase factor:  -25.682129994239997j\n",
      "Finished optimized_signal\n",
      "mag shape: (512, 512, 828), phase_arr shape: (512, 512, 828)\n",
      "Processing TE[4] = 0.04  [s]\n",
      "Using T1, T2* and PD for simulation\n",
      "sin($/alpha$):  0.1788776822909693\n",
      "handedness=left\n",
      "Coefficient of phase factor:  -32.10266249279999j\n",
      "Finished optimized_signal\n",
      "mag shape: (512, 512, 828), phase_arr shape: (512, 512, 828)\n",
      "Finished optimize_measurement\n"
     ]
    }
   ],
   "source": [
    "complete_gauss_mag, complete_gauss_phase = complete_measurement(t1_gauss_data, pd_gauss_data, t2s_gauss_data, dimensions, dB0_gauss_ppm_data , fa_gm, complete_TEs, tr, fieldStrength) # By default, B0 is 3 Tesla"
   ]
  },
  {
   "cell_type": "code",
   "execution_count": 10,
   "id": "fd28a09d",
   "metadata": {},
   "outputs": [],
   "source": [
    "temp_gauss_mag = nib.Nifti1Image(complete_gauss_mag, affine = segmentations_img.affine)\n",
    "temp_gauss_ph = nib.Nifti1Image(complete_gauss_phase, affine = segmentations_img.affine)\n",
    "\n",
    "gauss_magnitude_outpath = \"E:/msc_data/sc_qsm/data/wb/simulation/gauss_full_sim_mag_pro.nii.gz\"\n",
    "gauss_phase_outpath = \"E:/msc_data/sc_qsm/data/wb/simulation/gauss_full_sim_phase_pro.nii.gz\"\n",
    "\n",
    "nib.save(temp_gauss_mag, gauss_magnitude_outpath)\n",
    "nib.save(temp_gauss_ph, gauss_phase_outpath)"
   ]
  },
  {
   "cell_type": "markdown",
   "id": "a526b196",
   "metadata": {},
   "source": [
    "### Loading Mag & Phase for Echo extraction"
   ]
  },
  {
   "cell_type": "code",
   "execution_count": null,
   "id": "6077fc2d",
   "metadata": {},
   "outputs": [],
   "source": [
    "# After cropping, we can load and extract just 1 echo or all\n",
    "path_to_cropped_pw_mag = \"E:/msc_data/sc_qsm/data/wb/simulation/pw_full_sim_mag_pro_cropped.nii.gz\"\n",
    "cropped_pw_mag_img = nib.load(path_to_cropped_pw_mag)\n",
    "cropped_pw_mag_data = cropped_pw_mag_img.get_fdata()"
   ]
  },
  {
   "cell_type": "code",
   "execution_count": null,
   "id": "57b9b596",
   "metadata": {},
   "outputs": [],
   "source": [
    "path_to_cropped_pw_ph = \"E:/msc_data/sc_qsm/data/wb/simulation/pw_full_sim_mag_pro_cropped.nii.gz\"\n",
    "cropped_pw_ph_img = nib.load(path_to_cropped_pw_ph)\n",
    "cropped_pw_ph_data = cropped_pw_mag_img.get_fdata()"
   ]
  },
  {
   "cell_type": "markdown",
   "id": "9c9707d3",
   "metadata": {},
   "source": [
    "# Testing python stuff that makes things wrong"
   ]
  },
  {
   "cell_type": "code",
   "execution_count": 9,
   "id": "c5de2c47",
   "metadata": {},
   "outputs": [
    {
     "data": {
      "text/plain": [
       "267522187.43999997"
      ]
     },
     "execution_count": 9,
     "metadata": {},
     "output_type": "execute_result"
    }
   ],
   "source": [
    "gamma_rd_sT = 267.52218744 * 10e5 # In rad/(sec * T)\n",
    "gamma_rd_sT"
   ]
  },
  {
   "cell_type": "code",
   "execution_count": 18,
   "id": "d4b9bed8",
   "metadata": {},
   "outputs": [
    {
     "name": "stdout",
     "output_type": "stream",
     "text": [
      "8.0\n"
     ]
    },
    {
     "data": {
      "text/plain": [
       "80.0"
      ]
     },
     "execution_count": 18,
     "metadata": {},
     "output_type": "execute_result"
    }
   ],
   "source": [
    "a = 0.008\n",
    "c= a*1e3\n",
    "print(c)\n",
    "b = a*10e3\n",
    "b"
   ]
  },
  {
   "cell_type": "code",
   "execution_count": 23,
   "id": "e2c7717f",
   "metadata": {},
   "outputs": [
    {
     "name": "stdout",
     "output_type": "stream",
     "text": [
      "0.035\n"
     ]
    }
   ],
   "source": [
    "t2s_vol[80,80,80]\n",
    "h = t2s_vol[80,80,80]*1e-3\n",
    "print(h)"
   ]
  },
  {
   "cell_type": "code",
   "execution_count": 25,
   "id": "3ebd0cdb",
   "metadata": {},
   "outputs": [
    {
     "data": {
      "text/plain": [
       "42.57747851783255"
      ]
     },
     "execution_count": 25,
     "metadata": {},
     "output_type": "execute_result"
    }
   ],
   "source": [
    "267.52218744 * 1e6 * 3 * 1e-6 /(2*pi*3)"
   ]
  },
  {
   "cell_type": "code",
   "execution_count": 12,
   "id": "41fef636",
   "metadata": {},
   "outputs": [
    {
     "name": "stdout",
     "output_type": "stream",
     "text": [
      "sim_mag_pro_echo_0.nii.gz\n",
      "sim_phase_pro_echo_0.nii.gz\n",
      "sim_mag_pro_echo_1.nii.gz\n",
      "sim_phase_pro_echo_1.nii.gz\n"
     ]
    }
   ],
   "source": [
    "for te in range(len(TE_list)):\n",
    "    mag_name = \"sim_mag_pro\"+ \"_echo_\" + str(te) +\".nii.gz\"\n",
    "    phs_name = \"sim_phase_pro\"+ \"_echo_\" + str(te) +\".nii.gz\"\n",
    "    print(mag_name)\n",
    "    print(phs_name)"
   ]
  },
  {
   "cell_type": "markdown",
   "id": "ba78a02a",
   "metadata": {},
   "source": [
    "## Example of pixel correction"
   ]
  },
  {
   "cell_type": "code",
   "execution_count": 2,
   "id": "81bd8291",
   "metadata": {},
   "outputs": [
    {
     "name": "stdout",
     "output_type": "stream",
     "text": [
      "c:\\Users\\User\\msc_project\\Image-processing-strategies\\MRsim\\tissue-to-MRproperty\n",
      "c:\\Users\\User\\msc_project\\Image-processing-strategies\\MRsim\\tissue-to-MRproperty\\functions\n",
      "c:\\Users\\User\\msc_project\\Image-processing-strategies\\MRsim\n"
     ]
    },
    {
     "name": "stderr",
     "output_type": "stream",
     "text": [
      "c:\\Users\\User\\miniconda3\\envs\\mrsim\\Lib\\site-packages\\IPython\\core\\magics\\osm.py:417: UserWarning: This is now an optional IPython functionality, setting dhist requires you to install the `pickleshare` library.\n",
      "  self.shell.db['dhist'] = compress_dhist(dhist)[-100:]\n",
      "c:\\Users\\User\\miniconda3\\envs\\mrsim\\Lib\\site-packages\\IPython\\core\\magics\\osm.py:417: UserWarning: This is now an optional IPython functionality, setting dhist requires you to install the `pickleshare` library.\n",
      "  self.shell.db['dhist'] = compress_dhist(dhist)[-100:]\n"
     ]
    }
   ],
   "source": [
    "import numpy as np\n",
    "import nibabel as nib\n",
    "%cd tissue-to-MRproperty\n",
    "%cd functions\n",
    "from volume import volume\n",
    "%cd ../.."
   ]
  },
  {
   "cell_type": "code",
   "execution_count": 2,
   "id": "3ca1bc0f",
   "metadata": {},
   "outputs": [],
   "source": [
    "# Lets create a volume object with the labeled nifti file\n",
    "labeled_img = nib.load(\"data/ratatouille_crop.nii.gz\")\n",
    "rata_class = volume(labeled_img)\n",
    "rata_class.group_seg_labels(\"TotalSeg_CT\", \"mod2\")"
   ]
  },
  {
   "cell_type": "code",
   "execution_count": 6,
   "id": "ef6469c1",
   "metadata": {},
   "outputs": [
    {
     "name": "stdout",
     "output_type": "stream",
     "text": [
      "Pixel with wrong value: 809.0 located at (47, 29, 77)\n",
      "(indexed from [0,0,0])\n",
      "[Y] continues checking pixels, [n] lets you edit it\n",
      "Maybe you want to change the value?\n",
      "Changed value to:  196\n",
      "Pixel with wrong value: 809.0 located at (47, 30, 74)\n",
      "(indexed from [0,0,0])\n",
      "[Y] continues checking pixels, [n] lets you edit it\n",
      "Maybe you want to change the value?\n",
      "Changed value to:  196\n",
      "Pixel with wrong value: 809.0 located at (48, 28, 81)\n",
      "(indexed from [0,0,0])\n",
      "[Y] continues checking pixels, [n] lets you edit it\n",
      "Maybe you want to change the value?\n",
      "Changed value to:  196\n",
      "Pixel with wrong value: 749.0 located at (60, 100, 178)\n",
      "(indexed from [0,0,0])\n",
      "[Y] continues checking pixels, [n] lets you edit it\n",
      "Maybe you want to change the value?\n",
      "Changed value to:  289\n",
      "Pixel with wrong value: 749.0 located at (61, 100, 178)\n",
      "(indexed from [0,0,0])\n",
      "[Y] continues checking pixels, [n] lets you edit it\n",
      "Maybe you want to change the value?\n",
      "Changed value to:  289\n",
      "Saving corrected volume for later usage!\n"
     ]
    },
    {
     "data": {
      "text/plain": [
       "0"
      ]
     },
     "execution_count": 6,
     "metadata": {},
     "output_type": "execute_result"
    }
   ],
   "source": [
    "rata_class.check_pixels()"
   ]
  },
  {
   "cell_type": "markdown",
   "id": "5c241e42",
   "metadata": {},
   "source": [
    "# After correcting the pixels </br>\n",
    "Now we can load the image witht the corrected pixels and test the gaussian distribution"
   ]
  },
  {
   "cell_type": "code",
   "execution_count": 1,
   "id": "003a07ec",
   "metadata": {},
   "outputs": [
    {
     "name": "stdout",
     "output_type": "stream",
     "text": [
      "c:\\Users\\User\\msc_project\\Image-processing-strategies\\MRsim\\tissue-to-MRproperty\n",
      "c:\\Users\\User\\msc_project\\Image-processing-strategies\\MRsim\\tissue-to-MRproperty\\functions\n",
      "c:\\Users\\User\\msc_project\\Image-processing-strategies\\MRsim\n"
     ]
    },
    {
     "name": "stderr",
     "output_type": "stream",
     "text": [
      "c:\\Users\\User\\miniconda3\\envs\\mrsim\\Lib\\site-packages\\IPython\\core\\magics\\osm.py:417: UserWarning: This is now an optional IPython functionality, setting dhist requires you to install the `pickleshare` library.\n",
      "  self.shell.db['dhist'] = compress_dhist(dhist)[-100:]\n"
     ]
    }
   ],
   "source": [
    "import numpy as np\n",
    "import nibabel as nib\n",
    "%cd tissue-to-MRproperty\n",
    "%cd functions\n",
    "from volume import volume\n",
    "%cd ../.."
   ]
  },
  {
   "cell_type": "code",
   "execution_count": 2,
   "id": "20fc02a2",
   "metadata": {},
   "outputs": [
    {
     "name": "stdout",
     "output_type": "stream",
     "text": [
      "c:\\Users\\User\\msc_project\\Image-processing-strategies\\MRsim\\tissue-to-MRproperty\n",
      "M\tinteractive.ipynb\n",
      "Your branch is up to date with 'origin/dev/better_values'.\n"
     ]
    },
    {
     "name": "stderr",
     "output_type": "stream",
     "text": [
      "Already on 'dev/better_values'\n"
     ]
    }
   ],
   "source": [
    "%cd tissue-to-MRproperty\n",
    "!git checkout dev/better_values"
   ]
  },
  {
   "cell_type": "code",
   "execution_count": 3,
   "id": "652ffc08",
   "metadata": {},
   "outputs": [],
   "source": [
    "corrected_ratatouille = nib.load(\"E:/msc_data/sc_qsm/data/wb/data/ratatouille_corrected_pixels.nii.gz\")\n",
    "corrected_vol = volume(corrected_ratatouille)\n"
   ]
  },
  {
   "cell_type": "code",
   "execution_count": 4,
   "id": "1935d25c",
   "metadata": {},
   "outputs": [
    {
     "name": "stdout",
     "output_type": "stream",
     "text": [
      "###\n",
      "air  PD: 0.01\n",
      "###\n",
      "spleen  PD: 80\n",
      "###\n",
      "kidney  PD: 70\n",
      "###\n",
      "kidney  PD: 70\n",
      "###\n",
      "organ  PD: 50\n",
      "###\n",
      "liver  PD: 70\n",
      "###\n",
      "organ  PD: 50\n",
      "###\n",
      "organ  PD: 50\n",
      "###\n",
      "gland  PD: 100\n",
      "###\n",
      "gland  PD: 100\n",
      "###\n",
      "lung  PD: 0\n",
      "###\n",
      "lung  PD: 0\n",
      "###\n",
      "lung  PD: 0\n",
      "###\n",
      "lung  PD: 0\n",
      "###\n",
      "lung  PD: 0\n",
      "###\n",
      "esophagus  PD: 35\n",
      "###\n",
      "trachea  PD: 15\n",
      "###\n",
      "gland  PD: 100\n",
      "###\n",
      "organ  PD: 50\n",
      "###\n",
      "organ  PD: 50\n",
      "###\n",
      "organ  PD: 50\n",
      "###\n",
      "organ  PD: 50\n",
      "###\n",
      "organ  PD: 50\n",
      "###\n",
      "kidney  PD: 70\n",
      "###\n",
      "kidney  PD: 70\n",
      "###\n",
      "bone  PD: 117\n",
      "###\n",
      "bone  PD: 117\n",
      "###\n",
      "bone  PD: 117\n",
      "###\n",
      "bone  PD: 117\n",
      "###\n",
      "bone  PD: 117\n",
      "###\n",
      "bone  PD: 117\n",
      "###\n",
      "bone  PD: 117\n",
      "###\n",
      "bone  PD: 117\n",
      "###\n",
      "bone  PD: 117\n",
      "###\n",
      "bone  PD: 117\n",
      "###\n",
      "bone  PD: 117\n",
      "###\n",
      "bone  PD: 117\n",
      "###\n",
      "bone  PD: 117\n",
      "###\n",
      "bone  PD: 117\n",
      "###\n",
      "bone  PD: 117\n",
      "###\n",
      "bone  PD: 117\n",
      "###\n",
      "bone  PD: 117\n",
      "###\n",
      "bone  PD: 117\n",
      "###\n",
      "bone  PD: 117\n",
      "###\n",
      "bone  PD: 117\n",
      "###\n",
      "bone  PD: 117\n",
      "###\n",
      "bone  PD: 117\n",
      "###\n",
      "bone  PD: 117\n",
      "###\n",
      "bone  PD: 117\n",
      "###\n",
      "bone  PD: 117\n",
      "###\n",
      "bone  PD: 117\n",
      "###\n",
      "heart  PD: 85\n",
      "###\n",
      "extra  PD: 120\n",
      "###\n",
      "extra  PD: 120\n",
      "###\n",
      "extra  PD: 120\n",
      "###\n",
      "extra  PD: 120\n",
      "###\n",
      "extra  PD: 120\n",
      "###\n",
      "extra  PD: 120\n",
      "###\n",
      "extra  PD: 120\n",
      "###\n",
      "extra  PD: 120\n",
      "###\n",
      "extra  PD: 120\n",
      "###\n",
      "extra  PD: 120\n",
      "###\n",
      "extra  PD: 120\n",
      "###\n",
      "extra  PD: 120\n",
      "###\n",
      "extra  PD: 120\n",
      "###\n",
      "extra  PD: 120\n",
      "###\n",
      "extra  PD: 120\n",
      "###\n",
      "extra  PD: 120\n",
      "###\n",
      "extra  PD: 120\n",
      "###\n",
      "bone  PD: 117\n",
      "###\n",
      "bone  PD: 117\n",
      "###\n",
      "bone  PD: 117\n",
      "###\n",
      "bone  PD: 117\n",
      "###\n",
      "bone  PD: 117\n",
      "###\n",
      "bone  PD: 117\n",
      "###\n",
      "bone  PD: 117\n",
      "###\n",
      "bone  PD: 117\n",
      "###\n",
      "bone  PD: 117\n",
      "###\n",
      "bone  PD: 117\n",
      "###\n",
      "SpinalCanal  PD: 100\n",
      "###\n",
      "extra  PD: 120\n",
      "###\n",
      "extra  PD: 120\n",
      "###\n",
      "extra  PD: 120\n",
      "###\n",
      "extra  PD: 120\n",
      "###\n",
      "extra  PD: 120\n",
      "###\n",
      "extra  PD: 120\n",
      "###\n",
      "extra  PD: 120\n",
      "###\n",
      "extra  PD: 120\n",
      "###\n",
      "extra  PD: 120\n",
      "###\n",
      "extra  PD: 120\n",
      "###\n",
      "brain  PD: 90\n",
      "###\n",
      "bone  PD: 117\n",
      "###\n",
      "bone  PD: 117\n",
      "###\n",
      "bone  PD: 117\n",
      "###\n",
      "bone  PD: 117\n",
      "###\n",
      "bone  PD: 117\n",
      "###\n",
      "bone  PD: 117\n",
      "###\n",
      "bone  PD: 117\n",
      "###\n",
      "bone  PD: 117\n",
      "###\n",
      "bone  PD: 117\n",
      "###\n",
      "bone  PD: 117\n",
      "###\n",
      "bone  PD: 117\n",
      "###\n",
      "bone  PD: 117\n",
      "###\n",
      "bone  PD: 117\n",
      "###\n",
      "bone  PD: 117\n",
      "###\n",
      "bone  PD: 117\n",
      "###\n",
      "bone  PD: 117\n",
      "###\n",
      "bone  PD: 117\n",
      "###\n",
      "bone  PD: 117\n",
      "###\n",
      "bone  PD: 117\n",
      "###\n",
      "bone  PD: 117\n",
      "###\n",
      "bone  PD: 117\n",
      "###\n",
      "bone  PD: 117\n",
      "###\n",
      "bone  PD: 117\n",
      "###\n",
      "bone  PD: 117\n",
      "###\n",
      "bone  PD: 117\n",
      "###\n",
      "bone  PD: 117\n",
      "###\n",
      "bone  PD: 117\n",
      "###\n",
      "fat  PD: 140\n",
      "###\n",
      "sc_csf  PD: 100\n",
      "###\n",
      "sc_wm  PD: 70\n",
      "###\n",
      "sc_gm  PD: 82\n"
     ]
    },
    {
     "ename": "AttributeError",
     "evalue": "'SegmentationLabel' object has no attribute 'std_dev'",
     "output_type": "error",
     "traceback": [
      "\u001b[1;31m---------------------------------------------------------------------------\u001b[0m",
      "\u001b[1;31mAttributeError\u001b[0m                            Traceback (most recent call last)",
      "Cell \u001b[1;32mIn[4], line 1\u001b[0m\n\u001b[1;32m----> 1\u001b[0m corrected_vol\u001b[38;5;241m.\u001b[39mgroup_seg_labels(tool\u001b[38;5;241m=\u001b[39m \u001b[38;5;124m\"\u001b[39m\u001b[38;5;124mTotalSeg_CT\u001b[39m\u001b[38;5;124m\"\u001b[39m,version \u001b[38;5;241m=\u001b[39m \u001b[38;5;124m\"\u001b[39m\u001b[38;5;124mmod2\u001b[39m\u001b[38;5;124m\"\u001b[39m,\u001b[38;5;28mtype\u001b[39m\u001b[38;5;241m=\u001b[39m\u001b[38;5;124m\"\u001b[39m\u001b[38;5;124mpd\u001b[39m\u001b[38;5;124m\"\u001b[39m)\n",
      "File \u001b[1;32mc:\\Users\\User\\msc_project\\Image-processing-strategies\\MRsim\\tissue-to-MRproperty\\functions\\volume.py:99\u001b[0m, in \u001b[0;36mvolume.group_seg_labels\u001b[1;34m(self, tool, version, type)\u001b[0m\n\u001b[0;32m     97\u001b[0m \u001b[38;5;28mself\u001b[39m\u001b[38;5;241m.\u001b[39mrelax_values \u001b[38;5;241m=\u001b[39m \u001b[38;5;28mself\u001b[39m\u001b[38;5;241m.\u001b[39msegmentation_labels[\u001b[38;5;241m0\u001b[39m]\u001b[38;5;241m.\u001b[39mrelax_values\n\u001b[0;32m     98\u001b[0m \u001b[38;5;66;03m# Getting the relax values dictionary from any label\u001b[39;00m\n\u001b[1;32m---> 99\u001b[0m \u001b[38;5;28mself\u001b[39m\u001b[38;5;241m.\u001b[39mstd_devs \u001b[38;5;241m=\u001b[39m \u001b[38;5;28mself\u001b[39m\u001b[38;5;241m.\u001b[39msegmentation_labels[\u001b[38;5;241m0\u001b[39m]\u001b[38;5;241m.\u001b[39mstd_dev\n",
      "\u001b[1;31mAttributeError\u001b[0m: 'SegmentationLabel' object has no attribute 'std_dev'"
     ]
    }
   ],
   "source": [
    "corrected_vol.group_seg_labels(tool= \"TotalSeg_CT\",version = \"mod2\",type=\"pd\")"
   ]
  },
  {
   "cell_type": "code",
   "execution_count": 4,
   "id": "c1599ef0",
   "metadata": {},
   "outputs": [
    {
     "ename": "KeyError",
     "evalue": "0.0",
     "output_type": "error",
     "traceback": [
      "\u001b[1;31m---------------------------------------------------------------------------\u001b[0m",
      "\u001b[1;31mKeyError\u001b[0m                                  Traceback (most recent call last)",
      "Cell \u001b[1;32mIn[4], line 1\u001b[0m\n\u001b[1;32m----> 1\u001b[0m corrected_vol\u001b[38;5;241m.\u001b[39mcalc_regions()\n",
      "File \u001b[1;32mc:\\Users\\User\\msc_project\\Image-processing-strategies\\MRsim\\tissue-to-MRproperty\\functions\\volume.py:477\u001b[0m, in \u001b[0;36mvolume.calc_regions\u001b[1;34m(self)\u001b[0m\n\u001b[0;32m    475\u001b[0m \u001b[38;5;28;01mfor\u001b[39;00m l, count \u001b[38;5;129;01min\u001b[39;00m \u001b[38;5;28mself\u001b[39m\u001b[38;5;241m.\u001b[39munique_counts\u001b[38;5;241m.\u001b[39mitems():\n\u001b[0;32m    476\u001b[0m     label_id \u001b[38;5;241m=\u001b[39m l\n\u001b[1;32m--> 477\u001b[0m     label_name \u001b[38;5;241m=\u001b[39m \u001b[38;5;28mself\u001b[39m\u001b[38;5;241m.\u001b[39mlook_up[l][\u001b[38;5;241m0\u001b[39m]\n\u001b[0;32m    478\u001b[0m     label_suscep \u001b[38;5;241m=\u001b[39m \u001b[38;5;28mself\u001b[39m\u001b[38;5;241m.\u001b[39mlook_up[l][\u001b[38;5;241m1\u001b[39m]\n\u001b[0;32m    479\u001b[0m     \u001b[38;5;28;01mif\u001b[39;00m label_name \u001b[38;5;129;01min\u001b[39;00m \u001b[38;5;28mself\u001b[39m\u001b[38;5;241m.\u001b[39mlabel_counts\u001b[38;5;241m.\u001b[39mkeys():\n",
      "\u001b[1;31mKeyError\u001b[0m: 0.0"
     ]
    }
   ],
   "source": [
    "corrected_vol.calc_regions()"
   ]
  },
  {
   "cell_type": "code",
   "execution_count": 4,
   "id": "d2f36e6b",
   "metadata": {},
   "outputs": [
    {
     "name": "stdout",
     "output_type": "stream",
     "text": [
      "{'air': [0, 0, 0, 0.01, 0.01], 'bone': [None, 1204, 53, 33.03, 117], 'lungs': [None, 1270, None, 1, 0.1], 'water': [None, 2500, 2500, 1000, 100], 'CSF': [None, 3200, 2000, 1000, 100], 'spinal_cord': [None, None, None, 76, 59.5], 'sc_csf': [None, 3200, 2000, 1000, 100], 'sc_wm': [None, None, None, 53, 70], 'sc_gm': [None, None, None, 66, 82], 'fat': [None, 380, 108, 35, 140], 'liver': [None, 809, 34, 17.0, 70], 'spleen': [None, 1328, 61, 32.5, 80], 'brain': [None, None, None, 60.8, 90], 'white_matter': [None, None, None, 53, 70], 'gray_matter': [None, None, None, 66, 82], 'heart': [1000, 1300, 55, 9.25, 85], 'kidney': [None, 1190, 56, 32.7, 70], 'pancreas': [None, 725, 43, 37, 75], 'cartilage': [None, 1240, 32, 20, 50], 'bone_marrow': [None, 365, 23, None, 60], 'SpinalCanal': [None, 993, 78, 60, 100], 'esophagus': [None, None, None, 17, 35], 'trachea': [None, None, None, 25, 15], 'organ': [None, 800, 34, 17, 50], 'gland': [None, None, None, 50, 100], 'extra': [None, 750, 50, 35, 120]}\n"
     ]
    }
   ],
   "source": [
    "print(corrected_class.relax_values)"
   ]
  },
  {
   "cell_type": "code",
   "execution_count": 5,
   "id": "f6481724",
   "metadata": {},
   "outputs": [
    {
     "data": {
      "text/plain": [
       "{'air': 145206,\n",
       " 'spleen': 8240,\n",
       " 'kidney': 28401,\n",
       " 'organ': 87638,\n",
       " 'liver': 66284,\n",
       " 'gland': 8380,\n",
       " 'lung': 319438,\n",
       " 'esophagus': 14181,\n",
       " 'trachea': 21044,\n",
       " 'bone': 373405,\n",
       " 'heart': 120805,\n",
       " 'extra': 513009,\n",
       " 'sc_wm': 6434,\n",
       " 'fat': 1317686,\n",
       " 'sc_csf': 32268,\n",
       " 'sc_gm': 2879}"
      ]
     },
     "execution_count": 5,
     "metadata": {},
     "output_type": "execute_result"
    }
   ],
   "source": [
    "corrected_class.label_counts"
   ]
  },
  {
   "cell_type": "code",
   "execution_count": 6,
   "id": "5566acc0",
   "metadata": {},
   "outputs": [
    {
     "data": {
      "text/plain": [
       "{0.0: 145206,\n",
       " 1.0: 8240,\n",
       " 2.0: 12736,\n",
       " 3.0: 15665,\n",
       " 4.0: 16,\n",
       " 5.0: 66284,\n",
       " 6.0: 14286,\n",
       " 7.0: 21442,\n",
       " 8.0: 1424,\n",
       " 9.0: 1971,\n",
       " 10.0: 54053,\n",
       " 11.0: 54341,\n",
       " 12.0: 107916,\n",
       " 13.0: 14457,\n",
       " 14.0: 88671,\n",
       " 15.0: 14181,\n",
       " 16.0: 21044,\n",
       " 17.0: 4985,\n",
       " 18.0: 24230,\n",
       " 19.0: 26803,\n",
       " 20.0: 861,\n",
       " 28.0: 13772,\n",
       " 29.0: 33508,\n",
       " 30.0: 31504,\n",
       " 31.0: 26701,\n",
       " 32.0: 22992,\n",
       " 33.0: 20611,\n",
       " 34.0: 19225,\n",
       " 35.0: 17546,\n",
       " 36.0: 15819,\n",
       " 37.0: 14610,\n",
       " 38.0: 13641,\n",
       " 39.0: 13032,\n",
       " 40.0: 11823,\n",
       " 41.0: 11630,\n",
       " 42.0: 12118,\n",
       " 43.0: 12326,\n",
       " 44.0: 9764,\n",
       " 45.0: 8237,\n",
       " 46.0: 7564,\n",
       " 47.0: 7576,\n",
       " 48.0: 6467,\n",
       " 49.0: 9932,\n",
       " 50.0: 6625,\n",
       " 51.0: 120805,\n",
       " 52.0: 120418,\n",
       " 53.0: 8835,\n",
       " 54.0: 2654,\n",
       " 55.0: 1960,\n",
       " 56.0: 2694,\n",
       " 57.0: 897,\n",
       " 58.0: 2375,\n",
       " 59.0: 5311,\n",
       " 60.0: 3669,\n",
       " 61.0: 4471,\n",
       " 62.0: 12091,\n",
       " 63.0: 26291,\n",
       " 64.0: 2873,\n",
       " 73.0: 789,\n",
       " 74.0: 539,\n",
       " 86.0: 143397,\n",
       " 87.0: 141797,\n",
       " 88.0: 13724,\n",
       " 89.0: 19552,\n",
       " 91.0: 5149,\n",
       " 92.0: 415,\n",
       " 93.0: 484,\n",
       " 94.0: 520,\n",
       " 95.0: 367,\n",
       " 96.0: 502,\n",
       " 97.0: 545,\n",
       " 98.0: 758,\n",
       " 99.0: 877,\n",
       " 100.0: 933,\n",
       " 101.0: 1283,\n",
       " 102.0: 1333,\n",
       " 103.0: 1171,\n",
       " 104.0: 2083,\n",
       " 105.0: 1023,\n",
       " 106.0: 919,\n",
       " 107.0: 710,\n",
       " 108.0: 879,\n",
       " 109.0: 709,\n",
       " 110.0: 758,\n",
       " 111.0: 723,\n",
       " 112.0: 581,\n",
       " 113.0: 694,\n",
       " 114.0: 759,\n",
       " 115.0: 876,\n",
       " 117.0: 3,\n",
       " 196.0: 6434,\n",
       " 264.0: 1317686,\n",
       " 289.0: 32268,\n",
       " 324.0: 2879}"
      ]
     },
     "execution_count": 6,
     "metadata": {},
     "output_type": "execute_result"
    }
   ],
   "source": [
    "corrected_class.unique_counts"
   ]
  },
  {
   "cell_type": "code",
   "execution_count": 7,
   "id": "69c6b95c",
   "metadata": {},
   "outputs": [
    {
     "name": "stdout",
     "output_type": "stream",
     "text": [
      "label_name:  air susceptibility: 0.35\n",
      "label_name:  spleen susceptibility: -9.05\n",
      "label_name:  kidney susceptibility: -9.05\n",
      "label_name:  kidney susceptibility: -9.05\n",
      "label_name:  organ susceptibility: -9.05\n",
      "label_name:  liver susceptibility: -9.05\n",
      "label_name:  organ susceptibility: -9.05\n",
      "label_name:  organ susceptibility: -9.05\n",
      "label_name:  gland susceptibility: -9.05\n",
      "label_name:  gland susceptibility: -9.05\n",
      "label_name:  lung susceptibility: 0.2\n",
      "label_name:  lung susceptibility: 0.2\n",
      "label_name:  lung susceptibility: 0.2\n",
      "label_name:  lung susceptibility: 0.2\n",
      "label_name:  lung susceptibility: 0.2\n",
      "label_name:  esophagus susceptibility: -9.05\n",
      "label_name:  trachea susceptibility: 0.2\n",
      "label_name:  gland susceptibility: -9.05\n",
      "label_name:  organ susceptibility: -9.05\n",
      "label_name:  organ susceptibility: -9.05\n",
      "label_name:  organ susceptibility: -9.05\n",
      "label_name:  bone susceptibility: -9\n",
      "label_name:  bone susceptibility: -9\n",
      "label_name:  bone susceptibility: -9\n",
      "label_name:  bone susceptibility: -9\n",
      "label_name:  bone susceptibility: -9\n",
      "label_name:  bone susceptibility: -9\n",
      "label_name:  bone susceptibility: -9\n",
      "label_name:  bone susceptibility: -9\n",
      "label_name:  bone susceptibility: -9\n",
      "label_name:  bone susceptibility: -9\n",
      "label_name:  bone susceptibility: -9\n",
      "label_name:  bone susceptibility: -9\n",
      "label_name:  bone susceptibility: -9\n",
      "label_name:  bone susceptibility: -9\n",
      "label_name:  bone susceptibility: -9\n",
      "label_name:  bone susceptibility: -9\n",
      "label_name:  bone susceptibility: -9\n",
      "label_name:  bone susceptibility: -9\n",
      "label_name:  bone susceptibility: -9\n",
      "label_name:  bone susceptibility: -9\n",
      "label_name:  bone susceptibility: -9\n",
      "label_name:  bone susceptibility: -9\n",
      "label_name:  bone susceptibility: -9\n",
      "label_name:  heart susceptibility: -9.04\n",
      "label_name:  extra susceptibility: -9.04\n",
      "label_name:  extra susceptibility: -9.04\n",
      "label_name:  extra susceptibility: -9.04\n",
      "label_name:  extra susceptibility: -9.04\n",
      "label_name:  extra susceptibility: -9.04\n",
      "label_name:  extra susceptibility: -9.04\n",
      "label_name:  extra susceptibility: -9.04\n",
      "label_name:  extra susceptibility: -9.04\n",
      "label_name:  extra susceptibility: -9.04\n",
      "label_name:  extra susceptibility: -9.04\n",
      "label_name:  extra susceptibility: -9.04\n",
      "label_name:  extra susceptibility: -9.04\n",
      "label_name:  extra susceptibility: -9.04\n",
      "label_name:  bone susceptibility: -9\n",
      "label_name:  bone susceptibility: -9\n",
      "label_name:  extra susceptibility: -9.04\n",
      "label_name:  extra susceptibility: -9.04\n",
      "label_name:  extra susceptibility: -9.04\n",
      "label_name:  extra susceptibility: -9.04\n",
      "label_name:  bone susceptibility: -9\n",
      "label_name:  bone susceptibility: -9\n",
      "label_name:  bone susceptibility: -9\n",
      "label_name:  bone susceptibility: -9\n",
      "label_name:  bone susceptibility: -9\n",
      "label_name:  bone susceptibility: -9\n",
      "label_name:  bone susceptibility: -9\n",
      "label_name:  bone susceptibility: -9\n",
      "label_name:  bone susceptibility: -9\n",
      "label_name:  bone susceptibility: -9\n",
      "label_name:  bone susceptibility: -9\n",
      "label_name:  bone susceptibility: -9\n",
      "label_name:  bone susceptibility: -9\n",
      "label_name:  bone susceptibility: -9\n",
      "label_name:  bone susceptibility: -9\n",
      "label_name:  bone susceptibility: -9\n",
      "label_name:  bone susceptibility: -9\n",
      "label_name:  bone susceptibility: -9\n",
      "label_name:  bone susceptibility: -9\n",
      "label_name:  bone susceptibility: -9\n",
      "label_name:  bone susceptibility: -9\n",
      "label_name:  bone susceptibility: -9\n",
      "label_name:  bone susceptibility: -9\n",
      "label_name:  bone susceptibility: -9\n",
      "label_name:  bone susceptibility: -9\n",
      "label_name:  bone susceptibility: -9\n",
      "label_name:  sc_wm susceptibility: -9.083\n",
      "label_name:  fat susceptibility: -8.92\n",
      "label_name:  sc_csf susceptibility: -9.05\n",
      "label_name:  sc_gm susceptibility: -9.03\n"
     ]
    }
   ],
   "source": [
    "corrected_class.create_gauss_dist(\"sus\")"
   ]
  },
  {
   "cell_type": "code",
   "execution_count": 8,
   "id": "9cbf5b89",
   "metadata": {},
   "outputs": [],
   "source": [
    "import os\n",
    "gauss_dis = corrected_class.gaussian_phantom\n",
    "temp_img = nib.Nifti1Image(gauss_dis, affine=corrected_class.nifti.affine)\n",
    "\n",
    "patho = os.path.join('output','gauss_trial_vol.nii.gz')\n",
    "nib.save(temp_img, patho)"
   ]
  },
  {
   "cell_type": "markdown",
   "id": "9958c45c",
   "metadata": {},
   "source": [
    "# Adding Gaussian Noise to magnitude"
   ]
  },
  {
   "cell_type": "code",
   "execution_count": null,
   "id": "7a0f2723",
   "metadata": {},
   "outputs": [],
   "source": [
    "# After correcting the pixels and creating a gauss susceptibility distribution\n",
    "# Running the simulation"
   ]
  },
  {
   "cell_type": "markdown",
   "id": "058d9033",
   "metadata": {},
   "source": [
    "## Testing "
   ]
  },
  {
   "cell_type": "code",
   "execution_count": 6,
   "id": "030110f7",
   "metadata": {},
   "outputs": [
    {
     "name": "stdout",
     "output_type": "stream",
     "text": [
      "0.35\n"
     ]
    }
   ],
   "source": [
    "look_up = corrected_class.look_up\n",
    "print(look_up.get(0)[1])\n",
    "# Instead of indexing by name I have to index by label ID number"
   ]
  },
  {
   "cell_type": "code",
   "execution_count": 9,
   "id": "77d8f42c",
   "metadata": {},
   "outputs": [
    {
     "name": "stdout",
     "output_type": "stream",
     "text": [
      "{0.0: 145206, 1.0: 8240, 2.0: 12736, 3.0: 15665, 4.0: 16, 5.0: 66284, 6.0: 14286, 7.0: 21442, 8.0: 1424, 9.0: 1971, 10.0: 54053, 11.0: 54341, 12.0: 107916, 13.0: 14457, 14.0: 88671, 15.0: 14181, 16.0: 21044, 17.0: 4985, 18.0: 24230, 19.0: 26803, 20.0: 861, 28.0: 13772, 29.0: 33508, 30.0: 31504, 31.0: 26701, 32.0: 22992, 33.0: 20611, 34.0: 19225, 35.0: 17546, 36.0: 15819, 37.0: 14610, 38.0: 13641, 39.0: 13032, 40.0: 11823, 41.0: 11630, 42.0: 12118, 43.0: 12326, 44.0: 9764, 45.0: 8237, 46.0: 7564, 47.0: 7576, 48.0: 6467, 49.0: 9932, 50.0: 6625, 51.0: 120805, 52.0: 120418, 53.0: 8835, 54.0: 2654, 55.0: 1960, 56.0: 2694, 57.0: 897, 58.0: 2375, 59.0: 5311, 60.0: 3669, 61.0: 4471, 62.0: 12091, 63.0: 26291, 64.0: 2873, 73.0: 789, 74.0: 539, 86.0: 143397, 87.0: 141797, 88.0: 13724, 89.0: 19552, 91.0: 5149, 92.0: 415, 93.0: 484, 94.0: 520, 95.0: 367, 96.0: 502, 97.0: 545, 98.0: 758, 99.0: 877, 100.0: 933, 101.0: 1283, 102.0: 1333, 103.0: 1171, 104.0: 2083, 105.0: 1023, 106.0: 919, 107.0: 710, 108.0: 879, 109.0: 709, 110.0: 758, 111.0: 723, 112.0: 581, 113.0: 694, 114.0: 759, 115.0: 876, 117.0: 3, 196.0: 6435, 264.0: 1317686, 289.0: 32267, 324.0: 2879}\n"
     ]
    }
   ],
   "source": [
    "unique_labels, counts = np.unique(corrected_class.volume, return_counts=True)\n",
    "label_counts = dict(zip(unique_labels,counts))\n",
    "\n",
    "print(label_counts)\n"
   ]
  },
  {
   "cell_type": "code",
   "execution_count": 8,
   "id": "56f933c2",
   "metadata": {},
   "outputs": [
    {
     "name": "stdout",
     "output_type": "stream",
     "text": [
      "0.35\n",
      "-9.05\n",
      "-9.05\n",
      "-9.05\n",
      "-9.05\n",
      "-9.05\n",
      "-9.05\n",
      "-9.05\n",
      "-9.05\n",
      "-9.05\n",
      "0.2\n",
      "0.2\n",
      "0.2\n",
      "0.2\n",
      "0.2\n",
      "-9.05\n",
      "0.2\n",
      "-9.05\n",
      "-9.05\n",
      "-9.05\n",
      "-9.05\n",
      "-9\n",
      "-9\n",
      "-9\n",
      "-9\n",
      "-9\n",
      "-9\n",
      "-9\n",
      "-9\n",
      "-9\n",
      "-9\n",
      "-9\n",
      "-9\n",
      "-9\n",
      "-9\n",
      "-9\n",
      "-9\n",
      "-9\n",
      "-9\n",
      "-9\n",
      "-9\n",
      "-9\n",
      "-9\n",
      "-9\n",
      "-9.04\n",
      "-9.04\n",
      "-9.04\n",
      "-9.04\n",
      "-9.04\n",
      "-9.04\n",
      "-9.04\n",
      "-9.04\n",
      "-9.04\n",
      "-9.04\n",
      "-9.04\n",
      "-9.04\n",
      "-9.04\n",
      "-9.04\n",
      "-9\n",
      "-9\n",
      "-9.04\n",
      "-9.04\n",
      "-9.04\n",
      "-9.04\n",
      "-9\n",
      "-9\n",
      "-9\n",
      "-9\n",
      "-9\n",
      "-9\n",
      "-9\n",
      "-9\n",
      "-9\n",
      "-9\n",
      "-9\n",
      "-9\n",
      "-9\n",
      "-9\n",
      "-9\n",
      "-9\n",
      "-9\n",
      "-9\n",
      "-9\n",
      "-9\n",
      "-9\n",
      "-9\n",
      "-9\n",
      "-9\n",
      "-9\n",
      "-9\n",
      "-9.083\n",
      "-8.92\n",
      "-9.05\n",
      "-9.03\n",
      "{'air': 145206, 'spleen': 8240, 'kidney': 28401, 'organ': 87638, 'liver': 66284, 'gland': 8380, 'lung': 319438, 'esophagus': 14181, 'trachea': 21044, 'bone': 373405, 'heart': 120805, 'extra': 513009, 'sc_wm': 6435, 'fat': 1317686, 'sc_csf': 32267, 'sc_gm': 2879}\n"
     ]
    }
   ],
   "source": [
    "# Looking how to address at the look up table to get the susceptibility\n",
    "look_up_vals = corrected_class.look_up\n",
    "only_label_counts = {}\n",
    "\n",
    "for l, count in label_counts.items():\n",
    "    # Getting the susceptibility of each label\n",
    "    label_id = l\n",
    "    nn = look_up_vals[l][0]\n",
    "    susceptibility = look_up_vals[l][1]\n",
    "    print(susceptibility)\n",
    "    if nn in only_label_counts.keys():\n",
    "        only_label_counts[nn] += count\n",
    "    else:\n",
    "        only_label_counts[nn] = count\n",
    "    \n",
    "\n",
    "print(only_label_counts)\n"
   ]
  },
  {
   "cell_type": "markdown",
   "id": "1a66e310",
   "metadata": {},
   "source": [
    "### Grouping them up based on their susceptibility to create a label_gaussians "
   ]
  },
  {
   "cell_type": "code",
   "execution_count": 15,
   "id": "00052a9c",
   "metadata": {},
   "outputs": [
    {
     "name": "stdout",
     "output_type": "stream",
     "text": [
      "[-0.14366963  0.03799706  0.11785162 ...  0.08342116 -0.00545345\n",
      "  0.013995  ]\n"
     ]
    }
   ],
   "source": [
    "print(corrected_class.label_gaussians['sc_wm'])"
   ]
  },
  {
   "cell_type": "code",
   "execution_count": 1,
   "id": "16429fa3",
   "metadata": {},
   "outputs": [
    {
     "data": {
      "image/png": "[encoded data removed]",
      "text/plain": [
       "<Figure size 1500x800 with 16 Axes>"
      ]
     },
     "metadata": {},
     "output_type": "display_data"
    }
   ],
   "source": [
    "import numpy as np\n",
    "import matplotlib.pyplot as plt\n",
    "\n",
    "# Function to generate and plot Gaussian distributions\n",
    "def plot_gaussian_distributions(std_devs, num_elements_list):\n",
    "    num_plots = len(std_devs) * len(num_elements_list)\n",
    "    fig, axes = plt.subplots(len(std_devs), len(num_elements_list), figsize=(15, 8))\n",
    "    \n",
    "    for i, s_G in enumerate(std_devs):\n",
    "        for j, num_elements in enumerate(num_elements_list):\n",
    "            # Generate random elements for NR(k) and NI(k) with zero mean and standard deviation s_G\n",
    "            NR = np.random.normal(-9, s_G, num_elements)\n",
    "            NI = np.random.normal(-9, s_G, num_elements)\n",
    "            \n",
    "            # Plot the histograms\n",
    "            ax = axes[i, j] if len(std_devs) > 1 else axes[j]\n",
    "            ax.hist(NR, bins=30, density=True, alpha=0.6, color='g', label='NR(k)')\n",
    "            ax.hist(NI, bins=30, density=True, alpha=0.6, color='b', label='NI(k)')\n",
    "            ax.set_title(f's_G={s_G}, num_elements={num_elements}')\n",
    "            ax.set_xlabel('Value')\n",
    "            ax.set_ylabel('Density')\n",
    "            ax.legend()\n",
    "\n",
    "    plt.tight_layout()\n",
    "    plt.show()\n",
    "\n",
    "# List of standard deviations and number of elements to compare\n",
    "std_devs = [10, 20, 30, 40]\n",
    "num_elements_list = [513009 , 373405 , 1317686, 1317686]\n",
    "\n",
    "# Generate and plot the distributions\n",
    "plot_gaussian_distributions(std_devs, num_elements_list)\n"
   ]
  },
  {
   "cell_type": "code",
   "execution_count": 14,
   "id": "9a32ac6c",
   "metadata": {},
   "outputs": [
    {
     "data": {
      "text/plain": [
       "2.78"
      ]
     },
     "execution_count": 14,
     "metadata": {},
     "output_type": "execute_result"
    }
   ],
   "source": [
    "std_dev = {\n",
    "\n",
    "            \"air\": 2.78,  # air is backgrund\n",
    "            # To all labels we have substracted air std_dev\n",
    "            \"bone\": 10.87,\n",
    "            \"lung\": 8.01,\n",
    "            # Water is a value similar to CSF\n",
    "            \"water\": 27.79,\n",
    "            \"CSF\": 26.5,\n",
    "\n",
    "            \"spinal_cord\": 7.64,\n",
    "\n",
    "            \"sc_csf\": 26.5,\n",
    "            # This values are not taken from Whole spine data\n",
    "            # But taken from Brain image.\n",
    "            # EAO Flash 2.5mm\n",
    "            \"sc_wm\": 9.82,\n",
    "            \"sc_gm\": 12.76,\n",
    "            \"brain\": 27.91,\n",
    "            ### Back to Whole Spine data values\n",
    "            \"fat\": 33.78,\n",
    "            \"liver\": 14.82,\n",
    "            \"spleen\": 16.17,\n",
    "\n",
    "            # \"white_matter\": ,  # This is the brain WM\n",
    "            # \"gray_matter\": ,  # This is the brain GM\n",
    "\n",
    "            \"heart\": 15.49,\n",
    "            \"kidney\": 14.35,\n",
    "            \"pancreas\": 16.94,\n",
    "            \"cartilage\": 10.21,\n",
    "            \"bone_marrow\": 12.2,\n",
    "            \"SpinalCanal\": 18.895,  # sc_csf + (sc_wm + sc_gm / 2 )\n",
    "            \"esophagus\": 17.33,\n",
    "            \"trachea\": 10.21,  # Trachea should have similar to lung\n",
    "            \"organ\": 14.66,\n",
    "            \"gland\": 15.82,\n",
    "\n",
    "            \"extra\": 14.91,\n",
    "\n",
    "            \"sinus\": 9.53}\n",
    "\n",
    "std_dev['air']"
   ]
  }
 ],
 "metadata": {
  "kernelspec": {
   "display_name": "Python 3",
   "language": "python",
   "name": "python3"
  },
  "language_info": {
   "codemirror_mode": {
    "name": "ipython",
    "version": 3
   },
   "file_extension": ".py",
   "mimetype": "text/x-python",
   "name": "python",
   "nbconvert_exporter": "python",
   "pygments_lexer": "ipython3",
   "version": "3.12.4"
  }
 },
 "nbformat": 4,
 "nbformat_minor": 5
}
