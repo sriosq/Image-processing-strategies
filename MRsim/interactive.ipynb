{
 "cells": [
  {
   "cell_type": "markdown",
   "id": "588bf96c-f6c2-403e-9f37-d0cd60692676",
   "metadata": {},
   "source": [
    "## Welcome to MR simulation \n",
    "In this interactive notebook I'll guide you through using 2 powerfull github repositories and code to simulate MR signal acquisition. </br>\n",
    "Credit to Eva Alonso Ortiz and Charles Pageot for *susceptibility-to-fieldmap-fft* "
   ]
  },
  {
   "cell_type": "code",
   "execution_count": 1,
   "id": "e361ba8c-7b2e-40f3-a20e-b0c5a8e9ce45",
   "metadata": {},
   "outputs": [],
   "source": [
    "import numpy as np\n",
    "import nibabel as nib\n",
    "import os\n",
    "import matplotlib.pyplot as plt"
   ]
  },
  {
   "cell_type": "markdown",
   "id": "5b595c1f-fbfd-453b-a5c2-2685450a7083",
   "metadata": {},
   "source": [
    "## Importing, cloning and installing"
   ]
  },
  {
   "cell_type": "code",
   "execution_count": 2,
   "id": "43fec467",
   "metadata": {},
   "outputs": [
    {
     "name": "stderr",
     "output_type": "stream",
     "text": [
      "fatal: destination path 'tissue-to-MRproperty' already exists and is not an empty directory.\n"
     ]
    }
   ],
   "source": [
    "!git clone https://github.com/shimming-toolbox/tissue-to-MRproperty.git"
   ]
  },
  {
   "cell_type": "code",
   "execution_count": 2,
   "id": "8deb1379-346d-45fe-a4b0-b32529e0e19c",
   "metadata": {},
   "outputs": [
    {
     "name": "stdout",
     "output_type": "stream",
     "text": [
      "C:\\Users\\User\\msc_project\\Image-processing-strategies\\MRsim\\tissue-to-MRproperty\n",
      "Processing c:\\users\\user\\msc_project\\image-processing-strategies\\mrsim\\tissue-to-mrproperty\n",
      "  Preparing metadata (setup.py): started\n",
      "  Preparing metadata (setup.py): finished with status 'done'\n",
      "Requirement already satisfied: click in c:\\users\\user\\appdata\\local\\programs\\python\\python310\\lib\\site-packages (from tissue-to-MRproperty==0.0.0) (8.1.5)\n",
      "Requirement already satisfied: pandas in c:\\users\\user\\appdata\\local\\programs\\python\\python310\\lib\\site-packages (from tissue-to-MRproperty==0.0.0) (1.5.3)\n",
      "Requirement already satisfied: nibabel in c:\\users\\user\\appdata\\local\\programs\\python\\python310\\lib\\site-packages (from tissue-to-MRproperty==0.0.0) (5.2.1)\n",
      "Requirement already satisfied: nilearn in c:\\users\\user\\appdata\\local\\programs\\python\\python310\\lib\\site-packages (from tissue-to-MRproperty==0.0.0) (0.10.4)\n",
      "Requirement already satisfied: numpy in c:\\users\\user\\appdata\\local\\programs\\python\\python310\\lib\\site-packages (from tissue-to-MRproperty==0.0.0) (1.25.2)\n",
      "Requirement already satisfied: matplotlib in c:\\users\\user\\appdata\\local\\programs\\python\\python310\\lib\\site-packages (from tissue-to-MRproperty==0.0.0) (3.9.1)\n",
      "Requirement already satisfied: ipykernel in c:\\users\\user\\appdata\\roaming\\python\\python310\\site-packages (from tissue-to-MRproperty==0.0.0) (6.24.0)\n",
      "Requirement already satisfied: ipython in c:\\users\\user\\appdata\\roaming\\python\\python310\\site-packages (from tissue-to-MRproperty==0.0.0) (8.14.0)\n",
      "Requirement already satisfied: treelib in c:\\users\\user\\appdata\\local\\programs\\python\\python310\\lib\\site-packages (from tissue-to-MRproperty==0.0.0) (1.7.0)\n",
      "Requirement already satisfied: pytest in c:\\users\\user\\appdata\\local\\programs\\python\\python310\\lib\\site-packages (from tissue-to-MRproperty==0.0.0) (8.2.2)\n",
      "Requirement already satisfied: jupyterlab in c:\\users\\user\\appdata\\local\\programs\\python\\python310\\lib\\site-packages (from tissue-to-MRproperty==0.0.0) (4.2.3)\n",
      "Requirement already satisfied: scipy in c:\\users\\user\\appdata\\local\\programs\\python\\python310\\lib\\site-packages (from tissue-to-MRproperty==0.0.0) (1.11.2)\n",
      "Requirement already satisfied: colorama in c:\\users\\user\\appdata\\roaming\\python\\python310\\site-packages (from click->tissue-to-MRproperty==0.0.0) (0.4.6)\n",
      "Requirement already satisfied: comm>=0.1.1 in c:\\users\\user\\appdata\\roaming\\python\\python310\\site-packages (from ipykernel->tissue-to-MRproperty==0.0.0) (0.1.3)\n",
      "Requirement already satisfied: debugpy>=1.6.5 in c:\\users\\user\\appdata\\roaming\\python\\python310\\site-packages (from ipykernel->tissue-to-MRproperty==0.0.0) (1.6.7)\n",
      "Requirement already satisfied: jupyter-client>=6.1.12 in c:\\users\\user\\appdata\\roaming\\python\\python310\\site-packages (from ipykernel->tissue-to-MRproperty==0.0.0) (8.3.0)\n",
      "Requirement already satisfied: jupyter-core!=5.0.*,>=4.12 in c:\\users\\user\\appdata\\roaming\\python\\python310\\site-packages (from ipykernel->tissue-to-MRproperty==0.0.0) (5.3.1)\n",
      "Requirement already satisfied: matplotlib-inline>=0.1 in c:\\users\\user\\appdata\\roaming\\python\\python310\\site-packages (from ipykernel->tissue-to-MRproperty==0.0.0) (0.1.6)\n",
      "Requirement already satisfied: nest-asyncio in c:\\users\\user\\appdata\\roaming\\python\\python310\\site-packages (from ipykernel->tissue-to-MRproperty==0.0.0) (1.5.6)\n",
      "Requirement already satisfied: packaging in c:\\users\\user\\appdata\\roaming\\python\\python310\\site-packages (from ipykernel->tissue-to-MRproperty==0.0.0) (23.1)\n",
      "Requirement already satisfied: psutil in c:\\users\\user\\appdata\\roaming\\python\\python310\\site-packages (from ipykernel->tissue-to-MRproperty==0.0.0) (5.9.5)\n",
      "Requirement already satisfied: pyzmq>=20 in c:\\users\\user\\appdata\\roaming\\python\\python310\\site-packages (from ipykernel->tissue-to-MRproperty==0.0.0) (25.1.0)\n",
      "Requirement already satisfied: tornado>=6.1 in c:\\users\\user\\appdata\\roaming\\python\\python310\\site-packages (from ipykernel->tissue-to-MRproperty==0.0.0) (6.3.2)\n",
      "Requirement already satisfied: traitlets>=5.4.0 in c:\\users\\user\\appdata\\roaming\\python\\python310\\site-packages (from ipykernel->tissue-to-MRproperty==0.0.0) (5.9.0)\n",
      "Requirement already satisfied: backcall in c:\\users\\user\\appdata\\roaming\\python\\python310\\site-packages (from ipython->tissue-to-MRproperty==0.0.0) (0.2.0)\n",
      "Requirement already satisfied: decorator in c:\\users\\user\\appdata\\roaming\\python\\python310\\site-packages (from ipython->tissue-to-MRproperty==0.0.0) (5.1.1)\n",
      "Requirement already satisfied: jedi>=0.16 in c:\\users\\user\\appdata\\roaming\\python\\python310\\site-packages (from ipython->tissue-to-MRproperty==0.0.0) (0.18.2)\n",
      "Requirement already satisfied: pickleshare in c:\\users\\user\\appdata\\roaming\\python\\python310\\site-packages (from ipython->tissue-to-MRproperty==0.0.0) (0.7.5)\n",
      "Requirement already satisfied: prompt-toolkit!=3.0.37,<3.1.0,>=3.0.30 in c:\\users\\user\\appdata\\roaming\\python\\python310\\site-packages (from ipython->tissue-to-MRproperty==0.0.0) (3.0.39)\n",
      "Requirement already satisfied: pygments>=2.4.0 in c:\\users\\user\\appdata\\roaming\\python\\python310\\site-packages (from ipython->tissue-to-MRproperty==0.0.0) (2.15.1)\n",
      "Requirement already satisfied: stack-data in c:\\users\\user\\appdata\\roaming\\python\\python310\\site-packages (from ipython->tissue-to-MRproperty==0.0.0) (0.6.2)\n",
      "Requirement already satisfied: async-lru>=1.0.0 in c:\\users\\user\\appdata\\local\\programs\\python\\python310\\lib\\site-packages (from jupyterlab->tissue-to-MRproperty==0.0.0) (2.0.4)\n",
      "Requirement already satisfied: httpx>=0.25.0 in c:\\users\\user\\appdata\\local\\programs\\python\\python310\\lib\\site-packages (from jupyterlab->tissue-to-MRproperty==0.0.0) (0.27.0)\n",
      "Requirement already satisfied: jinja2>=3.0.3 in c:\\users\\user\\appdata\\local\\programs\\python\\python310\\lib\\site-packages (from jupyterlab->tissue-to-MRproperty==0.0.0) (3.1.2)\n",
      "Requirement already satisfied: jupyter-lsp>=2.0.0 in c:\\users\\user\\appdata\\local\\programs\\python\\python310\\lib\\site-packages (from jupyterlab->tissue-to-MRproperty==0.0.0) (2.2.5)\n",
      "Requirement already satisfied: jupyter-server<3,>=2.4.0 in c:\\users\\user\\appdata\\local\\programs\\python\\python310\\lib\\site-packages (from jupyterlab->tissue-to-MRproperty==0.0.0) (2.14.1)\n",
      "Requirement already satisfied: jupyterlab-server<3,>=2.27.1 in c:\\users\\user\\appdata\\local\\programs\\python\\python310\\lib\\site-packages (from jupyterlab->tissue-to-MRproperty==0.0.0) (2.27.2)\n",
      "Requirement already satisfied: notebook-shim>=0.2 in c:\\users\\user\\appdata\\local\\programs\\python\\python310\\lib\\site-packages (from jupyterlab->tissue-to-MRproperty==0.0.0) (0.2.4)\n",
      "Requirement already satisfied: setuptools>=40.1.0 in c:\\users\\user\\appdata\\local\\programs\\python\\python310\\lib\\site-packages (from jupyterlab->tissue-to-MRproperty==0.0.0) (65.5.0)\n",
      "Requirement already satisfied: tomli>=1.2.2 in c:\\users\\user\\appdata\\local\\programs\\python\\python310\\lib\\site-packages (from jupyterlab->tissue-to-MRproperty==0.0.0) (2.0.1)\n",
      "Requirement already satisfied: contourpy>=1.0.1 in c:\\users\\user\\appdata\\local\\programs\\python\\python310\\lib\\site-packages (from matplotlib->tissue-to-MRproperty==0.0.0) (1.1.0)\n",
      "Requirement already satisfied: cycler>=0.10 in c:\\users\\user\\appdata\\local\\programs\\python\\python310\\lib\\site-packages (from matplotlib->tissue-to-MRproperty==0.0.0) (0.11.0)\n",
      "Requirement already satisfied: fonttools>=4.22.0 in c:\\users\\user\\appdata\\local\\programs\\python\\python310\\lib\\site-packages (from matplotlib->tissue-to-MRproperty==0.0.0) (4.42.0)\n",
      "Requirement already satisfied: kiwisolver>=1.3.1 in c:\\users\\user\\appdata\\local\\programs\\python\\python310\\lib\\site-packages (from matplotlib->tissue-to-MRproperty==0.0.0) (1.4.4)\n",
      "Requirement already satisfied: pillow>=8 in c:\\users\\user\\appdata\\local\\programs\\python\\python310\\lib\\site-packages (from matplotlib->tissue-to-MRproperty==0.0.0) (9.3.0)\n",
      "Requirement already satisfied: pyparsing>=2.3.1 in c:\\users\\user\\appdata\\local\\programs\\python\\python310\\lib\\site-packages (from matplotlib->tissue-to-MRproperty==0.0.0) (3.0.9)\n",
      "Requirement already satisfied: python-dateutil>=2.7 in c:\\users\\user\\appdata\\local\\programs\\python\\python310\\lib\\site-packages (from matplotlib->tissue-to-MRproperty==0.0.0) (2.8.2)\n",
      "Requirement already satisfied: joblib>=1.0.0 in c:\\users\\user\\appdata\\local\\programs\\python\\python310\\lib\\site-packages (from nilearn->tissue-to-MRproperty==0.0.0) (1.3.1)\n",
      "Requirement already satisfied: lxml in c:\\users\\user\\appdata\\local\\programs\\python\\python310\\lib\\site-packages (from nilearn->tissue-to-MRproperty==0.0.0) (4.9.3)\n",
      "Requirement already satisfied: requests>=2.25.0 in c:\\users\\user\\appdata\\local\\programs\\python\\python310\\lib\\site-packages (from nilearn->tissue-to-MRproperty==0.0.0) (2.32.3)\n",
      "Requirement already satisfied: scikit-learn>=1.0.0 in c:\\users\\user\\appdata\\local\\programs\\python\\python310\\lib\\site-packages (from nilearn->tissue-to-MRproperty==0.0.0) (1.5.0)\n",
      "Requirement already satisfied: pytz>=2020.1 in c:\\users\\user\\appdata\\local\\programs\\python\\python310\\lib\\site-packages (from pandas->tissue-to-MRproperty==0.0.0) (2022.7.1)\n",
      "Requirement already satisfied: iniconfig in c:\\users\\user\\appdata\\local\\programs\\python\\python310\\lib\\site-packages (from pytest->tissue-to-MRproperty==0.0.0) (2.0.0)\n",
      "Requirement already satisfied: pluggy<2.0,>=1.5 in c:\\users\\user\\appdata\\local\\programs\\python\\python310\\lib\\site-packages (from pytest->tissue-to-MRproperty==0.0.0) (1.5.0)\n",
      "Requirement already satisfied: exceptiongroup>=1.0.0rc8 in c:\\users\\user\\appdata\\local\\programs\\python\\python310\\lib\\site-packages (from pytest->tissue-to-MRproperty==0.0.0) (1.2.1)\n",
      "Requirement already satisfied: six in c:\\users\\user\\appdata\\roaming\\python\\python310\\site-packages (from treelib->tissue-to-MRproperty==0.0.0) (1.16.0)\n",
      "Requirement already satisfied: typing-extensions>=4.0.0 in c:\\users\\user\\appdata\\local\\programs\\python\\python310\\lib\\site-packages (from async-lru>=1.0.0->jupyterlab->tissue-to-MRproperty==0.0.0) (4.12.2)\n",
      "Requirement already satisfied: anyio in c:\\users\\user\\appdata\\local\\programs\\python\\python310\\lib\\site-packages (from httpx>=0.25.0->jupyterlab->tissue-to-MRproperty==0.0.0) (4.4.0)\n",
      "Requirement already satisfied: certifi in c:\\users\\user\\appdata\\local\\programs\\python\\python310\\lib\\site-packages (from httpx>=0.25.0->jupyterlab->tissue-to-MRproperty==0.0.0) (2023.5.7)\n",
      "Requirement already satisfied: httpcore==1.* in c:\\users\\user\\appdata\\local\\programs\\python\\python310\\lib\\site-packages (from httpx>=0.25.0->jupyterlab->tissue-to-MRproperty==0.0.0) (1.0.5)\n",
      "Requirement already satisfied: idna in c:\\users\\user\\appdata\\local\\programs\\python\\python310\\lib\\site-packages (from httpx>=0.25.0->jupyterlab->tissue-to-MRproperty==0.0.0) (3.4)\n",
      "Requirement already satisfied: sniffio in c:\\users\\user\\appdata\\local\\programs\\python\\python310\\lib\\site-packages (from httpx>=0.25.0->jupyterlab->tissue-to-MRproperty==0.0.0) (1.3.1)\n",
      "Requirement already satisfied: h11<0.15,>=0.13 in c:\\users\\user\\appdata\\local\\programs\\python\\python310\\lib\\site-packages (from httpcore==1.*->httpx>=0.25.0->jupyterlab->tissue-to-MRproperty==0.0.0) (0.14.0)\n",
      "Requirement already satisfied: parso<0.9.0,>=0.8.0 in c:\\users\\user\\appdata\\roaming\\python\\python310\\site-packages (from jedi>=0.16->ipython->tissue-to-MRproperty==0.0.0) (0.8.3)\n",
      "Requirement already satisfied: MarkupSafe>=2.0 in c:\\users\\user\\appdata\\local\\programs\\python\\python310\\lib\\site-packages (from jinja2>=3.0.3->jupyterlab->tissue-to-MRproperty==0.0.0) (2.1.3)\n",
      "Requirement already satisfied: platformdirs>=2.5 in c:\\users\\user\\appdata\\roaming\\python\\python310\\site-packages (from jupyter-core!=5.0.*,>=4.12->ipykernel->tissue-to-MRproperty==0.0.0) (3.8.1)\n",
      "Requirement already satisfied: pywin32>=300 in c:\\users\\user\\appdata\\roaming\\python\\python310\\site-packages (from jupyter-core!=5.0.*,>=4.12->ipykernel->tissue-to-MRproperty==0.0.0) (306)\n",
      "Requirement already satisfied: argon2-cffi>=21.1 in c:\\users\\user\\appdata\\local\\programs\\python\\python310\\lib\\site-packages (from jupyter-server<3,>=2.4.0->jupyterlab->tissue-to-MRproperty==0.0.0) (23.1.0)\n",
      "Requirement already satisfied: jupyter-events>=0.9.0 in c:\\users\\user\\appdata\\local\\programs\\python\\python310\\lib\\site-packages (from jupyter-server<3,>=2.4.0->jupyterlab->tissue-to-MRproperty==0.0.0) (0.10.0)\n",
      "Requirement already satisfied: jupyter-server-terminals>=0.4.4 in c:\\users\\user\\appdata\\local\\programs\\python\\python310\\lib\\site-packages (from jupyter-server<3,>=2.4.0->jupyterlab->tissue-to-MRproperty==0.0.0) (0.5.3)\n",
      "Requirement already satisfied: nbconvert>=6.4.4 in c:\\users\\user\\appdata\\local\\programs\\python\\python310\\lib\\site-packages (from jupyter-server<3,>=2.4.0->jupyterlab->tissue-to-MRproperty==0.0.0) (7.16.1)\n",
      "Requirement already satisfied: nbformat>=5.3.0 in c:\\users\\user\\appdata\\local\\programs\\python\\python310\\lib\\site-packages (from jupyter-server<3,>=2.4.0->jupyterlab->tissue-to-MRproperty==0.0.0) (5.9.2)\n",
      "Requirement already satisfied: overrides>=5.0 in c:\\users\\user\\appdata\\local\\programs\\python\\python310\\lib\\site-packages (from jupyter-server<3,>=2.4.0->jupyterlab->tissue-to-MRproperty==0.0.0) (7.7.0)\n",
      "Requirement already satisfied: prometheus-client>=0.9 in c:\\users\\user\\appdata\\local\\programs\\python\\python310\\lib\\site-packages (from jupyter-server<3,>=2.4.0->jupyterlab->tissue-to-MRproperty==0.0.0) (0.20.0)\n",
      "Requirement already satisfied: pywinpty>=2.0.1 in c:\\users\\user\\appdata\\local\\programs\\python\\python310\\lib\\site-packages (from jupyter-server<3,>=2.4.0->jupyterlab->tissue-to-MRproperty==0.0.0) (2.0.13)\n",
      "Requirement already satisfied: send2trash>=1.8.2 in c:\\users\\user\\appdata\\local\\programs\\python\\python310\\lib\\site-packages (from jupyter-server<3,>=2.4.0->jupyterlab->tissue-to-MRproperty==0.0.0) (1.8.3)\n",
      "Requirement already satisfied: terminado>=0.8.3 in c:\\users\\user\\appdata\\local\\programs\\python\\python310\\lib\\site-packages (from jupyter-server<3,>=2.4.0->jupyterlab->tissue-to-MRproperty==0.0.0) (0.18.1)\n",
      "Requirement already satisfied: websocket-client>=1.7 in c:\\users\\user\\appdata\\local\\programs\\python\\python310\\lib\\site-packages (from jupyter-server<3,>=2.4.0->jupyterlab->tissue-to-MRproperty==0.0.0) (1.8.0)\n",
      "Requirement already satisfied: babel>=2.10 in c:\\users\\user\\appdata\\local\\programs\\python\\python310\\lib\\site-packages (from jupyterlab-server<3,>=2.27.1->jupyterlab->tissue-to-MRproperty==0.0.0) (2.15.0)\n",
      "Requirement already satisfied: json5>=0.9.0 in c:\\users\\user\\appdata\\local\\programs\\python\\python310\\lib\\site-packages (from jupyterlab-server<3,>=2.27.1->jupyterlab->tissue-to-MRproperty==0.0.0) (0.9.25)\n",
      "Requirement already satisfied: jsonschema>=4.18.0 in c:\\users\\user\\appdata\\local\\programs\\python\\python310\\lib\\site-packages (from jupyterlab-server<3,>=2.27.1->jupyterlab->tissue-to-MRproperty==0.0.0) (4.22.0)\n",
      "Requirement already satisfied: wcwidth in c:\\users\\user\\appdata\\roaming\\python\\python310\\site-packages (from prompt-toolkit!=3.0.37,<3.1.0,>=3.0.30->ipython->tissue-to-MRproperty==0.0.0) (0.2.6)\n",
      "Requirement already satisfied: charset-normalizer<4,>=2 in c:\\users\\user\\appdata\\local\\programs\\python\\python310\\lib\\site-packages (from requests>=2.25.0->nilearn->tissue-to-MRproperty==0.0.0) (2.0.12)\n",
      "Requirement already satisfied: urllib3<3,>=1.21.1 in c:\\users\\user\\appdata\\local\\programs\\python\\python310\\lib\\site-packages (from requests>=2.25.0->nilearn->tissue-to-MRproperty==0.0.0) (1.26.16)\n",
      "Requirement already satisfied: threadpoolctl>=3.1.0 in c:\\users\\user\\appdata\\local\\programs\\python\\python310\\lib\\site-packages (from scikit-learn>=1.0.0->nilearn->tissue-to-MRproperty==0.0.0) (3.5.0)\n",
      "Requirement already satisfied: executing>=1.2.0 in c:\\users\\user\\appdata\\roaming\\python\\python310\\site-packages (from stack-data->ipython->tissue-to-MRproperty==0.0.0) (1.2.0)\n",
      "Requirement already satisfied: asttokens>=2.1.0 in c:\\users\\user\\appdata\\roaming\\python\\python310\\site-packages (from stack-data->ipython->tissue-to-MRproperty==0.0.0) (2.2.1)\n",
      "Requirement already satisfied: pure-eval in c:\\users\\user\\appdata\\roaming\\python\\python310\\site-packages (from stack-data->ipython->tissue-to-MRproperty==0.0.0) (0.2.2)\n",
      "Requirement already satisfied: argon2-cffi-bindings in c:\\users\\user\\appdata\\local\\programs\\python\\python310\\lib\\site-packages (from argon2-cffi>=21.1->jupyter-server<3,>=2.4.0->jupyterlab->tissue-to-MRproperty==0.0.0) (21.2.0)\n",
      "Requirement already satisfied: attrs>=22.2.0 in c:\\users\\user\\appdata\\local\\programs\\python\\python310\\lib\\site-packages (from jsonschema>=4.18.0->jupyterlab-server<3,>=2.27.1->jupyterlab->tissue-to-MRproperty==0.0.0) (23.1.0)\n",
      "Requirement already satisfied: jsonschema-specifications>=2023.03.6 in c:\\users\\user\\appdata\\local\\programs\\python\\python310\\lib\\site-packages (from jsonschema>=4.18.0->jupyterlab-server<3,>=2.27.1->jupyterlab->tissue-to-MRproperty==0.0.0) (2023.12.1)\n",
      "Requirement already satisfied: referencing>=0.28.4 in c:\\users\\user\\appdata\\local\\programs\\python\\python310\\lib\\site-packages (from jsonschema>=4.18.0->jupyterlab-server<3,>=2.27.1->jupyterlab->tissue-to-MRproperty==0.0.0) (0.35.1)\n",
      "Requirement already satisfied: rpds-py>=0.7.1 in c:\\users\\user\\appdata\\local\\programs\\python\\python310\\lib\\site-packages (from jsonschema>=4.18.0->jupyterlab-server<3,>=2.27.1->jupyterlab->tissue-to-MRproperty==0.0.0) (0.18.1)\n",
      "Requirement already satisfied: python-json-logger>=2.0.4 in c:\\users\\user\\appdata\\local\\programs\\python\\python310\\lib\\site-packages (from jupyter-events>=0.9.0->jupyter-server<3,>=2.4.0->jupyterlab->tissue-to-MRproperty==0.0.0) (2.0.4)\n",
      "Requirement already satisfied: pyyaml>=5.3 in c:\\users\\user\\appdata\\local\\programs\\python\\python310\\lib\\site-packages (from jupyter-events>=0.9.0->jupyter-server<3,>=2.4.0->jupyterlab->tissue-to-MRproperty==0.0.0) (6.0.1)\n",
      "Requirement already satisfied: rfc3339-validator in c:\\users\\user\\appdata\\local\\programs\\python\\python310\\lib\\site-packages (from jupyter-events>=0.9.0->jupyter-server<3,>=2.4.0->jupyterlab->tissue-to-MRproperty==0.0.0) (0.1.4)\n",
      "Requirement already satisfied: rfc3986-validator>=0.1.1 in c:\\users\\user\\appdata\\local\\programs\\python\\python310\\lib\\site-packages (from jupyter-events>=0.9.0->jupyter-server<3,>=2.4.0->jupyterlab->tissue-to-MRproperty==0.0.0) (0.1.1)\n",
      "Requirement already satisfied: beautifulsoup4 in c:\\users\\user\\appdata\\local\\programs\\python\\python310\\lib\\site-packages (from nbconvert>=6.4.4->jupyter-server<3,>=2.4.0->jupyterlab->tissue-to-MRproperty==0.0.0) (4.12.3)\n",
      "Requirement already satisfied: bleach!=5.0.0 in c:\\users\\user\\appdata\\local\\programs\\python\\python310\\lib\\site-packages (from nbconvert>=6.4.4->jupyter-server<3,>=2.4.0->jupyterlab->tissue-to-MRproperty==0.0.0) (5.0.1)\n",
      "Requirement already satisfied: defusedxml in c:\\users\\user\\appdata\\local\\programs\\python\\python310\\lib\\site-packages (from nbconvert>=6.4.4->jupyter-server<3,>=2.4.0->jupyterlab->tissue-to-MRproperty==0.0.0) (0.7.1)\n",
      "Requirement already satisfied: jupyterlab-pygments in c:\\users\\user\\appdata\\local\\programs\\python\\python310\\lib\\site-packages (from nbconvert>=6.4.4->jupyter-server<3,>=2.4.0->jupyterlab->tissue-to-MRproperty==0.0.0) (0.3.0)\n",
      "Requirement already satisfied: mistune<4,>=2.0.3 in c:\\users\\user\\appdata\\local\\programs\\python\\python310\\lib\\site-packages (from nbconvert>=6.4.4->jupyter-server<3,>=2.4.0->jupyterlab->tissue-to-MRproperty==0.0.0) (3.0.2)\n",
      "Requirement already satisfied: nbclient>=0.5.0 in c:\\users\\user\\appdata\\local\\programs\\python\\python310\\lib\\site-packages (from nbconvert>=6.4.4->jupyter-server<3,>=2.4.0->jupyterlab->tissue-to-MRproperty==0.0.0) (0.9.0)\n",
      "Requirement already satisfied: pandocfilters>=1.4.1 in c:\\users\\user\\appdata\\local\\programs\\python\\python310\\lib\\site-packages (from nbconvert>=6.4.4->jupyter-server<3,>=2.4.0->jupyterlab->tissue-to-MRproperty==0.0.0) (1.5.1)\n",
      "Requirement already satisfied: tinycss2 in c:\\users\\user\\appdata\\local\\programs\\python\\python310\\lib\\site-packages (from nbconvert>=6.4.4->jupyter-server<3,>=2.4.0->jupyterlab->tissue-to-MRproperty==0.0.0) (1.2.1)\n",
      "Requirement already satisfied: fastjsonschema in c:\\users\\user\\appdata\\local\\programs\\python\\python310\\lib\\site-packages (from nbformat>=5.3.0->jupyter-server<3,>=2.4.0->jupyterlab->tissue-to-MRproperty==0.0.0) (2.19.1)\n",
      "Requirement already satisfied: webencodings in c:\\users\\user\\appdata\\local\\programs\\python\\python310\\lib\\site-packages (from bleach!=5.0.0->nbconvert>=6.4.4->jupyter-server<3,>=2.4.0->jupyterlab->tissue-to-MRproperty==0.0.0) (0.5.1)\n",
      "Requirement already satisfied: fqdn in c:\\users\\user\\appdata\\local\\programs\\python\\python310\\lib\\site-packages (from jsonschema[format-nongpl]>=4.18.0->jupyter-events>=0.9.0->jupyter-server<3,>=2.4.0->jupyterlab->tissue-to-MRproperty==0.0.0) (1.5.1)\n",
      "Requirement already satisfied: isoduration in c:\\users\\user\\appdata\\local\\programs\\python\\python310\\lib\\site-packages (from jsonschema[format-nongpl]>=4.18.0->jupyter-events>=0.9.0->jupyter-server<3,>=2.4.0->jupyterlab->tissue-to-MRproperty==0.0.0) (20.11.0)\n",
      "Requirement already satisfied: jsonpointer>1.13 in c:\\users\\user\\appdata\\local\\programs\\python\\python310\\lib\\site-packages (from jsonschema[format-nongpl]>=4.18.0->jupyter-events>=0.9.0->jupyter-server<3,>=2.4.0->jupyterlab->tissue-to-MRproperty==0.0.0) (3.0.0)\n",
      "Requirement already satisfied: uri-template in c:\\users\\user\\appdata\\local\\programs\\python\\python310\\lib\\site-packages (from jsonschema[format-nongpl]>=4.18.0->jupyter-events>=0.9.0->jupyter-server<3,>=2.4.0->jupyterlab->tissue-to-MRproperty==0.0.0) (1.3.0)\n",
      "Requirement already satisfied: webcolors>=1.11 in c:\\users\\user\\appdata\\local\\programs\\python\\python310\\lib\\site-packages (from jsonschema[format-nongpl]>=4.18.0->jupyter-events>=0.9.0->jupyter-server<3,>=2.4.0->jupyterlab->tissue-to-MRproperty==0.0.0) (24.6.0)\n",
      "Requirement already satisfied: cffi>=1.0.1 in c:\\users\\user\\appdata\\local\\programs\\python\\python310\\lib\\site-packages (from argon2-cffi-bindings->argon2-cffi>=21.1->jupyter-server<3,>=2.4.0->jupyterlab->tissue-to-MRproperty==0.0.0) (1.15.1)\n",
      "Requirement already satisfied: soupsieve>1.2 in c:\\users\\user\\appdata\\local\\programs\\python\\python310\\lib\\site-packages (from beautifulsoup4->nbconvert>=6.4.4->jupyter-server<3,>=2.4.0->jupyterlab->tissue-to-MRproperty==0.0.0) (2.5)\n",
      "Requirement already satisfied: pycparser in c:\\users\\user\\appdata\\local\\programs\\python\\python310\\lib\\site-packages (from cffi>=1.0.1->argon2-cffi-bindings->argon2-cffi>=21.1->jupyter-server<3,>=2.4.0->jupyterlab->tissue-to-MRproperty==0.0.0) (2.21)\n",
      "Requirement already satisfied: arrow>=0.15.0 in c:\\users\\user\\appdata\\local\\programs\\python\\python310\\lib\\site-packages (from isoduration->jsonschema[format-nongpl]>=4.18.0->jupyter-events>=0.9.0->jupyter-server<3,>=2.4.0->jupyterlab->tissue-to-MRproperty==0.0.0) (1.3.0)\n",
      "Requirement already satisfied: types-python-dateutil>=2.8.10 in c:\\users\\user\\appdata\\local\\programs\\python\\python310\\lib\\site-packages (from arrow>=0.15.0->isoduration->jsonschema[format-nongpl]>=4.18.0->jupyter-events>=0.9.0->jupyter-server<3,>=2.4.0->jupyterlab->tissue-to-MRproperty==0.0.0) (2.9.0.20240316)\n",
      "Building wheels for collected packages: tissue-to-MRproperty\n",
      "  Building wheel for tissue-to-MRproperty (setup.py): started\n",
      "  Building wheel for tissue-to-MRproperty (setup.py): finished with status 'done'\n",
      "  Created wheel for tissue-to-MRproperty: filename=tissue_to_MRproperty-0.0.0-py3-none-any.whl size=29855 sha256=da875df9b4892841e52c736b72238e49db61e47bd86463523cd86ade6475c6a8\n",
      "  Stored in directory: c:\\users\\user\\appdata\\local\\pip\\cache\\wheels\\ce\\8f\\65\\c868b29f9cf7cbb6272746dda3ed0e1945ec499eb343897991\n",
      "Successfully built tissue-to-MRproperty\n",
      "Installing collected packages: tissue-to-MRproperty\n",
      "  Attempting uninstall: tissue-to-MRproperty\n",
      "    Found existing installation: tissue-to-MRproperty 0.0.0\n",
      "    Uninstalling tissue-to-MRproperty-0.0.0:\n",
      "      Successfully uninstalled tissue-to-MRproperty-0.0.0\n",
      "Successfully installed tissue-to-MRproperty-0.0.0\n",
      "C:\\Users\\User\\msc_project\\Image-processing-strategies\\MRsim\n"
     ]
    }
   ],
   "source": [
    "%cd tissue-to-MRproperty\n",
    "!pip install .\n",
    "%cd .."
   ]
  },
  {
   "cell_type": "code",
   "execution_count": 7,
   "id": "ede21554-2052-426e-82f5-5c8d7ec52763",
   "metadata": {},
   "outputs": [
    {
     "name": "stderr",
     "output_type": "stream",
     "text": [
      "Cloning into 'susceptibility-to-fieldmap-fft'...\n"
     ]
    }
   ],
   "source": [
    "!git clone https://github.com/shimming-toolbox/susceptibility-to-fieldmap-fft.git"
   ]
  },
  {
   "cell_type": "code",
   "execution_count": 3,
   "id": "3e6e8dbc-cde0-4793-a3f0-ae1f0f0f6560",
   "metadata": {},
   "outputs": [
    {
     "name": "stdout",
     "output_type": "stream",
     "text": [
      "C:\\Users\\User\\msc_project\\Image-processing-strategies\\MRsim\\susceptibility-to-fieldmap-fft\n",
      "Processing c:\\users\\user\\msc_project\\image-processing-strategies\\mrsim\\susceptibility-to-fieldmap-fft\n",
      "  Preparing metadata (setup.py): started\n",
      "  Preparing metadata (setup.py): finished with status 'done'\n",
      "Requirement already satisfied: click in c:\\users\\user\\appdata\\local\\programs\\python\\python310\\lib\\site-packages (from susceptibility-to-fieldmap-fft==0.0.0) (8.1.5)\n",
      "Requirement already satisfied: numpy>=1.24.4 in c:\\users\\user\\appdata\\local\\programs\\python\\python310\\lib\\site-packages (from susceptibility-to-fieldmap-fft==0.0.0) (1.25.2)\n",
      "Requirement already satisfied: nibabel>=5.2.1 in c:\\users\\user\\appdata\\local\\programs\\python\\python310\\lib\\site-packages (from susceptibility-to-fieldmap-fft==0.0.0) (5.2.1)\n",
      "Requirement already satisfied: matplotlib>=3.7.5 in c:\\users\\user\\appdata\\local\\programs\\python\\python310\\lib\\site-packages (from susceptibility-to-fieldmap-fft==0.0.0) (3.9.1)\n",
      "Requirement already satisfied: scipy>=1.10.1 in c:\\users\\user\\appdata\\local\\programs\\python\\python310\\lib\\site-packages (from susceptibility-to-fieldmap-fft==0.0.0) (1.11.2)\n",
      "Requirement already satisfied: contourpy>=1.0.1 in c:\\users\\user\\appdata\\local\\programs\\python\\python310\\lib\\site-packages (from matplotlib>=3.7.5->susceptibility-to-fieldmap-fft==0.0.0) (1.1.0)\n",
      "Requirement already satisfied: cycler>=0.10 in c:\\users\\user\\appdata\\local\\programs\\python\\python310\\lib\\site-packages (from matplotlib>=3.7.5->susceptibility-to-fieldmap-fft==0.0.0) (0.11.0)\n",
      "Requirement already satisfied: fonttools>=4.22.0 in c:\\users\\user\\appdata\\local\\programs\\python\\python310\\lib\\site-packages (from matplotlib>=3.7.5->susceptibility-to-fieldmap-fft==0.0.0) (4.42.0)\n",
      "Requirement already satisfied: kiwisolver>=1.3.1 in c:\\users\\user\\appdata\\local\\programs\\python\\python310\\lib\\site-packages (from matplotlib>=3.7.5->susceptibility-to-fieldmap-fft==0.0.0) (1.4.4)\n",
      "Requirement already satisfied: packaging>=20.0 in c:\\users\\user\\appdata\\roaming\\python\\python310\\site-packages (from matplotlib>=3.7.5->susceptibility-to-fieldmap-fft==0.0.0) (23.1)\n",
      "Requirement already satisfied: pillow>=8 in c:\\users\\user\\appdata\\local\\programs\\python\\python310\\lib\\site-packages (from matplotlib>=3.7.5->susceptibility-to-fieldmap-fft==0.0.0) (9.3.0)\n",
      "Requirement already satisfied: pyparsing>=2.3.1 in c:\\users\\user\\appdata\\local\\programs\\python\\python310\\lib\\site-packages (from matplotlib>=3.7.5->susceptibility-to-fieldmap-fft==0.0.0) (3.0.9)\n",
      "Requirement already satisfied: python-dateutil>=2.7 in c:\\users\\user\\appdata\\local\\programs\\python\\python310\\lib\\site-packages (from matplotlib>=3.7.5->susceptibility-to-fieldmap-fft==0.0.0) (2.8.2)\n",
      "Requirement already satisfied: colorama in c:\\users\\user\\appdata\\roaming\\python\\python310\\site-packages (from click->susceptibility-to-fieldmap-fft==0.0.0) (0.4.6)\n",
      "Requirement already satisfied: six>=1.5 in c:\\users\\user\\appdata\\roaming\\python\\python310\\site-packages (from python-dateutil>=2.7->matplotlib>=3.7.5->susceptibility-to-fieldmap-fft==0.0.0) (1.16.0)\n",
      "Building wheels for collected packages: susceptibility-to-fieldmap-fft\n",
      "  Building wheel for susceptibility-to-fieldmap-fft (setup.py): started\n",
      "  Building wheel for susceptibility-to-fieldmap-fft (setup.py): finished with status 'done'\n",
      "  Created wheel for susceptibility-to-fieldmap-fft: filename=susceptibility_to_fieldmap_fft-0.0.0-py3-none-any.whl size=15984 sha256=2ef42b7f6b8aae6e5613805acfefa98002f4eae67cb3567213666c69b30c94b4\n",
      "  Stored in directory: c:\\users\\user\\appdata\\local\\pip\\cache\\wheels\\89\\fe\\26\\78bb69b2c55cd65a6250f1b426eed9e7c2459733c05463bafe\n",
      "Successfully built susceptibility-to-fieldmap-fft\n",
      "Installing collected packages: susceptibility-to-fieldmap-fft\n",
      "  Attempting uninstall: susceptibility-to-fieldmap-fft\n",
      "    Found existing installation: susceptibility-to-fieldmap-fft 0.0.0\n",
      "    Uninstalling susceptibility-to-fieldmap-fft-0.0.0:\n",
      "      Successfully uninstalled susceptibility-to-fieldmap-fft-0.0.0\n",
      "Successfully installed susceptibility-to-fieldmap-fft-0.0.0\n",
      "C:\\Users\\User\\msc_project\\Image-processing-strategies\\MRsim\n"
     ]
    }
   ],
   "source": [
    "%cd susceptibility-to-fieldmap-fft\n",
    "!pip install .\n",
    "%cd .."
   ]
  },
  {
   "cell_type": "markdown",
   "id": "743e5eed-bc2d-4b4d-bfa5-2e686323b7f8",
   "metadata": {
    "jp-MarkdownHeadingCollapsed": true
   },
   "source": [
    "## Prepare for Simulation\n",
    "For the simulation of MR signals we can guide ourselves with a simplified equation for simulating GRE acquisition. </br>\n",
    "$$ \\text{protonDensity} \\cdot \\sin(\\text{FA}) \\cdot \\exp\\left(-\\frac{TE}{T2^*} - \\text{sign} \\cdot i \\cdot \\gamma \\cdot \\delta B_0 \\cdot TE\\right) $$\n",
    "\n",
    "This equation requires as input the *flip angle* and the list of *echo times*, and it requires for simulation purposes:\n",
    "- T2star volume\n",
    "- PD volume\n",
    "- delta B0\n",
    "The delta B0 requires the susceptibility distribution volume. </br>\n",
    "\n",
    "For the 3 volume requirements we use tissue to MR property repository whereas for deltaB0 we use the susceptibility to fieldmap repository."
   ]
  },
  {
   "cell_type": "markdown",
   "id": "d1b1f15d",
   "metadata": {},
   "source": [
    "Tissue to MR repo will automatically create 3 folders: data, output and simulation. This is for them to store any heavy information as Nifti images of processing that will be ignored by git. </br>\n",
    "When you run the converter you'll find everything under *output* </br>\n",
    "I recommend that you copy and paste this in your commands to your terminal because a new feature was implemented called *check pixel integrity* that checks the pixels have correct label ID before doing the conversion. This function will talk with you to correct the values telling you where the mistake pixel is located so you can open a viewer like ITK or FSLeyes and check what value it should have. This mistake arrises while adding labels and is fairly common, hence the addition of the method."
   ]
  },
  {
   "cell_type": "code",
   "execution_count": null,
   "id": "a641bd3c-41ec-445d-a10f-4efc2e06148f",
   "metadata": {},
   "outputs": [],
   "source": [
    "!tissue_to_mr ratatouille.nii.gz -t sus -s TotalSeg_CT -v mod2 sus_volume.nii.gz"
   ]
  },
  {
   "cell_type": "code",
   "execution_count": 15,
   "id": "f6f34f68",
   "metadata": {},
   "outputs": [
    {
     "name": "stdout",
     "output_type": "stream",
     "text": [
      "^C\n"
     ]
    }
   ],
   "source": [
    "!tissue_to_mr ratatouille.nii.gz -t t2 -s TotalSeg_CT -v mod2 t2s_volume.nii.g"
   ]
  },
  {
   "cell_type": "code",
   "execution_count": null,
   "id": "a240a3c3",
   "metadata": {},
   "outputs": [],
   "source": [
    "!tissue_to_mr ratatouille.nii.gz -t pd -s TotalSeg_CT -v mod2 pd_volume.nii.gz"
   ]
  },
  {
   "cell_type": "markdown",
   "id": "08d8c459",
   "metadata": {},
   "source": [
    "One very important argument we need to calculate is the deltaB0, for which we use Susceptibility to Fieldmap fft repository. </br>\n",
    "Which estimates the magnetic field perturbation that arises when an object is placed withing a magnetic field. </br>\n",
    "After pip installing the repo run the command compute_fieldmap and give it the susceptibility distribution volume created before"
   ]
  },
  {
   "cell_type": "code",
   "execution_count": 34,
   "id": "f97252b1",
   "metadata": {},
   "outputs": [
    {
     "name": "stdout",
     "output_type": "stream",
     "text": [
      "Start\n",
      "Susceptibility distribution loaded\n",
      "Fieldmap simulated\n",
      "Saving to NIfTI format\n",
      "End. Runtime: 67.59 seconds\n"
     ]
    }
   ],
   "source": [
    "!compute_fieldmap -i \"data/sus_volume.nii.gz\" -o \"data/fieldmap.nii.gz\"\n"
   ]
  },
  {
   "cell_type": "markdown",
   "id": "f40b36db",
   "metadata": {},
   "source": [
    "## Simulation\n",
    "Now we have all the necessary Nifti files to simulate MR signal acquisition. The folder *utils* contains the necessary code for simulating with comments."
   ]
  },
  {
   "cell_type": "code",
   "execution_count": 2,
   "id": "3e22fe1e",
   "metadata": {},
   "outputs": [
    {
     "name": "stdout",
     "output_type": "stream",
     "text": [
      "c:\\Users\\User\\msc_project\\Image-processing-strategies\\MRsim\\utils\n",
      "c:\\Users\\User\\msc_project\\Image-processing-strategies\\MRsim\n"
     ]
    },
    {
     "name": "stderr",
     "output_type": "stream",
     "text": [
      "c:\\Users\\User\\miniconda3\\envs\\mrsim\\Lib\\site-packages\\IPython\\core\\magics\\osm.py:417: UserWarning: This is now an optional IPython functionality, setting dhist requires you to install the `pickleshare` library.\n",
      "  self.shell.db['dhist'] = compress_dhist(dhist)[-100:]\n"
     ]
    }
   ],
   "source": [
    "%cd utils\n",
    "from sim_functions import optimize_measurement\n",
    "%cd .."
   ]
  },
  {
   "cell_type": "code",
   "execution_count": 4,
   "id": "1298db04",
   "metadata": {},
   "outputs": [
    {
     "data": {
      "text/plain": [
       "array([109, 129, 218])"
      ]
     },
     "execution_count": 4,
     "metadata": {},
     "output_type": "execute_result"
    }
   ],
   "source": [
    "# Edit the echo time (or list of echo times) and the flip angle:\n",
    "TE_list = [0.002, 0.016, 0.03,  0.044, 0.058]#, 0.011, 0.0125, 0.014, 0.0155]\n",
    "te_secs = [8, 9.5] # Using it in seconds to make it easier to run with texture on T2s values\n",
    "flip_ang = 24\n",
    "# The last requirement for the code is the dimensions, which can be easily acquired from the volume you work with\n",
    "# The dimensions needed because we will create a 4D array, where we will store the echo time data and we want to maintain the initial 3D dimensions.\n",
    "data = nib.load(\"data/ratatouille_crop.nii.gz\")\n",
    "np_data = data.get_fdata()\n",
    "dimensions = np.array(np_data.shape)\n",
    "dimensions"
   ]
  },
  {
   "cell_type": "code",
   "execution_count": 6,
   "id": "0fa43be4",
   "metadata": {},
   "outputs": [
    {
     "name": "stdout",
     "output_type": "stream",
     "text": [
      "Starting optimize_measurement\n",
      "Processing TE[0] = 0.002\n",
      "Starting optimized_signal\n",
      "sin:  0.4067366430758002\n",
      "handedness=left\n",
      "Coefficient of phase factor:  -1.6051331246399998j\n",
      "Finished optimized_signal\n",
      "mag shape: (109, 129, 218), phase_arr shape: (109, 129, 218)\n",
      "Processing TE[1] = 0.016\n",
      "Starting optimized_signal\n",
      "sin:  0.4067366430758002\n",
      "handedness=left\n",
      "Coefficient of phase factor:  -12.841064997119998j\n",
      "Finished optimized_signal\n",
      "mag shape: (109, 129, 218), phase_arr shape: (109, 129, 218)\n",
      "Processing TE[2] = 0.03\n",
      "Starting optimized_signal\n",
      "sin:  0.4067366430758002\n",
      "handedness=left\n",
      "Coefficient of phase factor:  -24.076996869599995j\n",
      "Finished optimized_signal\n",
      "mag shape: (109, 129, 218), phase_arr shape: (109, 129, 218)\n",
      "Processing TE[3] = 0.044\n",
      "Starting optimized_signal\n",
      "sin:  0.4067366430758002\n",
      "handedness=left\n",
      "Coefficient of phase factor:  -35.31292874207999j\n",
      "Finished optimized_signal\n",
      "mag shape: (109, 129, 218), phase_arr shape: (109, 129, 218)\n",
      "Processing TE[4] = 0.058\n",
      "Starting optimized_signal\n",
      "sin:  0.4067366430758002\n",
      "handedness=left\n",
      "Coefficient of phase factor:  -46.54886061456j\n",
      "Finished optimized_signal\n",
      "mag shape: (109, 129, 218), phase_arr shape: (109, 129, 218)\n",
      "Finished optimize_measurement\n"
     ]
    }
   ],
   "source": [
    "# Loading the data \n",
    "pd= nib.load(\"data/pd_volume_crop.nii.gz\")\n",
    "pd_vol = pd.get_fdata()\n",
    "t2s = nib.load(\"data/t2s_volume_crop.nii.gz\")\n",
    "t2s_vol = t2s.get_fdata()\n",
    "#deltaB0 = nib.load(\"data/fieldmap_crop.nii.gz\")\n",
    "pro_deltaB0 = nib.load(\"data/fm_no_gauss_ppm.nii.gz\")\n",
    "dB0 = pro_deltaB0.get_fdata()\n",
    "fieldStrength = 3\n",
    "magnitude, phase = optimize_measurement(pd_vol, t2s_vol,dimensions, dB0, flip_ang, TE_list, fieldStrength) # By default, B0 should be 3 Tesla"
   ]
  },
  {
   "cell_type": "code",
   "execution_count": 7,
   "id": "778cb055",
   "metadata": {
    "editable": true,
    "slideshow": {
     "slide_type": ""
    },
    "tags": []
   },
   "outputs": [],
   "source": [
    "# Finally we save the magnitude and the phase to analyze them\n",
    "# Remember to change the name, if not it will overwrite it!\n",
    "temp_mag = nib.Nifti1Image(magnitude, affine=data.affine)\n",
    "temp_ph = nib.Nifti1Image(phase, affine=data.affine)\n",
    "path_mag = os.path.join('output','no_gauss_sim_mag.nii.gz')\n",
    "path_ph = os.path.join('output','no_gauss_sim_phase.nii.gz')\n",
    "nib.save(temp_mag, path_mag)\n",
    "nib.save(temp_ph, path_ph)"
   ]
  }
 ],
 "metadata": {
  "kernelspec": {
   "display_name": "Python 3 (ipykernel)",
   "language": "python",
   "name": "python3"
  },
  "language_info": {
   "codemirror_mode": {
    "name": "ipython",
    "version": 3
   },
   "file_extension": ".py",
   "mimetype": "text/x-python",
   "name": "python",
   "nbconvert_exporter": "python",
   "pygments_lexer": "ipython3",
   "version": "3.12.4"
  }
 },
 "nbformat": 4,
 "nbformat_minor": 5
}
