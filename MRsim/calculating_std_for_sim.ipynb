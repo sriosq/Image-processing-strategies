{
 "cells": [
  {
   "cell_type": "markdown",
   "id": "a1ab2c63",
   "metadata": {},
   "source": [
    "# Calculating the standar deviation for MR sim </br>\n",
    "Using T1 and T2* or R1 and R2* maps to calculate the standar deviation to be used during simulations in the SC wm and SC gm. </br>\n",
    "Following results from Smith et al. 2008, we can relate the deep gray matter (DGM) regions of the brain to the spinal cords gray matter and we can use the dense fiber regions of the brain to the spinal cords white matter."
   ]
  },
  {
   "cell_type": "code",
   "execution_count": 1,
   "id": "b7b906d9",
   "metadata": {},
   "outputs": [],
   "source": [
    "import nibabel as nib\n",
    "import numpy as np\n",
    "import matplotlib.pyplot as plt\n",
    "import pandas as pd"
   ]
  },
  {
   "cell_type": "markdown",
   "id": "132152db",
   "metadata": {},
   "source": [
    "### First, using the R1 and R2* maps from the QSM RC2 challenge </br>\n",
    "Disclaimer: It is 7T data"
   ]
  },
  {
   "cell_type": "code",
   "execution_count": 5,
   "id": "dceb9ff2",
   "metadata": {},
   "outputs": [],
   "source": [
    "# Load niftis\n",
    "qsm_rc2_r2s_img = nib.load(r\"E:\\msc_data\\sc_qsm\\qsm_RC2_phantom_data/R2star.nii.gz\")\n",
    "qsm_rc2_r2s_data = qsm_rc2_r2s_img.get_fdata()\n",
    "qsm_rc2_r1_img = nib.load(r\"E:\\msc_data\\sc_qsm\\qsm_RC2_phantom_data/R1.nii.gz\")\n",
    "qsm_rc2_r1_data = qsm_rc2_r1_img.get_fdata()\n",
    "# We also want to load the segmentation file \n",
    "qsm_rc2_segs_data = nib.load(r\"E:\\msc_data\\sc_qsm\\qsm_RC2_phantom_data/SegmentedModel.nii.gz\").get_fdata()\n",
    "# We also need a corpus callosum mask\n",
    "qsm_rc2_corpus_callosum_msk_data = nib.load(r\"E:\\msc_data\\sc_qsm\\qsm_RC2_phantom_data/Corpus_callosum.nii.gz\").get_fdata()\n"
   ]
  },
  {
   "cell_type": "markdown",
   "id": "30e23886",
   "metadata": {},
   "source": [
    "The segmentantion model list as follows:\n",
    "1. Caudate Nucleus (DGM)\n",
    "2. Globalus Palladis (DGM)\n",
    "3. Putamen (DGM)\n",
    "4. Red Nucleus (DGM)\n",
    "5. Dentate Nucleus (DGM)\n",
    "6. Substantia nigra (DGM)\n",
    "7. Thalamus (DGM) </br>\n",
    "\n",
    "The other masks on the model are: </br>\n",
    "White matter, Gray matter, CSF, blood, fat, bone, air, muscle and calcification"
   ]
  },
  {
   "cell_type": "code",
   "execution_count": 6,
   "id": "18f0232f",
   "metadata": {},
   "outputs": [],
   "source": [
    "# We need to invert the R2star and R1 maps to get the T2star and T1 maps\n",
    "qsm_rc2_t2s_data = 1 / qsm_rc2_r2s_data\n",
    "qsm_rc2_t1_data = 1 / qsm_rc2_r1_data\n",
    "\n",
    "# Now we can save this new data as nifti files\n",
    "qsm_rc2_t2s_img = nib.Nifti1Image(qsm_rc2_t2s_data, qsm_rc2_r2s_img.affine)\n",
    "nib.save(qsm_rc2_t2s_img, r\"E:\\msc_data\\sc_qsm\\qsm_RC2_phantom_data/T2star.nii.gz\")\n",
    "qsm_rc2_t1_img = nib.Nifti1Image(qsm_rc2_t1_data, qsm_rc2_r1_img.affine)\n",
    "nib.save(qsm_rc2_t1_img, r\"E:\\msc_data\\sc_qsm\\qsm_RC2_phantom_data/T1.nii.gz\")"
   ]
  },
  {
   "cell_type": "markdown",
   "id": "fadf7f12",
   "metadata": {},
   "source": [
    "Loading the respective masks on the inverted R2* [Hz] map: </br>\n",
    "I. For SC white matter, on our 3 regiions for corpus callosum we have: 0.02, 0.0052 and 0.0122 => 0.0124667 [s] => 12.4 [ms] </br>\n",
    "II. For SC gray matter, on our 7 regions of DGM we have: 0.0198, 0.0093, 0.0064, 0.0032, 0.0042, 0.0051, 0.0203 => 0.0097571 [s] => 9.757[ms] </br>"
   ]
  },
  {
   "cell_type": "markdown",
   "id": "0f2cf73f",
   "metadata": {},
   "source": [
    "Loading the respective masks on the inverted R1 map: </br>\n",
    "I. For SC white matter, on our 3 regions for corpus callosum we have: 0.1628, 0.1292, 0.1327 => 0.1415 [s] ==> 141.5 [ms]</br>\n",
    "II. For SC gray matter on our 7 regions of DGM we have: 0.2609, 0.636, 0.180, 0.129, 0.137, 0.215, 0.306 => 0.2662 [s] = 266.2 [ms] </br>"
   ]
  },
  {
   "cell_type": "markdown",
   "id": "abaa2ba0",
   "metadata": {},
   "source": [
    "On the paper: https://pmc.ncbi.nlm.nih.gov/articles/PMC3508464\n",
    "On 8 subjects, T2* at 3T of only the white matter regions classified as dense fiber we have that T2* std is: 4ms in GCC and 5.375ms for SPL. </br>\n",
    "Average of T2* for WM: 4.6875 </br>\n",
    "GCC is genu of corpus callosum \n",
    "SPL is splenium of carpus callosum\n"
   ]
  },
  {
   "cell_type": "markdown",
   "id": "0cbda4ef",
   "metadata": {},
   "source": [
    "From the following data set: https://openneuro.org/datasets/ds004611/versions/1.0.2, we get T1 map @ 3T of subject MKP611 (17yo) and use SAMSEG to segment different regions of the brain. </br>\n",
    "I. For Deep gray matter regions:\n",
    "- Label 49: 134.5\n",
    "- Label 10: 141.09\n",
    "- Label 12: 89.003\n",
    "- Label 51: 96.67\n",
    "- Label 50: 116.27\n",
    "- Label 11: 111.84 </br>\n",
    "Average to: 114.895\n",
    "\n",
    "II. For White matter we select the corpus callosum:\n",
    "We have 2 sides, Label 41 and Label 2 with std of 105.72 and 106.58 respectively. </br>\n",
    "Average to: 106.15\n"
   ]
  },
  {
   "cell_type": "markdown",
   "id": "c7006efc",
   "metadata": {},
   "source": [
    "From the inverted relaxation maps acquired at 7 Tesla we see that at 3T, the T1 average decreases slightly for WM (141.5 -> 106.15) </br> \n",
    "But more prominently for GM going from 266.2 -> 114.895. </br>\n"
   ]
  }
 ],
 "metadata": {
  "kernelspec": {
   "display_name": "mrsim",
   "language": "python",
   "name": "python3"
  },
  "language_info": {
   "codemirror_mode": {
    "name": "ipython",
    "version": 3
   },
   "file_extension": ".py",
   "mimetype": "text/x-python",
   "name": "python",
   "nbconvert_exporter": "python",
   "pygments_lexer": "ipython3",
   "version": "3.12.4"
  }
 },
 "nbformat": 4,
 "nbformat_minor": 5
}
