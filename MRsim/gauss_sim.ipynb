{
 "cells": [
  {
   "cell_type": "markdown",
   "metadata": {},
   "source": [
    "## Simulation using Gaussian distributed volumes"
   ]
  },
  {
   "cell_type": "code",
   "execution_count": 1,
   "metadata": {},
   "outputs": [],
   "source": [
    "import numpy as np\n",
    "import nibabel as nib\n",
    "import os\n",
    "import matplotlib.pyplot as plt\n",
    "from math import pi\n",
    "from utils.sim_functions import complete_measurement\n",
    "\n"
   ]
  },
  {
   "cell_type": "code",
   "execution_count": 2,
   "metadata": {},
   "outputs": [],
   "source": [
    "import importlib\n",
    "import utils.sim_functions\n",
    "importlib.reload(utils.sim_functions)\n",
    "\n",
    "from utils.sim_functions import complete_measurement  # re-import updated function"
   ]
  },
  {
   "cell_type": "markdown",
   "metadata": {},
   "source": [
    "# <span style=\"color:#EE6594\"> *Complete Cropped signal equation - T1 // T 2* // PD & calculation of Flip Angle* </span> </br>\n",
    "Using gaussian distribution in the spinal cords gray and white matter </br>\n",
    "\n",
    "Completeing signal equation with T1 and TR block + the effect of the flip angle. <br>\n",
    "Flip angle should be the ernst angle which by definition is the *arc cos* of exp(-TR/T1). Fixing TR leads to the FA needed to maximize signal from either GM or WM from the spinal cord. <br>\n",
    "\n",
    "We can compute the fieldmap with all the field of view and then cropped to any size, the simulation will be realistic because the frequency offset effect is already portrayed from the whole body fieldmap calculated. </br>\n",
    "For this, we are using a bounding box </br>\n",
    "x: [100, 400] </br>\n",
    "y: [50, 400] </br>\n",
    "z: [673, 800] </br>\n",
    "\n",
    "This is good enough coverage of the cervical spine from brain to C5\n",
    "\n",
    "Don't forget to create your header in matlab!"
   ]
  },
  {
   "cell_type": "markdown",
   "metadata": {},
   "source": [
    "### <span style=\"color:#BC8EC4\"> *Guassian Cropped simulation* </span> "
   ]
  },
  {
   "cell_type": "code",
   "execution_count": 5,
   "metadata": {},
   "outputs": [
    {
     "data": {
      "text/plain": [
       "array([301, 351, 128])"
      ]
     },
     "execution_count": 5,
     "metadata": {},
     "output_type": "execute_result"
    }
   ],
   "source": [
    "path_to_cropped_segmentations = r\"E:\\msc_data\\sc_qsm\\Swiss_data\\march_25_re_process\\MR_simulations\\sim_data/ratatouille_swisss_crop.nii.gz\"\n",
    "path_to_cropped_pd = r\"E:\\msc_data\\sc_qsm\\new_gauss_sims\\sim_inputs\\swiss_crop/gauss_pd_sc_swiss_crop.nii.gz\"\n",
    "path_to_cropped_t1 = r\"E:\\msc_data\\sc_qsm\\new_gauss_sims\\sim_inputs\\swiss_crop/gauss_t1_sc_swiss_crop.nii.gz\"\n",
    "path_to_cropped_t2s = r\"E:\\msc_data\\sc_qsm\\new_gauss_sims\\sim_inputs\\swiss_crop/gauss_t2s_sc_swiss_crop.nii.gz\"\n",
    "path_to_cropped_fm_ppm = r\"E:\\msc_data\\sc_qsm\\new_gauss_sims\\sim_inputs/chi_to_fm_ppm/gauss_fm_ppm_sc_swiss_crop.nii.gz\"\n",
    "######### ####### # # ####### # # # # # # # # #### # # ### #\n",
    "cropped_segmentations_img = nib.load(path_to_cropped_segmentations)\n",
    "cropped_segmentations_data = cropped_segmentations_img.get_fdata()      \n",
    "cropped_dimensions = np.array(cropped_segmentations_data.shape)\n",
    "cropped_dimensions"
   ]
  },
  {
   "cell_type": "code",
   "execution_count": 6,
   "metadata": {},
   "outputs": [],
   "source": [
    "# Load nifti volumes\n",
    "crop_pd_pw_img = nib.load(path_to_cropped_pd)\n",
    "crop_pd_pw_data = crop_pd_pw_img.get_fdata()\n",
    "\n",
    "crop_t2s_pw_img = nib.load(path_to_cropped_t2s)\n",
    "crop_t2s_pw_data = crop_t2s_pw_img.get_fdata()\n",
    "\n",
    "crop_t1_pw_img = nib.load(path_to_cropped_t1)\n",
    "crop_t1_pw_data = crop_t1_pw_img.get_fdata()\n",
    "\n",
    "# This is the outcome of giving the susceptibility phantom to Susceptibility to Fieldmap repo\n",
    "crop_deltaB0_pw_img = nib.load(path_to_cropped_fm_ppm)\n",
    "crop_dB0_pw_ppm_data = crop_deltaB0_pw_img.get_fdata()"
   ]
  },
  {
   "cell_type": "code",
   "execution_count": 21,
   "metadata": {},
   "outputs": [
    {
     "name": "stdout",
     "output_type": "stream",
     "text": [
      "Custom FA for gm:  17.19615053947528\n"
     ]
    }
   ],
   "source": [
    "# Acquisition parameters:\n",
    "t1_gm = 984\n",
    "t1_wm = 857\n",
    "tr_custom= 45\n",
    "tr_swiss_acq = 926\n",
    "fieldStrength = 3 # Tesla\n",
    "\n",
    "fa_custom_gm = np.rad2deg(np.arccos(np.exp(-tr_custom/t1_gm))) # Degrees\n",
    "fa_swiss_acq = 44\n",
    "print(\"Custom FA for gm: \", fa_custom_gm)\n",
    "# Echo times must be in seconds\n",
    "swiss_TE_list = [0.00686, 0.01314, 0.01942, 0.0257, 0.03198]\n",
    "weird_TEs = [0.001, 0.002, 0.003, 0.004, 0.005, 0.010, 0.015, 0.020, 0.030, 0.040] # This provides better T2* fit but is unrealistic."
   ]
  },
  {
   "cell_type": "code",
   "execution_count": null,
   "metadata": {},
   "outputs": [],
   "source": []
  },
  {
   "cell_type": "code",
   "execution_count": 22,
   "metadata": {},
   "outputs": [
    {
     "name": "stdout",
     "output_type": "stream",
     "text": [
      "Starting optimize_measurement\n",
      "Flip angle used for:\n",
      "sin($/alpha$):  0.6946583704589973\n",
      "1-cos($/alpha$):  0.2806601996613488\n",
      "Processing TE[0] = 0.00686  [s]\n",
      "Using T1, T2* and PD for simulation\n",
      "handedness=right\n",
      "Coefficient of phase factor:  5.505606617515199j\n",
      "Finished optimized_signal\n",
      "mag shape: (301, 351, 128), phase_arr shape: (301, 351, 128)\n",
      "Processing TE[1] = 0.01314  [s]\n",
      "Using T1, T2* and PD for simulation\n",
      "handedness=right\n",
      "Coefficient of phase factor:  10.545724628884798j\n",
      "Finished optimized_signal\n",
      "mag shape: (301, 351, 128), phase_arr shape: (301, 351, 128)\n",
      "Processing TE[2] = 0.01942  [s]\n",
      "Using T1, T2* and PD for simulation\n",
      "handedness=right\n",
      "Coefficient of phase factor:  15.585842640254398j\n",
      "Finished optimized_signal\n",
      "mag shape: (301, 351, 128), phase_arr shape: (301, 351, 128)\n",
      "Processing TE[3] = 0.0257  [s]\n",
      "Using T1, T2* and PD for simulation\n",
      "handedness=right\n",
      "Coefficient of phase factor:  20.625960651624j\n",
      "Finished optimized_signal\n",
      "mag shape: (301, 351, 128), phase_arr shape: (301, 351, 128)\n",
      "Processing TE[4] = 0.03198  [s]\n",
      "Using T1, T2* and PD for simulation\n",
      "handedness=right\n",
      "Coefficient of phase factor:  25.6660786629936j\n",
      "Finished optimized_signal\n",
      "mag shape: (301, 351, 128), phase_arr shape: (301, 351, 128)\n",
      "Finished complete measurement\n"
     ]
    }
   ],
   "source": [
    "cropped_pw_mag, cropped_pw_phase = complete_measurement(crop_t1_pw_data, crop_pd_pw_data, crop_t2s_pw_data, cropped_dimensions, crop_dB0_pw_ppm_data , fa_swiss_acq, swiss_TE_list, tr_swiss_acq, fieldStrength, handedness= 'right')"
   ]
  },
  {
   "cell_type": "code",
   "execution_count": 23,
   "metadata": {},
   "outputs": [],
   "source": [
    "temp_crop_pw_mag = nib.Nifti1Image(cropped_pw_mag, affine = cropped_segmentations_img.affine)\n",
    "temp_crop_pw_ph = nib.Nifti1Image(cropped_pw_phase, affine = cropped_segmentations_img.affine)\n",
    "\n",
    "cropped_pw_magnitude_outpath = r\"E:\\msc_data\\sc_qsm\\new_gauss_sims\\mrsim_outpus\\cropped_swiss/gauss2_crop_sim_mag_pro.nii.gz\"\n",
    "cropped_pw_phase_outpath = r\"E:\\msc_data\\sc_qsm\\new_gauss_sims\\mrsim_outpus\\cropped_swiss/gauss2_crop_sim_ph_pro.nii.gz\"\n",
    "\n",
    "nib.save(temp_crop_pw_mag, cropped_pw_magnitude_outpath)\n",
    "nib.save(temp_crop_pw_ph, cropped_pw_phase_outpath)"
   ]
  },
  {
   "cell_type": "code",
   "execution_count": 30,
   "metadata": {},
   "outputs": [
    {
     "name": "stderr",
     "output_type": "stream",
     "text": [
      "C:\\Users\\User\\AppData\\Local\\Temp\\ipykernel_83356\\1727653921.py:1: RuntimeWarning: overflow encountered in exp\n",
      "  np.exp(-0.008/-4.346339950507538e-06)\n"
     ]
    },
    {
     "data": {
      "text/plain": [
       "inf"
      ]
     },
     "execution_count": 30,
     "metadata": {},
     "output_type": "execute_result"
    }
   ],
   "source": [
    "#An example of what a values can rise a overflow in exponential\n",
    "# This value was in the T2s volume because the gaussian distribution centered at 0.01\n",
    "# Which was 'air' label created a few pixels with this offlayer values that caused the issue \n",
    "# returning infinity and hence ITK could not open the image\n",
    "#np.exp(-0.008/-4.346339950507538e-06)"
   ]
  }
 ],
 "metadata": {
  "kernelspec": {
   "display_name": "mrsim",
   "language": "python",
   "name": "python3"
  },
  "language_info": {
   "codemirror_mode": {
    "name": "ipython",
    "version": 3
   },
   "file_extension": ".py",
   "mimetype": "text/x-python",
   "name": "python",
   "nbconvert_exporter": "python",
   "pygments_lexer": "ipython3",
   "version": "3.12.4"
  }
 },
 "nbformat": 4,
 "nbformat_minor": 2
}
