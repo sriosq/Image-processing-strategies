{
 "cells": [
  {
   "cell_type": "markdown",
   "metadata": {},
   "source": [
    "## Simulation using Gaussian distributed volumes"
   ]
  },
  {
   "cell_type": "code",
   "execution_count": 1,
   "metadata": {},
   "outputs": [
    {
     "name": "stdout",
     "output_type": "stream",
     "text": [
      "c:\\Users\\User\\msc_project\\Image-processing-strategies\\MRsim\\utils\n",
      "c:\\Users\\User\\msc_project\\Image-processing-strategies\\MRsim\n"
     ]
    },
    {
     "name": "stderr",
     "output_type": "stream",
     "text": [
      "c:\\Users\\User\\miniconda3\\envs\\mrsim\\Lib\\site-packages\\IPython\\core\\magics\\osm.py:417: UserWarning: This is now an optional IPython functionality, setting dhist requires you to install the `pickleshare` library.\n",
      "  self.shell.db['dhist'] = compress_dhist(dhist)[-100:]\n"
     ]
    }
   ],
   "source": [
    "import numpy as np\n",
    "import nibabel as nib\n",
    "import os\n",
    "import matplotlib.pyplot as plt\n",
    "import math\n",
    "\n",
    "%cd utils\n",
    "from sim_functions import optimize_measurement\n",
    "%cd .."
   ]
  },
  {
   "cell_type": "markdown",
   "metadata": {},
   "source": [
    "## Simulating for QSM </br>\n",
    "Last echo time should be at least close to T2s value of tissue of interest. </br>\n",
    "For SC, we want inbetween GM and WM: 59.5 ms </br>\n",
    "The first echo time should be the shortest possible, and echo spacing should be uniform. </br>\n",
    "Flip angle should be Ernst Angle $(cos^(exp(-TR/T1))-1)$ for tissue in the target region  </br>\n"
   ]
  },
  {
   "cell_type": "code",
   "execution_count": 2,
   "metadata": {},
   "outputs": [
    {
     "name": "stdout",
     "output_type": "stream",
     "text": [
      "[0.002 0.016 0.03  0.044 0.058]\n",
      "0.014\n"
     ]
    }
   ],
   "source": [
    "# Echo time list creation\n",
    "# Change number of echoes, start echo and last echo\n",
    "num_echoes = 5\n",
    "start_echo = 0.002\n",
    "last_echo = 0.058\n",
    "\n",
    "############## ### ########## ####### # # ##### # #  #### # ## ### \n",
    "echo_diff = last_echo - start_echo \n",
    "echo_dist = echo_diff / (num_echoes-1)\n",
    "custom_TE_list = np.zeros(num_echoes)\n",
    "custom_TE_list[0] = start_echo\n",
    "custom_TE_list[num_echoes-1] = last_echo\n",
    "\n",
    "for i in range(num_echoes-2):\n",
    "    custom_TE_list[i+1] = custom_TE_list[i] + echo_dist\n",
    "\n",
    "print(custom_TE_list)\n",
    "print(echo_dist)"
   ]
  },
  {
   "cell_type": "code",
   "execution_count": 3,
   "metadata": {},
   "outputs": [
    {
     "data": {
      "text/plain": [
       "6.783840992457034"
      ]
     },
     "execution_count": 3,
     "metadata": {},
     "output_type": "execute_result"
    }
   ],
   "source": [
    "# Calculating Erst Angle\n",
    "TR_val = 6 # in miliseconds\n",
    "T1_val = 854 # in miliseconds\n",
    "fa_ernst = math.acos(np.exp(-TR_val/T1_val))\n",
    "# acos returns in radians\n",
    "fa_ern_deg = math.degrees(fa_ernst)\n",
    "\n",
    "#flip_ang = 24\n",
    "#te_secs = [8, 9.5] # Using it in seconds to make it easier to run with texture on T2s values ??\n",
    "\n",
    "# The last requirement for the code is the dimensions, which can be easily acquired from the volume you work with\n",
    "# The dimensions needed because we will create a 4D array, where we will store the echo time data and we want to maintain the initial 3D dimensions.\n",
    "data = nib.load(\"data/ratatouille_crop.nii.gz\")\n",
    "np_data = data.get_fdata()\n",
    "dimensions = np.array(np_data.shape)\n",
    "dimensions\n",
    "math.degrees(fa_ernst)\n",
    "# In QSM RC 2.0 the flip angle is very low"
   ]
  },
  {
   "cell_type": "code",
   "execution_count": 4,
   "metadata": {},
   "outputs": [],
   "source": [
    "# Loading the data, Gaussian distributed volumes\n",
    "g_pd= nib.load(\"output/gauss_low_sd_pd_dist.nii.gz\")\n",
    "gauss_pd_vol = g_pd.get_fdata()\n",
    "g_t2s = nib.load(\"output/gauss_low_sd_t2s_dist.nii.gz\")\n",
    "gauss_t2s_vol = g_t2s.get_fdata()\n",
    "#deltaB0 = nib.load(\"data/fieldmap_crop.nii.gz\")\n",
    "pro_deltaB0 = nib.load(\"output/fm_05_sd.nii.gz\")\n",
    "dB0 = pro_deltaB0.get_fdata()\n",
    "fieldStrength = 3\n",
    "# suppress warnings due to Overflow on exponential while iterating\n",
    "#import warnings\n",
    "#warnings.filterwarnings('ignore') "
   ]
  },
  {
   "cell_type": "code",
   "execution_count": 4,
   "metadata": {},
   "outputs": [],
   "source": [
    "# I think the problem is when we have T2s value sooooooooo low, like in the lungs and air where we have 0.01\n",
    "decay_gauss = np.zeros(dimensions)\n",
    "for i in range(dimensions[0]):\n",
    "    for j in range(dimensions[1]):\n",
    "        for k in range(dimensions[2]):\n",
    "            with np.errstate(over='raise'):\n",
    "                try:\n",
    "                    decay_gauss[i, j, k] = np.exp(-0.008 / gauss_t2s_vol[i, j, k])\n",
    "                except FloatingPointError:\n",
    "                    print(f\"Overflow detected at index ({i}, {j}, {k}) with T2* value {gauss_t2s_vol[i, j, k]}\")\n",
    "                    decay_gauss[i, j, k] = np.finfo(np.float64).max  # Assign max value or another placeholder"
   ]
  },
  {
   "cell_type": "code",
   "execution_count": 30,
   "metadata": {},
   "outputs": [
    {
     "name": "stderr",
     "output_type": "stream",
     "text": [
      "C:\\Users\\User\\AppData\\Local\\Temp\\ipykernel_83356\\1727653921.py:1: RuntimeWarning: overflow encountered in exp\n",
      "  np.exp(-0.008/-4.346339950507538e-06)\n"
     ]
    },
    {
     "data": {
      "text/plain": [
       "inf"
      ]
     },
     "execution_count": 30,
     "metadata": {},
     "output_type": "execute_result"
    }
   ],
   "source": [
    "#An example of what a values can rise a overflow in exponential\n",
    "# This value was in the T2s volume because the gaussian distribution centered at 0.01\n",
    "# Which was 'air' label created a few pixels with this offlayer values that caused the issue \n",
    "# returning infinity and hence ITK could not open the image\n",
    "#np.exp(-0.008/-4.346339950507538e-06)"
   ]
  },
  {
   "cell_type": "code",
   "execution_count": 5,
   "metadata": {},
   "outputs": [
    {
     "name": "stdout",
     "output_type": "stream",
     "text": [
      "Starting optimize_measurement\n",
      "Processing TE[0] = 0.002\n",
      "Starting optimized_signal\n",
      "sin:  0.11812391963869848\n",
      "handedness=left\n",
      "Coefficient of phase factor:  -1.6051331246399998j\n",
      "Finished optimized_signal\n",
      "mag shape: (109, 129, 218), phase_arr shape: (109, 129, 218)\n",
      "Processing TE[1] = 0.016\n",
      "Starting optimized_signal\n",
      "sin:  0.11812391963869848\n",
      "handedness=left\n",
      "Coefficient of phase factor:  -12.841064997119998j\n",
      "Finished optimized_signal\n",
      "mag shape: (109, 129, 218), phase_arr shape: (109, 129, 218)\n",
      "Processing TE[2] = 0.03\n",
      "Starting optimized_signal\n",
      "sin:  0.11812391963869848\n",
      "handedness=left\n",
      "Coefficient of phase factor:  -24.076996869599995j\n",
      "Finished optimized_signal\n",
      "mag shape: (109, 129, 218), phase_arr shape: (109, 129, 218)\n",
      "Processing TE[3] = 0.044\n",
      "Starting optimized_signal\n",
      "sin:  0.11812391963869848\n",
      "handedness=left\n",
      "Coefficient of phase factor:  -35.31292874207999j\n",
      "Finished optimized_signal\n",
      "mag shape: (109, 129, 218), phase_arr shape: (109, 129, 218)\n",
      "Processing TE[4] = 0.058\n",
      "Starting optimized_signal\n",
      "sin:  0.11812391963869848\n",
      "handedness=left\n",
      "Coefficient of phase factor:  -46.54886061456j\n",
      "Finished optimized_signal\n",
      "mag shape: (109, 129, 218), phase_arr shape: (109, 129, 218)\n",
      "Finished optimize_measurement\n"
     ]
    }
   ],
   "source": [
    "# For gaussian data\n",
    "gauss_magnitude, gauss_phase = optimize_measurement(gauss_pd_vol, gauss_t2s_vol, dimensions, dB0, fa_ern_deg, custom_TE_list, fieldStrength)\n",
    "# By default, B0 should be 3 Tesla"
   ]
  },
  {
   "cell_type": "code",
   "execution_count": 7,
   "metadata": {},
   "outputs": [
    {
     "data": {
      "text/plain": [
       "-3.141592653589793"
      ]
     },
     "execution_count": 7,
     "metadata": {},
     "output_type": "execute_result"
    }
   ],
   "source": [
    "gauss_phase.min()"
   ]
  },
  {
   "cell_type": "code",
   "execution_count": 6,
   "metadata": {},
   "outputs": [],
   "source": [
    "# Save the magnitude and the phase to analyze them\n",
    "# Remember to change the name, if not it will overwrite it!\n",
    "# This version for gaussian distributed volumes\n",
    "temp_mag_g = nib.Nifti1Image(gauss_magnitude, affine=data.affine)\n",
    "temp_ph_g = nib.Nifti1Image(gauss_phase, affine=data.affine)\n",
    "path_mag_g = os.path.join('output','qsm_trials_phantom5_mag.nii.gz')\n",
    "path_ph_g = os.path.join('output','qsm_trials_phantom5_ph.nii.gz')\n",
    "nib.save(temp_mag_g, path_mag_g)\n",
    "nib.save(temp_ph_g, path_ph_g)\n",
    "\n",
    "del temp_mag_g, temp_ph_g"
   ]
  },
  {
   "cell_type": "markdown",
   "metadata": {},
   "source": [
    "## For QSM trials </br>\n",
    "We need to save each echo separately for processing with Shimming Toolbox to get the Fieldmap\n"
   ]
  },
  {
   "cell_type": "code",
   "execution_count": 7,
   "metadata": {},
   "outputs": [],
   "source": [
    "# Automating saving every echo\n",
    "out_dir = 'echoes'\n",
    "os.makedirs(out_dir,exist_ok=True)\n",
    "\n",
    "for i in range(num_echoes):\n",
    "    # Create the nifti file according to the echo\n",
    "    temp_echo_mag = nib.Nifti1Image(gauss_magnitude[..., i], affine = data.affine)\n",
    "    temp_echo_ph = nib.Nifti1Image(gauss_phase[..., i], affine = data.affine)\n",
    "\n",
    "    # Create the path to save this files\n",
    "    path_mag = os.path.join('echoes',f'gauss_sim_mag_echo{i+1}.nii.gz')\n",
    "    path_ph = os.path.join('echoes',f'gauss_sim_ph_echo{i+1}.nii.gz')\n",
    "\n",
    "    nib.save(temp_echo_mag, path_mag)\n",
    "    nib.save(temp_echo_ph, path_ph)\n"
   ]
  },
  {
   "cell_type": "code",
   "execution_count": null,
   "metadata": {},
   "outputs": [],
   "source": [
    "# For the first step of the QSM trials we use Shimming Toolbox.\n",
    "# To acquire the fieldmaps we need a .json sidecar for every echo\n",
    "# The only information necessary is: \n",
    "{\n",
    "\t\"Modality\": \"MR\",\n",
    "\t\"MagneticFieldStrength\": 3,\n",
    "\t\"Manufacturer\": \"Siemens\",\n",
    "\t\"EchoNumber\": 1,\n",
    "\t\"EchoTime\": 0.008,\n",
    "\t\"FlipAngle\": 24\n",
    "}\n",
    "# Manually edit the echo number, flip angle and the echo time appropriately"
   ]
  },
  {
   "cell_type": "code",
   "execution_count": null,
   "metadata": {},
   "outputs": [],
   "source": []
  }
 ],
 "metadata": {
  "kernelspec": {
   "display_name": "Python 3",
   "language": "python",
   "name": "python3"
  },
  "language_info": {
   "codemirror_mode": {
    "name": "ipython",
    "version": 3
   },
   "file_extension": ".py",
   "mimetype": "text/x-python",
   "name": "python",
   "nbconvert_exporter": "python",
   "pygments_lexer": "ipython3",
   "version": "3.12.4"
  }
 },
 "nbformat": 4,
 "nbformat_minor": 2
}
