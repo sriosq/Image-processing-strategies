{
 "cells": [
  {
   "cell_type": "code",
   "execution_count": 1,
   "id": "dd40cd69-0c38-4aa0-96fd-acbab60a968e",
   "metadata": {},
   "outputs": [],
   "source": [
    "import numpy as np\n",
    "import nibabel as nib\n",
    "import os\n",
    "import matplotlib.pyplot as plt\n",
    "from math import pi\n",
    "from utils.sim_functions import optimize_measurement\n",
    "from utils.sim_functions import complete_measurement"
   ]
  },
  {
   "cell_type": "markdown",
   "id": "5c13b7ed",
   "metadata": {},
   "source": [
    "# <span style=\"color:orange\"> *Complete signal equation - T1 // T2* // PD & calculation of Flip Angle* </span> "
   ]
  },
  {
   "cell_type": "markdown",
   "id": "7c4a409a",
   "metadata": {},
   "source": [
    "Completeing signal equation with T1 and TR block + the effect of the flip angle. <br>\n",
    "Flip angle should be the ernst angle which by definition is the *arc cos* of exp(-TR/T1). Fixing TR leads to the FA needed to maximize signal from either GM or WM from the spinal cord. <br>\n",
    "Signal equation for spoiled gradient-recalled echo: </br>\n",
    "a\n",
    "</br>\n",
    "Don't forget to create your header in matlab!"
   ]
  },
  {
   "cell_type": "markdown",
   "id": "5e3788d3",
   "metadata": {},
   "source": [
    "### <span style=\"color:#BC8EC4\"> *Piecewise complete simulation* </span> "
   ]
  },
  {
   "cell_type": "code",
   "execution_count": 2,
   "id": "e5fd87df",
   "metadata": {},
   "outputs": [
    {
     "data": {
      "text/plain": [
       "array([512, 512, 828])"
      ]
     },
     "execution_count": 2,
     "metadata": {},
     "output_type": "execute_result"
    }
   ],
   "source": [
    "path_to_segmentations = \"\"\n",
    "path_to_pd = \"\"\n",
    "path_to_t1 = \"\"\n",
    "path_to_t2s = \"\"\n",
    "path_to_fm = \"\"\n",
    "######### ####### # # ####### # # # # # # # # #### # # ### #\n",
    "segmentations_img = nib.load(path_to_segmentations)\n",
    "segmentations_data = segmentations_img.get_fdata()      \n",
    "dimensions = np.array(segmentations_data.shape)\n",
    "dimensions"
   ]
  },
  {
   "cell_type": "code",
   "execution_count": 3,
   "id": "4a42da41",
   "metadata": {},
   "outputs": [],
   "source": [
    "# Load nifti volumes\n",
    "pd_pw_img = nib.load(path_to_pd)\n",
    "pd_pw_data = pd_pw_img.get_fdata()\n",
    "\n",
    "t2s_pw_img = nib.load(path_to_t2s)\n",
    "t2s_pw_data = t2s_pw_img.get_fdata()\n",
    "\n",
    "t1_pw_img = nib.load(path_to_t1)\n",
    "t1_pw_data = t1_pw_img.get_fdata()\n",
    "\n",
    "# This is the outcome of giving the susceptibility phantom to Susceptibility to Fieldmap repo\n",
    "deltaB0_pw_img = nib.load(path_to_fm)\n",
    "dB0_pw_ppm_data = deltaB0_pw_img.get_fdata()"
   ]
  },
  {
   "cell_type": "code",
   "execution_count": 4,
   "id": "acdf0e8f",
   "metadata": {},
   "outputs": [
    {
     "name": "stdout",
     "output_type": "stream",
     "text": [
      "FA for gm:  10.304394802819381\n"
     ]
    }
   ],
   "source": [
    "# Acquisition parameters:\n",
    "t1_gm = 984\n",
    "t1_wm = 857\n",
    "tr = 16 \n",
    "fieldStrength = 3 # Tesla\n",
    "fa_gm = np.rad2deg(np.arccos(np.exp(-tr/t1_gm))) # Degrees\n",
    "print(\"FA for gm: \", fa_gm)\n",
    "# Echo times\n",
    "complete_TEs = [0.004, 0.008, 0.012, 0.016, 0.020, 0.024]\n",
    "swiss_TE_list = [6.86*1e-3, 13.14*1e-3, 19.42*1e-3, 25.7*1e-3, 31.98*1e-3]"
   ]
  },
  {
   "cell_type": "code",
   "execution_count": 5,
   "id": "c6b3dffb",
   "metadata": {},
   "outputs": [
    {
     "name": "stdout",
     "output_type": "stream",
     "text": [
      "Starting optimize_measurement\n",
      "Processing TE[0] = 0.006860000000000001  [s]\n",
      "Using T1, T2* and PD for simulation\n",
      "sin($/alpha$):  0.1788776822909693\n",
      "handedness=right\n",
      "Coefficient of phase factor:  5.5056066175152j\n",
      "Finished optimized_signal\n",
      "mag shape: (512, 512, 828), phase_arr shape: (512, 512, 828)\n",
      "Processing TE[1] = 0.01314  [s]\n",
      "Using T1, T2* and PD for simulation\n",
      "sin($/alpha$):  0.1788776822909693\n",
      "handedness=right\n",
      "Coefficient of phase factor:  10.545724628884798j\n",
      "Finished optimized_signal\n",
      "mag shape: (512, 512, 828), phase_arr shape: (512, 512, 828)\n",
      "Processing TE[2] = 0.019420000000000003  [s]\n",
      "Using T1, T2* and PD for simulation\n",
      "sin($/alpha$):  0.1788776822909693\n",
      "handedness=right\n",
      "Coefficient of phase factor:  15.5858426402544j\n",
      "Finished optimized_signal\n",
      "mag shape: (512, 512, 828), phase_arr shape: (512, 512, 828)\n",
      "Processing TE[3] = 0.0257  [s]\n",
      "Using T1, T2* and PD for simulation\n",
      "sin($/alpha$):  0.1788776822909693\n",
      "handedness=right\n",
      "Coefficient of phase factor:  20.625960651624j\n",
      "Finished optimized_signal\n",
      "mag shape: (512, 512, 828), phase_arr shape: (512, 512, 828)\n",
      "Processing TE[4] = 0.03198  [s]\n",
      "Using T1, T2* and PD for simulation\n",
      "sin($/alpha$):  0.1788776822909693\n",
      "handedness=right\n",
      "Coefficient of phase factor:  25.6660786629936j\n",
      "Finished optimized_signal\n",
      "mag shape: (512, 512, 828), phase_arr shape: (512, 512, 828)\n",
      "Finished optimize_measurement\n"
     ]
    }
   ],
   "source": [
    "complete_pw_mag, complete_pw_phase = complete_measurement(t1_pw_data, pd_pw_data, t2s_pw_data, dimensions, dB0_pw_ppm_data , fa_gm, swiss_TE_list, tr, fieldStrength, handedness='right') # By default, B0 is 3 Tesla"
   ]
  },
  {
   "cell_type": "code",
   "execution_count": 6,
   "id": "9ec6ff96",
   "metadata": {},
   "outputs": [],
   "source": [
    "temp_pw_mag = nib.Nifti1Image(complete_pw_mag, affine = segmentations_img.affine)\n",
    "temp_pw_ph = nib.Nifti1Image(complete_pw_phase, affine = segmentations_img.affine)\n",
    "\n",
    "\n",
    "pw_magnitude_outpath = r\"\"\n",
    "pw_phase_outpath = r\"\"\n",
    "\n",
    "nib.save(temp_pw_mag, pw_magnitude_outpath)\n",
    "nib.save(temp_pw_ph, pw_phase_outpath)"
   ]
  },
  {
   "cell_type": "markdown",
   "id": "b9f0ecc0",
   "metadata": {},
   "source": [
    "### <span style=\"color:#BC8EC4\"> *Gaussian complete simulation* </span> </br>\n",
    "*Soon!* Still waiting on consensus for gaussian distribution of values"
   ]
  },
  {
   "cell_type": "code",
   "execution_count": 2,
   "id": "6c0050a0",
   "metadata": {},
   "outputs": [],
   "source": [
    "path_to_segmentations = \"E:/msc_data/sc_qsm/data/wb/data/ratatouille_corrected_pixels.nii.gz\"\n",
    "path_to_gauss_t1 = \"E:/msc_data/sc_qsm/data/wb/output/gauss_qsm_wb_gauss_tsting_t1.nii.gz\"\n",
    "path_to_gauss_pd = \"E:/msc_data/sc_qsm/data/wb/output/gauss_qsm_wb_gauss_tsting_pd.nii.gz\"\n",
    "path_to_gauss_t2s = \"E:/msc_data/sc_qsm/data/wb/output/gauss_qsm_wb_gauss_tsting_t2s.nii.gz\"\n",
    "path_to_gauss_fm = \"E:/msc_data/sc_qsm/data/wb/output/qsm_wb_gauss_tsting_fm_ppm.nii.gz\"\n",
    "fieldStrength = 3 # In Tesla"
   ]
  },
  {
   "cell_type": "code",
   "execution_count": 3,
   "id": "0c9b2e91",
   "metadata": {},
   "outputs": [],
   "source": [
    "segmentations_img = nib.load(path_to_segmentations)\n",
    "segmentations_data = segmentations_img.get_fdata()      \n",
    "dimensions = np.array(segmentations_data.shape)\n",
    "\n",
    "pd_gauss_img = nib.load(path_to_gauss_pd)\n",
    "pd_gauss_data = pd_gauss_img.get_fdata()\n",
    "t2s_gauss_img = nib.load(path_to_gauss_t2s)\n",
    "t2s_gauss_data = t2s_gauss_img.get_fdata()\n",
    "t1_gauss_img = nib.load(path_to_gauss_t1)\n",
    "t1_gauss_data = t1_gauss_img.get_fdata()\n",
    "\n",
    "# This is the outcome of giving the susceptibility phantom to Susceptibility to Fieldmap repo\n",
    "deltaB0_gauss_img = nib.load(path_to_gauss_fm)\n",
    "dB0_gauss_ppm_data = deltaB0_gauss_img.get_fdata()"
   ]
  },
  {
   "cell_type": "code",
   "execution_count": 5,
   "id": "1486284c",
   "metadata": {},
   "outputs": [
    {
     "name": "stdout",
     "output_type": "stream",
     "text": [
      "FA for gm:  10.304394802819381\n",
      "FA for wm:  11.0371009293002\n"
     ]
    }
   ],
   "source": [
    "# We want to maximize contrast between SC wm and SC gm\n",
    "t1_gm = 984\n",
    "t1_wm = 857\n",
    "tr = 16 \n",
    "\n",
    "fa_gm = np.rad2deg(np.arccos(np.exp(-tr/t1_gm)))\n",
    "fa_wm = np.rad2deg(np.arccos(np.exp(-tr/t1_wm)))\n",
    "\n",
    "print(\"FA for gm: \", fa_gm)\n",
    "print(\"FA for wm: \", fa_wm)"
   ]
  },
  {
   "cell_type": "code",
   "execution_count": 6,
   "id": "db99421d",
   "metadata": {},
   "outputs": [
    {
     "data": {
      "text/plain": [
       "0.1788776822909693"
      ]
     },
     "execution_count": 6,
     "metadata": {},
     "output_type": "execute_result"
    }
   ],
   "source": [
    "np.sin(np.deg2rad(fa_gm))"
   ]
  },
  {
   "cell_type": "code",
   "execution_count": 7,
   "id": "9b048241",
   "metadata": {},
   "outputs": [
    {
     "data": {
      "text/plain": [
       "0.17984561673459007"
      ]
     },
     "execution_count": 7,
     "metadata": {},
     "output_type": "execute_result"
    }
   ],
   "source": [
    "np.deg2rad(fa_gm)"
   ]
  },
  {
   "cell_type": "markdown",
   "id": "2920f9a5",
   "metadata": {},
   "source": [
    "### Plotting Intensity for FA selection"
   ]
  },
  {
   "cell_type": "code",
   "execution_count": 5,
   "id": "31c10a4b",
   "metadata": {},
   "outputs": [
    {
     "data": {
      "image/png": "[encoded data removed]",
      "text/plain": [
       "<Figure size 800x600 with 1 Axes>"
      ]
     },
     "metadata": {},
     "output_type": "display_data"
    }
   ],
   "source": [
    "# What if we don't fix TR?\n",
    "import numpy as np\n",
    "import matplotlib.pyplot as plt\n",
    "\n",
    "TRs = np.linspace(10, 2000, 500)\n",
    "theta_1 = np.arccos(np.exp(-TRs / t1_gm))\n",
    "theta_2 = np.arccos(np.exp(-TRs / t1_wm))\n",
    "\n",
    "E1_gm = np.exp(-TRs / t1_gm)\n",
    "E1_wm = np.exp(-TRs / t1_wm)\n",
    "S1 = np.sin(theta_1) * (1 - E1_gm) / (1 - E1_gm * np.cos(theta_1))\n",
    "S2 = np.sin(theta_2) * (1 - E1_wm) / (1 - E1_wm * np.cos(theta_2))\n",
    "\n",
    "# Plot\n",
    "plt.figure(figsize=(8, 6))\n",
    "#plt.plot(TRs, S1, label=f'T1 = {t1_gm} ms', color='blue')\n",
    "#plt.plot(TRs, S2, label=f'T1 = {t1_wm} ms', color='red')\n",
    "plt.plot(TRs, np.abs(S2-S1), label=f'Difference in instensity', color='green')\n",
    "plt.xlabel('Repetition Time (TR) [ms]')\n",
    "plt.ylabel('Signal Intensity (arbitrary units)')\n",
    "plt.title('Signal Intensity vs. TR')\n",
    "plt.legend()\n",
    "plt.grid(True)\n",
    "plt.show()"
   ]
  },
  {
   "cell_type": "markdown",
   "id": "7fa27b1c",
   "metadata": {},
   "source": [
    "### Acquistion parameters and measurement"
   ]
  },
  {
   "cell_type": "code",
   "execution_count": 8,
   "id": "cc44b364",
   "metadata": {},
   "outputs": [],
   "source": [
    "# Following the QSM recommendations for initial testing, echospacing of 8ms and we should include the T2s of tissue of interest\n",
    "# In this case our last echo would be T2* of sc_gm around 40ms\n",
    "complete_TEs = [0.008, 0.016, 0.024, 0.032, 0.040]"
   ]
  },
  {
   "cell_type": "code",
   "execution_count": 9,
   "id": "02b6d080",
   "metadata": {},
   "outputs": [
    {
     "name": "stdout",
     "output_type": "stream",
     "text": [
      "Starting optimize_measurement\n",
      "Processing TE[0] = 0.008  [s]\n",
      "Using T1, T2* and PD for simulation\n",
      "sin($/alpha$):  0.1788776822909693\n",
      "handedness=left\n",
      "Coefficient of phase factor:  -6.420532498559999j\n",
      "Finished optimized_signal\n",
      "mag shape: (512, 512, 828), phase_arr shape: (512, 512, 828)\n",
      "Processing TE[1] = 0.016  [s]\n",
      "Using T1, T2* and PD for simulation\n",
      "sin($/alpha$):  0.1788776822909693\n",
      "handedness=left\n",
      "Coefficient of phase factor:  -12.841064997119998j\n",
      "Finished optimized_signal\n",
      "mag shape: (512, 512, 828), phase_arr shape: (512, 512, 828)\n",
      "Processing TE[2] = 0.024  [s]\n",
      "Using T1, T2* and PD for simulation\n",
      "sin($/alpha$):  0.1788776822909693\n",
      "handedness=left\n",
      "Coefficient of phase factor:  -19.261597495679997j\n",
      "Finished optimized_signal\n",
      "mag shape: (512, 512, 828), phase_arr shape: (512, 512, 828)\n",
      "Processing TE[3] = 0.032  [s]\n",
      "Using T1, T2* and PD for simulation\n",
      "sin($/alpha$):  0.1788776822909693\n",
      "handedness=left\n",
      "Coefficient of phase factor:  -25.682129994239997j\n",
      "Finished optimized_signal\n",
      "mag shape: (512, 512, 828), phase_arr shape: (512, 512, 828)\n",
      "Processing TE[4] = 0.04  [s]\n",
      "Using T1, T2* and PD for simulation\n",
      "sin($/alpha$):  0.1788776822909693\n",
      "handedness=left\n",
      "Coefficient of phase factor:  -32.10266249279999j\n",
      "Finished optimized_signal\n",
      "mag shape: (512, 512, 828), phase_arr shape: (512, 512, 828)\n",
      "Finished optimize_measurement\n"
     ]
    }
   ],
   "source": [
    "complete_gauss_mag, complete_gauss_phase = complete_measurement(t1_gauss_data, pd_gauss_data, t2s_gauss_data, dimensions, dB0_gauss_ppm_data , fa_gm, complete_TEs, tr, fieldStrength) # By default, B0 is 3 Tesla"
   ]
  },
  {
   "cell_type": "code",
   "execution_count": 10,
   "id": "fd28a09d",
   "metadata": {},
   "outputs": [],
   "source": [
    "temp_gauss_mag = nib.Nifti1Image(complete_gauss_mag, affine = segmentations_img.affine)\n",
    "temp_gauss_ph = nib.Nifti1Image(complete_gauss_phase, affine = segmentations_img.affine)\n",
    "\n",
    "gauss_magnitude_outpath = \"E:/msc_data/sc_qsm/data/wb/simulation/gauss_full_sim_mag_pro.nii.gz\"\n",
    "gauss_phase_outpath = \"E:/msc_data/sc_qsm/data/wb/simulation/gauss_full_sim_phase_pro.nii.gz\"\n",
    "\n",
    "nib.save(temp_gauss_mag, gauss_magnitude_outpath)\n",
    "nib.save(temp_gauss_ph, gauss_phase_outpath)"
   ]
  },
  {
   "cell_type": "markdown",
   "id": "a526b196",
   "metadata": {},
   "source": [
    "### Loading Mag & Phase for Echo extraction"
   ]
  },
  {
   "cell_type": "code",
   "execution_count": null,
   "id": "6077fc2d",
   "metadata": {},
   "outputs": [],
   "source": [
    "# After cropping, we can load and extract just 1 echo or all\n",
    "path_to_cropped_pw_mag = \"E:/msc_data/sc_qsm/data/wb/simulation/pw_full_sim_mag_pro_cropped.nii.gz\"\n",
    "cropped_pw_mag_img = nib.load(path_to_cropped_pw_mag)\n",
    "cropped_pw_mag_data = cropped_pw_mag_img.get_fdata()"
   ]
  },
  {
   "cell_type": "code",
   "execution_count": null,
   "id": "57b9b596",
   "metadata": {},
   "outputs": [],
   "source": [
    "path_to_cropped_pw_ph = \"E:/msc_data/sc_qsm/data/wb/simulation/pw_full_sim_mag_pro_cropped.nii.gz\"\n",
    "cropped_pw_ph_img = nib.load(path_to_cropped_pw_ph)\n",
    "cropped_pw_ph_data = cropped_pw_mag_img.get_fdata()"
   ]
  },
  {
   "cell_type": "markdown",
   "id": "19412fae",
   "metadata": {},
   "source": [
    "# <span style=\"color:#EE6594\"> *Complete Cropped signal equation - T1 // T2* // PD & calculation of Flip Angle* </span> </br>\n",
    "We can compute the fieldmap with all the field of view and then cropped to any size, the simulation will be realistic because the frequency offset effect is already portrayed from the whole body fieldmap calculated. </br>\n",
    "For this, we are using a bounding box </br>\n",
    "x: [100, 400] </br>\n",
    "y: [50, 400] </br>\n",
    "z: [673, 800] </br>\n",
    "\n",
    "This is good enough coverage of the cervical spine from brain to C5"
   ]
  },
  {
   "cell_type": "markdown",
   "id": "530f44ef",
   "metadata": {},
   "source": [
    "### <span style=\"color:#BC8EC4\"> *Piecewise complete simulation* </span> "
   ]
  },
  {
   "cell_type": "code",
   "execution_count": 10,
   "id": "17aba8ac",
   "metadata": {},
   "outputs": [
    {
     "data": {
      "text/plain": [
       "array([301, 351, 128])"
      ]
     },
     "execution_count": 10,
     "metadata": {},
     "output_type": "execute_result"
    }
   ],
   "source": [
    "path_to_cropped_segmentations = r\"E:\\msc_data\\sc_qsm\\Swiss_data\\march_25_re_process\\simulations\\sim_data/ratatouille_swisss_crop.nii.gz\"\n",
    "path_to_cropped_pd = r\"E:\\msc_data\\sc_qsm\\Swiss_data\\march_25_re_process\\simulations\\sim_data\\output/qsm_pd_swiss_testing.nii.gz\"\n",
    "path_to_cropped_t1 = r\"E:\\msc_data\\sc_qsm\\Swiss_data\\march_25_re_process\\simulations\\sim_data\\output/qsm_t1_swiss_testing.nii.gz\"\n",
    "path_to_cropped_t2s = r\"E:\\msc_data\\sc_qsm\\Swiss_data\\march_25_re_process\\simulations\\sim_data\\output/qsm_t2s_swiss_testing.nii.gz\"\n",
    "path_to_cropped_fm_ppm = r\"E:\\msc_data\\sc_qsm\\Swiss_data\\march_25_re_process\\simulations\\sim_data\\output/qsm_crop_fm_ppm_swiss_testing.nii.gz\"\n",
    "######### ####### # # ####### # # # # # # # # #### # # ### #\n",
    "cropped_segmentations_img = nib.load(path_to_cropped_segmentations)\n",
    "cropped_segmentations_data = cropped_segmentations_img.get_fdata()      \n",
    "cropped_dimensions = np.array(cropped_segmentations_data.shape)\n",
    "cropped_dimensions"
   ]
  },
  {
   "cell_type": "code",
   "execution_count": 11,
   "id": "c4bd2ef6",
   "metadata": {},
   "outputs": [],
   "source": [
    "# Load nifti volumes\n",
    "crop_pd_pw_img = nib.load(path_to_cropped_pd)\n",
    "crop_pd_pw_data = crop_pd_pw_img.get_fdata()\n",
    "\n",
    "crop_t2s_pw_img = nib.load(path_to_cropped_t2s)\n",
    "crop_t2s_pw_data = crop_t2s_pw_img.get_fdata()\n",
    "\n",
    "crop_t1_pw_img = nib.load(path_to_cropped_t1)\n",
    "crop_t1_pw_data = crop_t1_pw_img.get_fdata()\n",
    "\n",
    "# This is the outcome of giving the susceptibility phantom to Susceptibility to Fieldmap repo\n",
    "crop_deltaB0_pw_img = nib.load(path_to_cropped_fm_ppm)\n",
    "crop_dB0_pw_ppm_data = crop_deltaB0_pw_img.get_fdata()"
   ]
  },
  {
   "cell_type": "code",
   "execution_count": 12,
   "id": "e934d1b3",
   "metadata": {},
   "outputs": [
    {
     "name": "stdout",
     "output_type": "stream",
     "text": [
      "FA for gm:  10.304394802819381\n"
     ]
    }
   ],
   "source": [
    "# Acquisition parameters:\n",
    "t1_gm = 984\n",
    "t1_wm = 857\n",
    "tr = 16 \n",
    "fieldStrength = 3 # Tesla\n",
    "fa_gm = np.rad2deg(np.arccos(np.exp(-tr/t1_gm))) # Degrees\n",
    "fa_swiss_acq = 44\n",
    "print(\"FA for gm: \", fa_gm)\n",
    "# Echo times\n",
    "swiss_TE_list = [6.86*1e-3, 13.14*1e-3, 19.42*1e-3, 25.7*1e-3, 31.98*1e-3]\n",
    "weird_TEs = [0.001, 0.002, 0.003, 0.004, 0.005, 0.010, 0.015, 0.020, 0.030, 0.040] # This provides better T2* fit but is unrealistic."
   ]
  },
  {
   "cell_type": "code",
   "execution_count": 13,
   "id": "ac10b78e",
   "metadata": {},
   "outputs": [
    {
     "name": "stdout",
     "output_type": "stream",
     "text": [
      "Starting optimize_measurement\n",
      "Processing TE[0] = 0.006860000000000001  [s]\n",
      "Using T1, T2* and PD for simulation\n",
      "sin($/alpha$):  0.6946583704589973\n",
      "handedness=right\n",
      "Coefficient of phase factor:  5.5056066175152j\n",
      "Finished optimized_signal\n",
      "mag shape: (301, 351, 128), phase_arr shape: (301, 351, 128)\n",
      "Processing TE[1] = 0.01314  [s]\n",
      "Using T1, T2* and PD for simulation\n",
      "sin($/alpha$):  0.6946583704589973\n",
      "handedness=right\n",
      "Coefficient of phase factor:  10.545724628884798j\n",
      "Finished optimized_signal\n",
      "mag shape: (301, 351, 128), phase_arr shape: (301, 351, 128)\n",
      "Processing TE[2] = 0.019420000000000003  [s]\n",
      "Using T1, T2* and PD for simulation\n",
      "sin($/alpha$):  0.6946583704589973\n",
      "handedness=right\n",
      "Coefficient of phase factor:  15.5858426402544j\n",
      "Finished optimized_signal\n",
      "mag shape: (301, 351, 128), phase_arr shape: (301, 351, 128)\n",
      "Processing TE[3] = 0.0257  [s]\n",
      "Using T1, T2* and PD for simulation\n",
      "sin($/alpha$):  0.6946583704589973\n",
      "handedness=right\n",
      "Coefficient of phase factor:  20.625960651624j\n",
      "Finished optimized_signal\n",
      "mag shape: (301, 351, 128), phase_arr shape: (301, 351, 128)\n",
      "Processing TE[4] = 0.03198  [s]\n",
      "Using T1, T2* and PD for simulation\n",
      "sin($/alpha$):  0.6946583704589973\n",
      "handedness=right\n",
      "Coefficient of phase factor:  25.6660786629936j\n",
      "Finished optimized_signal\n",
      "mag shape: (301, 351, 128), phase_arr shape: (301, 351, 128)\n",
      "Finished optimize_measurement\n"
     ]
    }
   ],
   "source": [
    "cropped_pw_mag, cropped_pw_phase = complete_measurement(crop_t1_pw_data, crop_pd_pw_data, crop_t2s_pw_data, cropped_dimensions, crop_dB0_pw_ppm_data , fa_swiss_acq, swiss_TE_list, tr, fieldStrength, handedness= 'right') # By default, B0 is 3 Tesla"
   ]
  },
  {
   "cell_type": "code",
   "execution_count": 14,
   "id": "35421577",
   "metadata": {},
   "outputs": [],
   "source": [
    "temp_crop_pw_mag = nib.Nifti1Image(cropped_pw_mag, affine = cropped_segmentations_img.affine)\n",
    "temp_crop_pw_ph = nib.Nifti1Image(cropped_pw_phase, affine = cropped_segmentations_img.affine)\n",
    "\n",
    "cropped_pw_magnitude_outpath = r\"E:\\msc_data\\sc_qsm\\Swiss_data\\march_25_re_process\\simulations\\sim_data\\simulation/pw_full_sim_mag_pro.nii.gz\"\n",
    "cropped_pw_phase_outpath = r\"E:\\msc_data\\sc_qsm\\Swiss_data\\march_25_re_process\\simulations\\sim_data\\simulation/pw_full_sim_ph_pro.nii.gz\"\n",
    "\n",
    "nib.save(temp_crop_pw_mag, cropped_pw_magnitude_outpath)\n",
    "nib.save(temp_crop_pw_ph, cropped_pw_phase_outpath)"
   ]
  },
  {
   "cell_type": "markdown",
   "id": "9c9707d3",
   "metadata": {},
   "source": [
    "# Testing python stuff that makes things wrong"
   ]
  },
  {
   "cell_type": "code",
   "execution_count": 15,
   "id": "c5de2c47",
   "metadata": {},
   "outputs": [
    {
     "data": {
      "text/plain": [
       "267522187.43999997"
      ]
     },
     "execution_count": 15,
     "metadata": {},
     "output_type": "execute_result"
    }
   ],
   "source": [
    "gamma_rd_sT = 267.52218744 * 10e5 # In rad/(sec * T)\n",
    "gamma_rd_sT"
   ]
  },
  {
   "cell_type": "code",
   "execution_count": 16,
   "id": "d4b9bed8",
   "metadata": {},
   "outputs": [
    {
     "name": "stdout",
     "output_type": "stream",
     "text": [
      "8.0\n"
     ]
    },
    {
     "data": {
      "text/plain": [
       "80.0"
      ]
     },
     "execution_count": 16,
     "metadata": {},
     "output_type": "execute_result"
    }
   ],
   "source": [
    "a = 0.008\n",
    "c= a*1e3\n",
    "print(c)\n",
    "b = a*10e3\n",
    "b"
   ]
  },
  {
   "cell_type": "code",
   "execution_count": 17,
   "id": "e2c7717f",
   "metadata": {},
   "outputs": [
    {
     "ename": "NameError",
     "evalue": "name 't2s_vol' is not defined",
     "output_type": "error",
     "traceback": [
      "\u001b[1;31m---------------------------------------------------------------------------\u001b[0m",
      "\u001b[1;31mNameError\u001b[0m                                 Traceback (most recent call last)",
      "Cell \u001b[1;32mIn[17], line 1\u001b[0m\n\u001b[1;32m----> 1\u001b[0m t2s_vol[\u001b[38;5;241m80\u001b[39m,\u001b[38;5;241m80\u001b[39m,\u001b[38;5;241m80\u001b[39m]\n\u001b[0;32m      2\u001b[0m h \u001b[38;5;241m=\u001b[39m t2s_vol[\u001b[38;5;241m80\u001b[39m,\u001b[38;5;241m80\u001b[39m,\u001b[38;5;241m80\u001b[39m]\u001b[38;5;241m*\u001b[39m\u001b[38;5;241m1e-3\u001b[39m\n\u001b[0;32m      3\u001b[0m \u001b[38;5;28mprint\u001b[39m(h)\n",
      "\u001b[1;31mNameError\u001b[0m: name 't2s_vol' is not defined"
     ]
    }
   ],
   "source": [
    "t2s_vol[80,80,80]\n",
    "h = t2s_vol[80,80,80]*1e-3\n",
    "print(h)"
   ]
  },
  {
   "cell_type": "code",
   "execution_count": 25,
   "id": "3ebd0cdb",
   "metadata": {},
   "outputs": [
    {
     "data": {
      "text/plain": [
       "42.57747851783255"
      ]
     },
     "execution_count": 25,
     "metadata": {},
     "output_type": "execute_result"
    }
   ],
   "source": [
    "267.52218744 * 1e6 * 3 * 1e-6 /(2*pi*3)"
   ]
  },
  {
   "cell_type": "code",
   "execution_count": 12,
   "id": "41fef636",
   "metadata": {},
   "outputs": [
    {
     "name": "stdout",
     "output_type": "stream",
     "text": [
      "sim_mag_pro_echo_0.nii.gz\n",
      "sim_phase_pro_echo_0.nii.gz\n",
      "sim_mag_pro_echo_1.nii.gz\n",
      "sim_phase_pro_echo_1.nii.gz\n"
     ]
    }
   ],
   "source": [
    "for te in range(len(TE_list)):\n",
    "    mag_name = \"sim_mag_pro\"+ \"_echo_\" + str(te) +\".nii.gz\"\n",
    "    phs_name = \"sim_phase_pro\"+ \"_echo_\" + str(te) +\".nii.gz\"\n",
    "    print(mag_name)\n",
    "    print(phs_name)"
   ]
  },
  {
   "cell_type": "markdown",
   "id": "ba78a02a",
   "metadata": {},
   "source": [
    "## Example of pixel correction"
   ]
  },
  {
   "cell_type": "code",
   "execution_count": 2,
   "id": "81bd8291",
   "metadata": {},
   "outputs": [
    {
     "name": "stdout",
     "output_type": "stream",
     "text": [
      "c:\\Users\\User\\msc_project\\Image-processing-strategies\\MRsim\\tissue-to-MRproperty\n",
      "c:\\Users\\User\\msc_project\\Image-processing-strategies\\MRsim\\tissue-to-MRproperty\\functions\n",
      "c:\\Users\\User\\msc_project\\Image-processing-strategies\\MRsim\n"
     ]
    },
    {
     "name": "stderr",
     "output_type": "stream",
     "text": [
      "c:\\Users\\User\\miniconda3\\envs\\mrsim\\Lib\\site-packages\\IPython\\core\\magics\\osm.py:417: UserWarning: This is now an optional IPython functionality, setting dhist requires you to install the `pickleshare` library.\n",
      "  self.shell.db['dhist'] = compress_dhist(dhist)[-100:]\n",
      "c:\\Users\\User\\miniconda3\\envs\\mrsim\\Lib\\site-packages\\IPython\\core\\magics\\osm.py:417: UserWarning: This is now an optional IPython functionality, setting dhist requires you to install the `pickleshare` library.\n",
      "  self.shell.db['dhist'] = compress_dhist(dhist)[-100:]\n"
     ]
    }
   ],
   "source": [
    "import numpy as np\n",
    "import nibabel as nib\n",
    "%cd tissue-to-MRproperty\n",
    "%cd functions\n",
    "from volume import volume\n",
    "%cd ../.."
   ]
  },
  {
   "cell_type": "code",
   "execution_count": 2,
   "id": "3ca1bc0f",
   "metadata": {},
   "outputs": [],
   "source": [
    "# Lets create a volume object with the labeled nifti file\n",
    "labeled_img = nib.load(\"data/ratatouille_crop.nii.gz\")\n",
    "rata_class = volume(labeled_img)\n",
    "rata_class.group_seg_labels(\"TotalSeg_CT\", \"mod2\")"
   ]
  },
  {
   "cell_type": "code",
   "execution_count": 6,
   "id": "ef6469c1",
   "metadata": {},
   "outputs": [
    {
     "name": "stdout",
     "output_type": "stream",
     "text": [
      "Pixel with wrong value: 809.0 located at (47, 29, 77)\n",
      "(indexed from [0,0,0])\n",
      "[Y] continues checking pixels, [n] lets you edit it\n",
      "Maybe you want to change the value?\n",
      "Changed value to:  196\n",
      "Pixel with wrong value: 809.0 located at (47, 30, 74)\n",
      "(indexed from [0,0,0])\n",
      "[Y] continues checking pixels, [n] lets you edit it\n",
      "Maybe you want to change the value?\n",
      "Changed value to:  196\n",
      "Pixel with wrong value: 809.0 located at (48, 28, 81)\n",
      "(indexed from [0,0,0])\n",
      "[Y] continues checking pixels, [n] lets you edit it\n",
      "Maybe you want to change the value?\n",
      "Changed value to:  196\n",
      "Pixel with wrong value: 749.0 located at (60, 100, 178)\n",
      "(indexed from [0,0,0])\n",
      "[Y] continues checking pixels, [n] lets you edit it\n",
      "Maybe you want to change the value?\n",
      "Changed value to:  289\n",
      "Pixel with wrong value: 749.0 located at (61, 100, 178)\n",
      "(indexed from [0,0,0])\n",
      "[Y] continues checking pixels, [n] lets you edit it\n",
      "Maybe you want to change the value?\n",
      "Changed value to:  289\n",
      "Saving corrected volume for later usage!\n"
     ]
    },
    {
     "data": {
      "text/plain": [
       "0"
      ]
     },
     "execution_count": 6,
     "metadata": {},
     "output_type": "execute_result"
    }
   ],
   "source": [
    "rata_class.check_pixels()"
   ]
  },
  {
   "cell_type": "markdown",
   "id": "9958c45c",
   "metadata": {},
   "source": [
    "# Adding Gaussian Noise to magnitude"
   ]
  },
  {
   "cell_type": "markdown",
   "id": "058d9033",
   "metadata": {},
   "source": [
    "## Testing "
   ]
  },
  {
   "cell_type": "markdown",
   "id": "1a66e310",
   "metadata": {},
   "source": [
    "### Grouping them up based on their susceptibility to create a label_gaussians "
   ]
  },
  {
   "cell_type": "code",
   "execution_count": 14,
   "id": "9a32ac6c",
   "metadata": {},
   "outputs": [
    {
     "data": {
      "text/plain": [
       "2.78"
      ]
     },
     "execution_count": 14,
     "metadata": {},
     "output_type": "execute_result"
    }
   ],
   "source": [
    "std_dev = {\n",
    "\n",
    "            \"air\": 2.78,  # air is backgrund\n",
    "            # To all labels we have substracted air std_dev\n",
    "            \"bone\": 10.87,\n",
    "            \"lung\": 8.01,\n",
    "            # Water is a value similar to CSF\n",
    "            \"water\": 27.79,\n",
    "            \"CSF\": 26.5,\n",
    "\n",
    "            \"spinal_cord\": 7.64,\n",
    "\n",
    "            \"sc_csf\": 26.5,\n",
    "            # This values are not taken from Whole spine data\n",
    "            # But taken from Brain image.\n",
    "            # EAO Flash 2.5mm\n",
    "            \"sc_wm\": 9.82,\n",
    "            \"sc_gm\": 12.76,\n",
    "            \"brain\": 27.91,\n",
    "            ### Back to Whole Spine data values\n",
    "            \"fat\": 33.78,\n",
    "            \"liver\": 14.82,\n",
    "            \"spleen\": 16.17,\n",
    "\n",
    "            # \"white_matter\": ,  # This is the brain WM\n",
    "            # \"gray_matter\": ,  # This is the brain GM\n",
    "\n",
    "            \"heart\": 15.49,\n",
    "            \"kidney\": 14.35,\n",
    "            \"pancreas\": 16.94,\n",
    "            \"cartilage\": 10.21,\n",
    "            \"bone_marrow\": 12.2,\n",
    "            \"SpinalCanal\": 18.895,  # sc_csf + (sc_wm + sc_gm / 2 )\n",
    "            \"esophagus\": 17.33,\n",
    "            \"trachea\": 10.21,  # Trachea should have similar to lung\n",
    "            \"organ\": 14.66,\n",
    "            \"gland\": 15.82,\n",
    "\n",
    "            \"extra\": 14.91,\n",
    "\n",
    "            \"sinus\": 9.53}\n",
    "\n",
    "std_dev['air']"
   ]
  }
 ],
 "metadata": {
  "kernelspec": {
   "display_name": "Python 3",
   "language": "python",
   "name": "python3"
  },
  "language_info": {
   "codemirror_mode": {
    "name": "ipython",
    "version": 3
   },
   "file_extension": ".py",
   "mimetype": "text/x-python",
   "name": "python",
   "nbconvert_exporter": "python",
   "pygments_lexer": "ipython3",
   "version": "3.13.2"
  }
 },
 "nbformat": 4,
 "nbformat_minor": 5
}
