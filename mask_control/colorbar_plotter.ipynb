{
 "cells": [
  {
   "cell_type": "code",
   "execution_count": 2,
   "metadata": {},
   "outputs": [],
   "source": [
    "import numpy\n",
    "import nibabel as nib\n",
    "import os\n",
    "import matplotlib.pyplot as plt"
   ]
  },
  {
   "cell_type": "code",
   "execution_count": 3,
   "metadata": {},
   "outputs": [],
   "source": [
    "def display_nifti_slice(filepath, slice_number, cbr_title, inf_limit = None, sup_limit = None, xlim = None, ylim = None, cmap = \"gray\"):\n",
    "    # Load the NIfTI image\n",
    "    img = nib.load(filepath)\n",
    "    \n",
    "    # Get the data as a numpy array\n",
    "    img_data = img.get_fdata()\n",
    "    \n",
    "    # Check if the specified slice number is within bounds\n",
    "    if slice_number < 0 or slice_number >= img_data.shape[2]:\n",
    "        print(\"Slice number out of range. Please select a valid slice number.\")\n",
    "        return\n",
    "\n",
    "    # Select the specified slice\n",
    "    slice_data = img_data[:, :, slice_number]\n",
    "    \n",
    "    # Display the slice\n",
    "    plt.figure(figsize=(6, 6))\n",
    "    if inf_limit is None and sup_limit is None:\n",
    "        plt.imshow(slice_data.T, cmap=cmap, origin='lower')\n",
    "    else:\n",
    "        plt.imshow(slice_data.T, cmap=cmap, origin='lower', vmin=inf_limit, vmax=sup_limit)\n",
    "   \n",
    "    cbr= plt.colorbar()\n",
    "    cbr.set_label(cbr_title, rotation = 0, labelpad = 15, fontsize = 15)\n",
    "    slice_number += 1\n",
    "    plt.title(f'Slice {slice_number}')\n",
    "\n",
    "    if xlim is not None:\n",
    "        # xlim is a tuple with (xmin,xmax)\n",
    "        plt.xlim(xlim)\n",
    "\n",
    "    if ylim is not None:\n",
    "        # xlim is a tuple with (xmin,xmax)\n",
    "        plt.ylim(ylim)\n",
    "\n",
    "    plt.axis('off')\n",
    "    plt.show()"
   ]
  },
  {
   "cell_type": "code",
   "execution_count": 7,
   "metadata": {},
   "outputs": [
    {
     "data": {
      "image/png": "[encoded data removed]",
      "text/plain": [
       "<Figure size 600x600 with 2 Axes>"
      ]
     },
     "metadata": {},
     "output_type": "display_data"
    }
   ],
   "source": [
    " # Select a long path outside of this folder\n",
    "long_path = \"C:/Users/User/msc_project/Image-processing-strategies/compare_fieldmap/data/lung_fitting_project/manually_simulated/ismrm_2025_fms/quick_AMU/db0_AMU_VC_fm_ppm.nii.gz\"\n",
    " # We don't care about the image, we just want to take the edited colorbar\n",
    "inferior_limit = -500 # lowest_value\n",
    "superior_limit = 500 # highest_value\n",
    "cmap = 'gray' # Many other choices like: bwr, gray\n",
    "display_nifti_slice(long_path, 73, 'Hz', inf_limit = inferior_limit, sup_limit = superior_limit, cmap = cmap)"
   ]
  }
 ],
 "metadata": {
  "kernelspec": {
   "display_name": "Python 3",
   "language": "python",
   "name": "python3"
  },
  "language_info": {
   "codemirror_mode": {
    "name": "ipython",
    "version": 3
   },
   "file_extension": ".py",
   "mimetype": "text/x-python",
   "name": "python",
   "nbconvert_exporter": "python",
   "pygments_lexer": "ipython3",
   "version": "3.10.11"
  }
 },
 "nbformat": 4,
 "nbformat_minor": 2
}
