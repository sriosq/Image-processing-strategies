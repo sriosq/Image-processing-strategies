{
 "cells": [
  {
   "cell_type": "code",
   "execution_count": 1,
   "id": "44965be3",
   "metadata": {},
   "outputs": [],
   "source": [
    "import numpy as np\n",
    "import pandas as pd\n",
    "import nibabel as nib\n",
    "import matplotlib.pyplot as plt"
   ]
  },
  {
   "cell_type": "code",
   "execution_count": 27,
   "id": "ed90ebde",
   "metadata": {},
   "outputs": [],
   "source": [
    "# Select the base to the datapath\n",
    "path_database_D = \"D:/UNF_data/07_08_2024/T1w/thoracic_volume/thoracic_wo_ts_labels.nii.gz\"\n",
    "path_database_C = \"C:/Users/User/msc_project/Image-processing-strategies/mask_control/projects/db0_028/final_test2.nii.gz\"\n"
   ]
  },
  {
   "cell_type": "code",
   "execution_count": 28,
   "id": "c96abd1f",
   "metadata": {},
   "outputs": [
    {
     "data": {
      "text/plain": [
       "(192, 260, 320)"
      ]
     },
     "execution_count": 28,
     "metadata": {},
     "output_type": "execute_result"
    }
   ],
   "source": [
    "image_gt_data = nib.load(path_database_C)  # labels_total_seg.nii.gz\n",
    "image_gt = np.array(image_gt_data.get_fdata())\n",
    "image_gt.shape"
   ]
  },
  {
   "cell_type": "code",
   "execution_count": 30,
   "id": "2a67050b",
   "metadata": {},
   "outputs": [],
   "source": [
    "# Output file name choose now\n",
    "out_fn = \"finalissmo_test2.nii.gz\""
   ]
  },
  {
   "cell_type": "code",
   "execution_count": 39,
   "id": "9741cf83",
   "metadata": {},
   "outputs": [],
   "source": [
    "# Code to force mask to be binarized\n",
    "# This seems to be an issue when working with TotalSegmentator masks\n",
    "Size_X=(image_gt.shape)[0]\n",
    "Size_Y=(image_gt.shape)[1]\n",
    "Size_Z=(image_gt.shape)[2]\n",
    "img_new_LE=np.zeros((Size_X,Size_Y,Size_Z))\n",
    "\n",
    "for i in range(len(image_gt[:,0,0])):\n",
    "    for j in range( len(image_gt[0,:,0])):\n",
    "        for k in range( len(image_gt[0,0,:])):\n",
    "            if image_gt[i,j,z] > 0.5 :\n",
    "                img_new_LE[i,j,z] = 1\n",
    "\n",
    "                \n",
    "new_nifti_img = nib.Nifti1Image(img_new_LE, image_gt_data.affine)\n",
    "nib.save(new_nifti_img, out_fn)"
   ]
  },
  {
   "cell_type": "code",
   "execution_count": null,
   "id": "5701e0f7",
   "metadata": {},
   "outputs": [],
   "source": [
    "# Here you can copy and paste the code above and create your own conditions!\n"
   ]
  },
  {
   "cell_type": "code",
   "execution_count": 8,
   "id": "8c9d6d43",
   "metadata": {},
   "outputs": [],
   "source": [
    "# This to force a value to be the only one\n",
    "# This happens when we multiply by a negative value with sct\n",
    "\n",
    "value = 324\n",
    "\n",
    "Size_X=(image_gt.shape)[0]\n",
    "Size_Y=(image_gt.shape)[1]\n",
    "Size_Z=(image_gt.shape)[2]\n",
    "img_new_LE=np.zeros((Size_X,Size_Y,Size_Z))\n",
    "\n",
    "for i in range(len(image_gt[:,0,0])):\n",
    "    for j in range( len(image_gt[0,:,0])):\n",
    "        for z in range( len(image_gt[0,0,:])):\n",
    "            if image_gt[i,j,z] > 0.5 :\n",
    "                img_new_LE[i,j,z] = value\n",
    "            else:\n",
    "              img_new_LE[i,j,z] = 0\n",
    "                \n",
    "new_nifti_img = nib.Nifti1Image(img_new_LE, image_gt_data.affine)\n",
    "nib.save(new_nifti_img, out_fn)"
   ]
  },
  {
   "cell_type": "markdown",
   "id": "dd4e4e72",
   "metadata": {},
   "source": [
    "*Special thank you to fellow Peruvian, researcher and friend N. Medina - Aix Marseille*"
   ]
  },
  {
   "cell_type": "code",
   "execution_count": 21,
   "id": "ffa1332a",
   "metadata": {},
   "outputs": [],
   "source": [
    "# Sometimes when tresholding the initial anatomical image, the binarized has wholes on the body of the image.\n",
    "# So we need some way to fill this wholes automatically.\n",
    "\n",
    "def get_neighbors(volume, x, y, z):\n",
    "    neighbors = []\n",
    "    for i in range(-1, 2):\n",
    "        for j in range(-1, 2):\n",
    "            for k in range(-1, 2):\n",
    "                if i == 0 and j == 0 and k == 0:\n",
    "                    continue\n",
    "                xi, yj, zk = x + i, y + j, z + k\n",
    "                if 0 <= xi < volume.shape[0] and 0 <= yj < volume.shape[1] and 0 <= zk < volume.shape[2]:\n",
    "                    neighbors.append(volume[xi, yj, zk])\n",
    "    return neighbors\n",
    "\n",
    "def fill_holes(volume):\n",
    "    filled_volume = volume.copy()\n",
    "    for x in range(volume.shape[0]):\n",
    "        for y in range(volume.shape[1]):\n",
    "            for z in range(volume.shape[2]):\n",
    "                if volume[x, y, z] == 0:  # Assuming 0 is the \"hole\"\n",
    "                    neighbors = get_neighbors(volume, x, y, z)\n",
    "                    if sum(neighbors) > len(neighbors) // 2:  # Majority vote\n",
    "                        filled_volume[x, y, z] = 1\n",
    "    return filled_volume\n",
    "\n"
   ]
  },
  {
   "cell_type": "code",
   "execution_count": 22,
   "id": "78be2c35",
   "metadata": {},
   "outputs": [
    {
     "data": {
      "text/plain": [
       "(256, 320, 320)"
      ]
     },
     "execution_count": 22,
     "metadata": {},
     "output_type": "execute_result"
    }
   ],
   "source": [
    "# Image to load and fill holes\n",
    "path_database = \"correc_thoracic_db0_028.nii.gz\"\n",
    "\n",
    "wholes_image = nib.load(path_database)  # labels_total_seg.nii.gz\n",
    "wholes_data = np.array(image_gt_data.get_fdata())\n",
    "wholes_data.shape"
   ]
  },
  {
   "cell_type": "code",
   "execution_count": 23,
   "id": "f8002163",
   "metadata": {},
   "outputs": [],
   "source": [
    "filled_vol = fill_holes(wholes_data)"
   ]
  },
  {
   "cell_type": "code",
   "execution_count": 24,
   "id": "7439594c",
   "metadata": {},
   "outputs": [],
   "source": [
    "# Saving and checking if the wholes were filled correctly\n",
    "fn = \"filled_wholes\"\n",
    "file = \"thoracic_db0_028\"\n",
    "\n",
    "out_fn2 = fn + \"_\" + file + \".nii.gz\"\n",
    "filled_vol_nii = nib.Nifti1Image(filled_vol, affine = wholes_image.affine)\n",
    "nib.save(filled_vol_nii, out_fn2)"
   ]
  },
  {
   "cell_type": "code",
   "execution_count": 30,
   "id": "94478758",
   "metadata": {},
   "outputs": [],
   "source": [
    "# Using the labels from Total Segmentator to leave and empty space on the place of the mask\n",
    "\n",
    "# Load the segmentations\n",
    "\n",
    "segmentation_path = \"D:/UNF_data/07_08_2024/T1w/thoracic_volume/thoracic_labels_bin.nii.gz\"\n",
    "\n",
    "segms = nib.load(segmentation_path)\n",
    "segmentation_data = segms.get_fdata()\n",
    "\n",
    "dimensions = np.array(segmentation_data.shape)\n",
    "\n",
    "final_filled_vol = filled_vol.copy()\n",
    "for i in range(dimensions[0]):\n",
    "    for j in range(dimensions[1]):\n",
    "        for k in range(dimensions[2]):\n",
    "            pixel = segmentation_data[i,j,k]\n",
    "            if pixel == 1:\n",
    "                final_filled_vol[i,j,k] = 0\n",
    "\n",
    "out_fn3 = \"final_\" + fn + \"_\" + file + \".nii.gz\"\n",
    "\n",
    "final_nii = nib.Nifti1Image(final_filled_vol, affine = segms.affine)\n",
    "nib.save(final_nii, out_fn3)"
   ]
  }
 ],
 "metadata": {
  "kernelspec": {
   "display_name": "Python 3",
   "language": "python",
   "name": "python3"
  },
  "language_info": {
   "codemirror_mode": {
    "name": "ipython",
    "version": 3
   },
   "file_extension": ".py",
   "mimetype": "text/x-python",
   "name": "python",
   "nbconvert_exporter": "python",
   "pygments_lexer": "ipython3",
   "version": "3.12.4"
  }
 },
 "nbformat": 4,
 "nbformat_minor": 5
}
