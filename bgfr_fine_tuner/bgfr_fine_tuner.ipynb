{
 "cells": [
  {
   "cell_type": "markdown",
   "metadata": {},
   "source": [
    "# <span style=\"color:#E14F20\"> Quantitative Comparison of BGFR algorithms // *For MRI QSM* </span> </br>"
   ]
  },
  {
   "cell_type": "code",
   "execution_count": 1,
   "metadata": {},
   "outputs": [],
   "source": [
    "#So, we start the engine and then define SEPIA with all of its toolboxes:\n",
    "import PyNomad as nomad\n",
    "import matlab.engine\n",
    "import os\n",
    "eng = matlab.engine.start_matlab()"
   ]
  },
  {
   "cell_type": "code",
   "execution_count": 61,
   "metadata": {},
   "outputs": [],
   "source": [
    "from python_to_matlab_wrap import python_to_sepia_bfr_wrap"
   ]
  },
  {
   "cell_type": "code",
   "execution_count": 33,
   "metadata": {},
   "outputs": [],
   "source": [
    "# Wrapper functions \n",
    "sepia_path = \"D:/Poly_MSc_Code/libraries_and_toolboxes/sepia\"\n",
    "xtra_tb_path = \"D:/Poly_MSc_Code/libraries_and_toolboxes/toolboxes\"\n",
    "\n",
    "eng.addpath(sepia_path)\n",
    "bfr_wrappers = eng.genpath(\"D:/Poly_MSc_Code/libraries_and_toolboxes/sepia/wrapper\")\n",
    "eng.addpath(bfr_wrappers, nargout=0)"
   ]
  },
  {
   "cell_type": "markdown",
   "metadata": {},
   "source": [
    "## <span style=\"color:#285C2B\"> LBV Optimization </span> </br>\n",
    "- Input filename\n",
    "- Header file\n",
    "- Ouput basename\n",
    "- mask filename\n",
    "\n",
    "*LBV parameters* \n",
    "- Tolerance\n",
    "- Depth\n",
    "- Peel\n",
    "\n",
    "*General algorithm parameters*\n",
    "We can also add extra things like: </br>\n",
    "- isBet \n",
    "- isInvert \n",
    "- refineMask \n",
    "\n",
    "*BGFR Algorithm paramters*\n",
    "- refine_Method \n",
    "- refine_order \n",
    "- erode_radius \n",
    "- erode_before_radius \n",
    "\n",
    "But this needs to get packed into parameters, shown in code:"
   ]
  },
  {
   "cell_type": "code",
   "execution_count": 12,
   "metadata": {},
   "outputs": [],
   "source": [
    "# So, lets try to replicate results from the MATLAB GUI\n",
    "# Open the config file and copy the paths easily\n",
    "input_fm_path = \"E:\\msc_data\\sc_qsm\\data\\cropped/piece-wise/simulation/TE_1_weird_40/romeo_tests/test3_right_masked/autosepia\"\n",
    "header_path = \"E:\\msc_data\\sc_qsm\\data\\cropped\\piece-wise\\simulation\\TE_1_weird_40\\header_qsm_tsting_hcrop2.mat\""
   ]
  },
  {
   "cell_type": "code",
   "execution_count": 15,
   "metadata": {},
   "outputs": [],
   "source": [
    "# *General algorithm parameters\n",
    "isBet = 0\n",
    "isInvert = 0\n",
    "refineMask = 0\n",
    "\n",
    "# BGFR Algorithm paramters\n",
    "refine_Method = None \n",
    "refine_order = 0\n",
    "erode_radius = 0\n",
    "erode_before_radius = 0"
   ]
  },
  {
   "cell_type": "code",
   "execution_count": 14,
   "metadata": {},
   "outputs": [],
   "source": [
    "# LBV Parameters:\n",
    "tolerance = 0.0001\n",
    "depth = 5\n",
    "peel = 2\n"
   ]
  },
  {
   "cell_type": "code",
   "execution_count": 59,
   "metadata": {},
   "outputs": [],
   "source": [
    "eng.python_wrapper(in1, in2, in3, in4 , output_basename, mask_filename, bfr_params, nargout = 0)"
   ]
  },
  {
   "cell_type": "markdown",
   "metadata": {},
   "source": [
    "### To test MATLAB engine install"
   ]
  },
  {
   "cell_type": "code",
   "execution_count": null,
   "metadata": {},
   "outputs": [],
   "source": [
    "#Testing matlab \n",
    "# Start MATLAB\n",
    "eng = matlab.engine.start_matlab()\n",
    "\n",
    "# Test with a simple MATLAB command, like square root of 16\n",
    "result = eng.sqrt(16.0)\n",
    "print(f\"Square root of 16 (from MATLAB): {result}\")\n",
    "\n",
    "# Close the MATLAB engine session\n",
    "eng.quit()\n"
   ]
  }
 ],
 "metadata": {
  "kernelspec": {
   "display_name": "Python 3",
   "language": "python",
   "name": "python3"
  },
  "language_info": {
   "codemirror_mode": {
    "name": "ipython",
    "version": 3
   },
   "file_extension": ".py",
   "mimetype": "text/x-python",
   "name": "python",
   "nbconvert_exporter": "python",
   "pygments_lexer": "ipython3",
   "version": "3.10.11"
  }
 },
 "nbformat": 4,
 "nbformat_minor": 2
}
