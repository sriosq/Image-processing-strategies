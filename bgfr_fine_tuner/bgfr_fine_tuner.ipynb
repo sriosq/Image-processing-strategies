{
 "cells": [
  {
   "cell_type": "markdown",
   "metadata": {},
   "source": [
    "# <span style=\"color:#E14F20\"> Quantitative Comparison of BGFR algorithms // *For MRI QSM* </span> </br>"
   ]
  },
  {
   "cell_type": "code",
   "execution_count": 1,
   "metadata": {},
   "outputs": [],
   "source": [
    "#So, we start the engine and then define SEPIA with all of its toolboxes:\n",
    "import PyNomad as nomad\n",
    "import matlab.engine\n",
    "import os\n",
    "eng = matlab.engine.start_matlab()"
   ]
  },
  {
   "cell_type": "code",
   "execution_count": 33,
   "metadata": {},
   "outputs": [],
   "source": [
    "# Wrapper functions \n",
    "sepia_path = \"D:/Poly_MSc_Code/libraries_and_toolboxes/sepia\"\n",
    "xtra_tb_path = \"D:/Poly_MSc_Code/libraries_and_toolboxes/toolboxes\"\n",
    "\n",
    "eng.addpath(sepia_path)\n",
    "bfr_wrappers = eng.genpath(\"D:/Poly_MSc_Code/libraries_and_toolboxes/sepia/wrapper\")\n",
    "eng.addpath(bfr_wrappers, nargout=0)"
   ]
  },
  {
   "cell_type": "code",
   "execution_count": 34,
   "metadata": {},
   "outputs": [],
   "source": [
    "# Add all the functions inside SEPIA\n",
    " "
   ]
  },
  {
   "cell_type": "code",
   "execution_count": 35,
   "metadata": {},
   "outputs": [
    {
     "data": {
      "text/plain": [
       "'  python_wrapper(in1,in2,in3,in4, outpath, mask_path, paramStrut)\\n \\n  4 inputs, correspond to whats used in config files\\n  Output and Mask are paths \\n  Finally, paramStruct is used to get the parameters for algorithms\\n \\n  Remember that dictionaries get converted to structs in MATLAB from python\\n  only when all the keys are strings! Not supported otherwise\\n \\n  Input/Output filenames\\n'"
      ]
     },
     "execution_count": 35,
     "metadata": {},
     "output_type": "execute_result"
    }
   ],
   "source": [
    "eng.help(\"python_wrapper\")"
   ]
  },
  {
   "cell_type": "code",
   "execution_count": 8,
   "metadata": {},
   "outputs": [
    {
     "data": {
      "text/plain": [
       "'  [localField,maskFinal] = BackgroundRemovalMacroIOWrapper(input,output,maskFullName,algorParam)\\n \\n  Input\\n  --------------\\n  input         : input directory contains NIfTI (*totalfield* and\\n                  *fieldmapsd*) files or structure containing filenames\\n  output        : output directory that stores the output (local field and final mask)\\n  maskFullName  : mask filename\\n  algorParam    : structure contains method and method specific parameters\\n \\n  Output\\n  --------------\\n  localField    : local field (or tissue field) (in Hz)\\n  maskFinal     : final mask used for QSM\\n \\n  Description:  This is a wrapper of BackgroundRemovalMacro.m for NIfTI\\n                input/output\\n \\n  Kwok-shing Chan @ DCCN\\n  k.chan@donders.ru.nl\\n  Date created: 17 April 2018\\n  Date modified: 26 August 2018\\n  Date modified: 29 March 2019\\n  Date modified: 8 March 2020 (v0.8.0)\\n  Date modified: 21 Jan 2020 (v0.8.1)\\n  Date modified: 13 August 2021 (v1.0)\\n'"
      ]
     },
     "execution_count": 8,
     "metadata": {},
     "output_type": "execute_result"
    }
   ],
   "source": [
    "eng.help('BackgroundRemovalMacroIOWrapper')"
   ]
  },
  {
   "cell_type": "code",
   "execution_count": 9,
   "metadata": {},
   "outputs": [
    {
     "data": {
      "text/plain": [
       "'  function algorParam2 = check_and_set_SEPIA_algorithm_default(algorParam)\\n \\n  Input\\n  --------------\\n  algorParam    : strcuture variable contains algorithm parameters \\n \\n  Output\\n  --------------\\n  algorParam2   : strcuture variable contains all essential algorithm parameters \\n \\n  Description:\\n \\n  Kwok-shing Chan @ DCCN\\n  k.chan@donders.ru.nl\\n  Date created: 28 Feb 2020\\n  Date modified: 13 June 2020 (v0.8.0)\\n  Date modified: 12 September 2022 (v1.1.0)\\n'"
      ]
     },
     "execution_count": 9,
     "metadata": {},
     "output_type": "execute_result"
    }
   ],
   "source": [
    "eng.help(\"check_and_set_SEPIA_algorithm_default\")"
   ]
  },
  {
   "cell_type": "code",
   "execution_count": 10,
   "metadata": {},
   "outputs": [
    {
     "data": {
      "text/plain": [
       "'  sepiaIO(input,output,maskFullName,algorParam)\\n \\n  Input\\n  --------------\\n  input         :   input directory contains NIfTI files or structure containing filenames  \\n  output        :   output directory that stores the output\\n  maskFullName  :   mask filename\\n  algorParam    :   structure contains method and method specific parameters\\n \\n  Description: This is a I/O level wrapper to coordinate SEPIA processing\\n  pipeline based on input algorithm parameter (sub)structure\\n \\n  Kwok-shing Chan @ DCCN\\n  k.chan@donders.ru.nl\\n  Date created: 29 June 2020 (v0.8.0)\\n  Date modified: 27 Jan 2021 (v0.8.1)\\n'"
      ]
     },
     "execution_count": 10,
     "metadata": {},
     "output_type": "execute_result"
    }
   ],
   "source": [
    "eng.help(\"sepiaIO\")"
   ]
  },
  {
   "cell_type": "markdown",
   "metadata": {},
   "source": [
    "## <span style=\"color:#285C2B\"> LBV Optimization </span> </br>\n",
    "- Input filename\n",
    "- Header file\n",
    "- Ouput basename\n",
    "- mask filename\n",
    "\n",
    "*LBV parameters* \n",
    "- Tolerance\n",
    "- Depth\n",
    "- Peel\n",
    "\n",
    "*General algorithm parameters*\n",
    "We can also add extra things like: </br>\n",
    "- isBet \n",
    "- isInvert \n",
    "- refineMask \n",
    "\n",
    "*BGFR Algorithm paramters*\n",
    "- refine_Method \n",
    "- refine_order \n",
    "- erode_radius \n",
    "- erode_before_radius \n",
    "\n",
    "But this needs to get packed into parameters, shown in code:"
   ]
  },
  {
   "cell_type": "code",
   "execution_count": 12,
   "metadata": {},
   "outputs": [],
   "source": [
    "# So, lets try to replicate results from the MATLAB GUI\n",
    "# Open the config file and copy the paths easily\n",
    "input_fm_path = \"E:\\msc_data\\sc_qsm\\data\\cropped/piece-wise/simulation/TE_1_weird_40/romeo_tests/test3_right_masked/autosepia\"\n",
    "header_path = \"E:\\msc_data\\sc_qsm\\data\\cropped\\piece-wise\\simulation\\TE_1_weird_40\\header_qsm_tsting_hcrop2.mat\""
   ]
  },
  {
   "cell_type": "code",
   "execution_count": 15,
   "metadata": {},
   "outputs": [],
   "source": [
    "# *General algorithm parameters\n",
    "isBet = 0\n",
    "isInvert = 0\n",
    "refineMask = 0\n",
    "\n",
    "# BGFR Algorithm paramters\n",
    "refine_Method = None \n",
    "refine_order = 0\n",
    "erode_radius = 0\n",
    "erode_before_radius = 0"
   ]
  },
  {
   "cell_type": "code",
   "execution_count": 14,
   "metadata": {},
   "outputs": [],
   "source": [
    "# LBV Parameters:\n",
    "tolerance = 0.0001\n",
    "depth = 5\n",
    "peel = 2\n"
   ]
  },
  {
   "cell_type": "code",
   "execution_count": 27,
   "metadata": {},
   "outputs": [],
   "source": [
    "# Packing everything into the arguments\n",
    "# Wrapper_BFR_LBV(totalField,mask,matrixSize,voxelSize,algorParam, headerAndExtraData)\n",
    "\n",
    "bfr_params = {  # Example method name\n",
    "    \n",
    "    'general' : {\n",
    "        'isBET' : '0',\n",
    "        'isInvert':'0',\n",
    "        'isRefineBrainMask' : '0'\n",
    "    },\n",
    "    'bfr':{\n",
    "    'method': \"LBV\",\n",
    "    'tol': str(tolerance),\n",
    "    'depth': str(depth),\n",
    "    'peel': str(peel),\n",
    "    \"refine_method\" : \"None\",\n",
    "    \"refine_order\" : \"0\",\n",
    "    'erode_radius': \"0\",\n",
    "  'erode_before_radius': \"0\"}\n",
    "\n",
    "\n",
    "}\n",
    "\n",
    "matrixSize = [101,171,141]\n",
    "voxelSize = [0.9766, 0.9766, 2.3440]\n",
    "\n"
   ]
  },
  {
   "cell_type": "code",
   "execution_count": 63,
   "metadata": {},
   "outputs": [],
   "source": [
    "# Run this if you want to instance all the sepia universal variables\n",
    "# eng.sepia_universal_variables;\n"
   ]
  },
  {
   "cell_type": "code",
   "execution_count": 18,
   "metadata": {},
   "outputs": [],
   "source": [
    "#algorParam = eng.check_and_set_SEPIA_algorithm_default(bfr_params)"
   ]
  },
  {
   "cell_type": "code",
   "execution_count": 17,
   "metadata": {},
   "outputs": [],
   "source": [
    "#algorParam"
   ]
  },
  {
   "cell_type": "markdown",
   "metadata": {},
   "source": [
    "### header_info = {\n",
    "    \n",
    "###    \"B0\" : 3,\n",
    "###   \"B0_dir\" : [0, 0, 1],\n",
    "###   \"CF\" : 127740000,\n",
    "###   \"TE\" : [0.001, 0.002, 0.003, 0.004, 0.005, 0.010, 0.015, 0.020, 0.030, 0.040],\n",
    "###    \"matrixSize\" : [101, 171, 141],\n",
    "###    \"voxelSize\" : [0.9766, 0.9766, 2.344]\n",
    "\n",
    "### }\n",
    "\n"
   ]
  },
  {
   "cell_type": "code",
   "execution_count": 20,
   "metadata": {},
   "outputs": [],
   "source": [
    "#headerAndExtraData = eng.check_and_set_SEPIA_header_data(header_info);"
   ]
  },
  {
   "cell_type": "code",
   "execution_count": 19,
   "metadata": {},
   "outputs": [],
   "source": [
    "#headerAndExtraData"
   ]
  },
  {
   "cell_type": "code",
   "execution_count": 21,
   "metadata": {},
   "outputs": [],
   "source": [
    "# Now we edit according to our data:\n",
    "#headerAndExtraData['sepia_header']['TE'] = [0.001, 0.002, 0.003, 0.004, 0.005, 0.010, 0.015, 0.020, 0.030, 0.040]"
   ]
  },
  {
   "cell_type": "code",
   "execution_count": 22,
   "metadata": {},
   "outputs": [],
   "source": [
    "# Run after edditing to check everything is ok\n",
    "# headerAndExtraData"
   ]
  },
  {
   "cell_type": "markdown",
   "metadata": {},
   "source": [
    "## Using Sepia Config file </br>\n",
    "We can use the structure of the config file to see whats the required information. </br>\n",
    "We want to just use certain parts of SEPIA, in this case BFR"
   ]
  },
  {
   "cell_type": "code",
   "execution_count": 41,
   "metadata": {},
   "outputs": [],
   "source": [
    "output_basename =  'E:\\msc_data\\sc_qsm\\data\\cropped\\piece-wise\\simulation\\TE_1_weird_40/bgfr_sepia/testing_py_integration2',\n",
    "mask_filename = ['E:\\msc_data\\sc_qsm\\data\\cropped\\piece-wise\\simulation\\canal_crop2.nii.gz']\n",
    "         "
   ]
  },
  {
   "cell_type": "code",
   "execution_count": 47,
   "metadata": {},
   "outputs": [
    {
     "name": "stderr",
     "output_type": "stream",
     "text": [
      "C:\\Users\\User\\AppData\\Local\\Temp\\ipykernel_78468\\4168655272.py:3: DeprecationWarning: numpy.core.records is deprecated and has been renamed to numpy._core.records. The numpy._core namespace contains private NumPy internals and its use is discouraged, as NumPy internals can change without warning in any release. In practice, most real-world usage of numpy.core is to access functionality in the public NumPy API. If that is the case, use the public NumPy API. If not, you are using NumPy internals. If you would still like to access an internal attribute, use numpy._core.records.fromarrays.\n",
      "  from numpy.core.records import fromarrays\n"
     ]
    }
   ],
   "source": [
    "from scipy.io import savemat\n",
    "\n",
    "from numpy.core.records import fromarrays\n",
    "\n",
    "\n",
    "myrec = fromarrays([\"E:\\msc_data\\sc_qsm\\data\\cropped\\piece-wise\\simulation\\TE_1_weird_40/romeo_tests/test3_right_masked\\B0.nii\", '','','E:\\msc_data\\sc_qsm\\data\\cropped\\piece-wise\\simulation\\canal_crop2.nii.gz'], names=['1', '2','3','4'])\n",
    "savemat('p.mat', {'myrec': myrec})"
   ]
  },
  {
   "cell_type": "code",
   "execution_count": null,
   "metadata": {},
   "outputs": [],
   "source": [
    "myrec = fromarrays([\"E:\\msc_data\\sc_qsm\\data\\cropped\\piece-wise\\simulation\\TE_1_weird_40/romeo_tests/test3_right_masked\\B0.nii\", '','','E:\\msc_data\\sc_qsm\\data\\cropped\\piece-wise\\simulation\\canal_crop2.nii.gz'], names=['1', '2','3','4'])\n",
    "savemat('p.mat', {'myrec': myrec})"
   ]
  },
  {
   "cell_type": "code",
   "execution_count": 19,
   "metadata": {},
   "outputs": [],
   "source": [
    "input_array = ({\"1\":{\"name\":\"E:\\msc_data\\sc_qsm\\data\\cropped\\piece-wise\\simulation\\TE_1_weird_40/romeo_tests/test3_right_masked\\B0.nii\"}},{\"2\":\"\"},{\"3\":\"\"},{\"4\":\"E:\\msc_data\\sc_qsm\\data\\cropped\\piece-wise\\simulation\\canal_crop2.nii.gz\"})"
   ]
  },
  {
   "cell_type": "code",
   "execution_count": 49,
   "metadata": {},
   "outputs": [],
   "source": [
    "in1 = \"E:\\msc_data\\sc_qsm\\data\\cropped\\piece-wise\\simulation\\TE_1_weird_40/romeo_tests/test3_right_masked\\B0.nii\"\n",
    "in2 = \"\"\n",
    "in3 = \"\"\n",
    "in4 = \"E:\\msc_data\\sc_qsm\\data\\cropped\\piece-wise\\simulation\\canal_crop2.nii.gz\""
   ]
  },
  {
   "cell_type": "code",
   "execution_count": 43,
   "metadata": {},
   "outputs": [
    {
     "data": {
      "text/plain": [
       "\" STRUCT Create or convert to structure array.\\n    S = STRUCT('field1',VALUES1,'field2',VALUES2,...) creates a\\n    structure array with the specified fields and values.  The value\\n    arrays VALUES1, VALUES2, etc. must be cell arrays of the same\\n    size, scalar cells or single values.  Corresponding elements of the\\n    value arrays are placed into corresponding structure array elements.\\n    The size of the resulting structure is the same size as the value\\n    cell arrays or 1-by-1 if none of the values is a cell.\\n \\n    STRUCT(OBJ) converts the object OBJ into its equivalent\\n    structure.  The class information is lost.\\n \\n    STRUCT([]) creates an empty 0-by-0 structure with no fields.\\n \\n    To create fields that contain cell arrays, place the cell arrays\\n    within a VALUE cell array.  For instance,\\n      s = struct('strings',{{'hello','yes'}},'lengths',[5 3])\\n    creates the 1-by-1 structure\\n       s = \\n          strings: {'hello'  'yes'}\\n          lengths: [5 3]\\n \\n    Example\\n       s = struct('type',{'big','little'},'color','red','x',{3 4})\\n \\n    See also ISSTRUCT, SETFIELD, GETFIELD, FIELDNAMES, ORDERFIELDS, \\n    ISFIELD, RMFIELD, DEAL, SUBSTRUCT, STRUCT2CELL, CELL2STRUCT.\\n\\n    Documentation for struct\\n       doc struct\\n\\n    Folders named struct\\n\\n       datatypes\\\\struct\\n\""
      ]
     },
     "execution_count": 43,
     "metadata": {},
     "output_type": "execute_result"
    }
   ],
   "source": [
    "eng.help(\"struct\")"
   ]
  },
  {
   "cell_type": "code",
   "execution_count": 8,
   "metadata": {},
   "outputs": [],
   "source": [
    "path_to_input_struct = 'C:/Users/User/msc_project/Image-processing-strategies/bgfr_fine_tuner/p.mat'\n",
    "path_to_params_struct = 'C:/Users/User/msc_project/Image-processing-strategies/bgfr_fine_tuner/b.mat'"
   ]
  },
  {
   "cell_type": "code",
   "execution_count": 28,
   "metadata": {},
   "outputs": [
    {
     "data": {
      "text/plain": [
       "{'general': {'isBET': '0', 'isInvert': '0', 'isRefineBrainMask': '0'},\n",
       " 'bfr': {'method': 'LBV',\n",
       "  'tol': '0.0001',\n",
       "  'depth': '5',\n",
       "  'peel': '2',\n",
       "  'refine_method': 'None',\n",
       "  'refine_order': '0',\n",
       "  'erode_radius': '0',\n",
       "  'erode_before_radius': '0'}}"
      ]
     },
     "execution_count": 28,
     "metadata": {},
     "output_type": "execute_result"
    }
   ],
   "source": [
    "# One last tiem verify bfr params being sent:\n",
    "bfr_params"
   ]
  },
  {
   "cell_type": "markdown",
   "metadata": {},
   "source": [
    "* Here is important to check that everything from the config file is the same, specially the general parameters and the BFR parameters"
   ]
  },
  {
   "cell_type": "code",
   "execution_count": 59,
   "metadata": {},
   "outputs": [],
   "source": [
    "eng.python_wrapper(in1, in2, in3, in4 , output_basename, mask_filename, bfr_params, nargout = 0)"
   ]
  },
  {
   "cell_type": "markdown",
   "metadata": {},
   "source": [
    "### To test MATLAB engine install"
   ]
  },
  {
   "cell_type": "code",
   "execution_count": null,
   "metadata": {},
   "outputs": [],
   "source": [
    "#Testing matlab \n",
    "# Start MATLAB\n",
    "eng = matlab.engine.start_matlab()\n",
    "\n",
    "# Test with a simple MATLAB command, like square root of 16\n",
    "result = eng.sqrt(16.0)\n",
    "print(f\"Square root of 16 (from MATLAB): {result}\")\n",
    "\n",
    "# Close the MATLAB engine session\n",
    "eng.quit()\n"
   ]
  }
 ],
 "metadata": {
  "kernelspec": {
   "display_name": "Python 3",
   "language": "python",
   "name": "python3"
  },
  "language_info": {
   "codemirror_mode": {
    "name": "ipython",
    "version": 3
   },
   "file_extension": ".py",
   "mimetype": "text/x-python",
   "name": "python",
   "nbconvert_exporter": "python",
   "pygments_lexer": "ipython3",
   "version": "3.10.11"
  }
 },
 "nbformat": 4,
 "nbformat_minor": 2
}
