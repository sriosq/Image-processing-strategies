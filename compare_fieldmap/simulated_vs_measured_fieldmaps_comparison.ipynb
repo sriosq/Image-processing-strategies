{
 "cells": [
  {
   "cell_type": "markdown",
   "id": "82bd9f95-3488-4b4f-bfd2-9dab83a279bd",
   "metadata": {},
   "source": [
    "<a href=\"https://colab.research.google.com/github/behrouzvia/Image-processing-strategies/blob/main/compare_fieldmap/simulated_vs_measured_fieldmaps_comparison.ipynb\" \n",
    "target=\"_parent\"><img src=\"https://colab.research.google.com/assets/colab-badge.svg\" alt=\"Open In Colab\"/></a>\n",
    "\n"
   ]
  },
  {
   "cell_type": "code",
   "execution_count": 2,
   "id": "479fd9ba-b912-4d03-a8c0-d7609fa25b07",
   "metadata": {},
   "outputs": [
    {
     "name": "stdout",
     "output_type": "stream",
     "text": [
      "Requirement already satisfied: statsmodels in /Users/behrouz/miniconda3/envs/shim-dev/lib/python3.9/site-packages (0.14.2)\n",
      "Requirement already satisfied: numpy>=1.22.3 in /Users/behrouz/miniconda3/envs/shim-dev/lib/python3.9/site-packages (from statsmodels) (1.26.3)\n",
      "Requirement already satisfied: scipy!=1.9.2,>=1.8 in /Users/behrouz/miniconda3/envs/shim-dev/lib/python3.9/site-packages (from statsmodels) (1.12.0)\n",
      "Requirement already satisfied: pandas!=2.1.0,>=1.4 in /Users/behrouz/miniconda3/envs/shim-dev/lib/python3.9/site-packages (from statsmodels) (2.2.0)\n",
      "Requirement already satisfied: patsy>=0.5.6 in /Users/behrouz/miniconda3/envs/shim-dev/lib/python3.9/site-packages (from statsmodels) (0.5.6)\n",
      "Requirement already satisfied: packaging>=21.3 in /Users/behrouz/miniconda3/envs/shim-dev/lib/python3.9/site-packages (from statsmodels) (23.2)\n",
      "Requirement already satisfied: python-dateutil>=2.8.2 in /Users/behrouz/miniconda3/envs/shim-dev/lib/python3.9/site-packages (from pandas!=2.1.0,>=1.4->statsmodels) (2.8.2)\n",
      "Requirement already satisfied: pytz>=2020.1 in /Users/behrouz/miniconda3/envs/shim-dev/lib/python3.9/site-packages (from pandas!=2.1.0,>=1.4->statsmodels) (2023.3.post1)\n",
      "Requirement already satisfied: tzdata>=2022.7 in /Users/behrouz/miniconda3/envs/shim-dev/lib/python3.9/site-packages (from pandas!=2.1.0,>=1.4->statsmodels) (2023.4)\n",
      "Requirement already satisfied: six in /Users/behrouz/miniconda3/envs/shim-dev/lib/python3.9/site-packages (from patsy>=0.5.6->statsmodels) (1.16.0)\n",
      "Requirement already satisfied: osfclient in /Users/behrouz/miniconda3/envs/shim-dev/lib/python3.9/site-packages (0.0.5)\n",
      "Requirement already satisfied: requests in /Users/behrouz/miniconda3/envs/shim-dev/lib/python3.9/site-packages (from osfclient) (2.31.0)\n",
      "Requirement already satisfied: tqdm in /Users/behrouz/miniconda3/envs/shim-dev/lib/python3.9/site-packages (from osfclient) (4.66.1)\n",
      "Requirement already satisfied: six in /Users/behrouz/miniconda3/envs/shim-dev/lib/python3.9/site-packages (from osfclient) (1.16.0)\n",
      "Requirement already satisfied: charset-normalizer<4,>=2 in /Users/behrouz/miniconda3/envs/shim-dev/lib/python3.9/site-packages (from requests->osfclient) (3.3.2)\n",
      "Requirement already satisfied: idna<4,>=2.5 in /Users/behrouz/miniconda3/envs/shim-dev/lib/python3.9/site-packages (from requests->osfclient) (3.6)\n",
      "Requirement already satisfied: urllib3<3,>=1.21.1 in /Users/behrouz/miniconda3/envs/shim-dev/lib/python3.9/site-packages (from requests->osfclient) (2.1.0)\n",
      "Requirement already satisfied: certifi>=2017.4.17 in /Users/behrouz/miniconda3/envs/shim-dev/lib/python3.9/site-packages (from requests->osfclient) (2023.11.17)\n",
      "Necessary libraries are imported\n"
     ]
    }
   ],
   "source": [
    "import json\n",
    "import os\n",
    "import numpy as np\n",
    "import nibabel as nib\n",
    "import pandas as pd\n",
    "import matplotlib.pyplot as plt\n",
    "import matplotlib.gridspec as gridspec\n",
    "from scipy import stats\n",
    "\n",
    "from shimmingtoolbox.prepare_fieldmap import prepare_fieldmap\n",
    "from shimmingtoolbox.load_nifti import read_nii\n",
    "from shimmingtoolbox.masking.threshold import threshold as mask_threshold\n",
    "\n",
    "try:\n",
    "    import nilearn\n",
    "\n",
    "\n",
    "except ImportError:\n",
    "    !pip install nilearn\n",
    "    import nilearn\n",
    "    import nilearn.image\n",
    "   \n",
    "!pip install statsmodels\n",
    "\n",
    "print('Necessary libraries are imported')\n"
   ]
  },
  {
   "cell_type": "code",
   "execution_count": 12,
   "id": "45019e45-2e31-4676-9bb5-3db8b9fd7732",
   "metadata": {},
   "outputs": [
    {
     "name": "stdout",
     "output_type": "stream",
     "text": [
      "/Users/behrouz/SYNGO_TRANSFER\n",
      "<class 'numpy.ndarray'>\n"
     ]
    }
   ],
   "source": [
    "\n",
    "current_path= os.getcwd()\n",
    "os.chdir(current_path)\n",
    "print(current_path)\n",
    "\n",
    "seg_brain_nii = nib.load(current_path + '/dB0_028_niftis/seg_brain.nii')\n",
    "seg_brain = seg_brain_nii.get_fdata()\n",
    "\n",
    "fieldmap_nii = nib.load(current_path+\"/dB0_028_niftis/derivatives/fieldmap/fmap_brain_ASPIRE.nii.gz\")\n",
    "\n",
    "\n",
    "\n",
    "\n",
    "seg_brain_res = nilearn.image.resample_img(seg_brain_nii, target_affine=fieldmap_nii.affine,target_shape=fieldmap_nii.shape, interpolation='linear').get_fdata()\n",
    "seg_brain_res[seg_brain_res > 0] = 1\n",
    "print(type(seg_brain_res))\n",
    "\n",
    "seg_brain_res_nii = nib.Nifti1Image(seg_brain_res, fieldmap_nii.affine, fieldmap_nii.header )           \n",
    "nib.save(seg_brain_res_nii, current_path + \"/brain_seg_resampled_to_fieldmap.nii.gz\")\n",
    "\n"
   ]
  },
  {
   "cell_type": "code",
   "execution_count": null,
   "id": "e59c8e7a-4fdb-4b98-b85f-db7a8b014f9d",
   "metadata": {},
   "outputs": [],
   "source": []
  }
 ],
 "metadata": {
  "kernelspec": {
   "display_name": "Python 3 (ipykernel)",
   "language": "python",
   "name": "python3"
  },
  "language_info": {
   "codemirror_mode": {
    "name": "ipython",
    "version": 3
   },
   "file_extension": ".py",
   "mimetype": "text/x-python",
   "name": "python",
   "nbconvert_exporter": "python",
   "pygments_lexer": "ipython3",
   "version": "3.9.18"
  }
 },
 "nbformat": 4,
 "nbformat_minor": 5
}
