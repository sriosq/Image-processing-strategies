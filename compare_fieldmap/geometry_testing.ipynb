{
 "cells": [
  {
   "cell_type": "markdown",
   "metadata": {},
   "source": [
    "# Creating geometrical phantoms to test the effect of bone and trachea geomtry in the trend of values"
   ]
  },
  {
   "cell_type": "code",
   "execution_count": 30,
   "metadata": {},
   "outputs": [],
   "source": [
    "import numpy as np\n",
    "import nibabel as nib\n",
    "\n",
    "def create_test_shape(volume_size, cylinder_radius, cylinder_height, cube_size, cube_spacing, rectangle_size, rectangle_spacing):\n",
    "    # Initialize 3D volume\n",
    "    volume = np.zeros(volume_size)\n",
    "    volume[:, :, :] = -9.05\n",
    "    # Center position for the cylinder\n",
    "    center = np.array(volume_size) // 2\n",
    "\n",
    "    # Cilinder == canal in the center\n",
    "    for z in range(int(center[2] - cylinder_height // 2), int(center[2] + cylinder_height // 2)):\n",
    "        for x in range(volume_size[0]):\n",
    "            for y in range(volume_size[1]):\n",
    "                if (x - center[0]) ** 2 + (y - center[1]) ** 2 < cylinder_radius ** 2:\n",
    "                    volume[x, y, z] = -9.055  # Chi value of canal\n",
    "\n",
    "    # Create the squares - bones spine in posterior \n",
    "    for i in range(3):\n",
    "        cube_x_start = int(center[0] - cylinder_radius - cube_size - 10)  # Offset from cylinder\n",
    "        cube_y_start = int(center[1] - cube_size // 2)  # Centered vertically\n",
    "        cube_z_start = int(center[2] - (1.5 * cube_size) + i * (cube_size + cube_spacing))\n",
    "        volume[cube_x_start:cube_x_start + cube_size,\n",
    "               cube_y_start:cube_y_start + cube_size,\n",
    "               cube_z_start:cube_z_start + cube_size] = -11  # Set to unique value for red cubes\n",
    "\n",
    "    # Create the anterior rectangles\n",
    "    for i in range(3):\n",
    "        rect_x_start = int(center[0] + cylinder_radius + 10)  # Offset from cylinder\n",
    "        rect_y_start = int(center[1] - rectangle_size[1] // 2)  # Centered vertically\n",
    "        rect_z_start = int(center[2] - (1.5 * rectangle_size[0]) + i * (rectangle_size[0] + rectangle_spacing))\n",
    "        volume[rect_x_start:rect_x_start + rectangle_size[0],\n",
    "               rect_y_start:rect_y_start + rectangle_size[1],\n",
    "               rect_z_start:rect_z_start + rectangle_size[0]] = -11  # Set to unique value for purple rectangles\n",
    "\n",
    "    # Save as NIfTI file\n",
    "    affine = np.eye(4)  # Identity affine matrix for simplicity\n",
    "    nifti_img = nib.Nifti1Image(volume, affine)\n",
    "    nib.save(nifti_img, 'custom_test_shape_aligned3.nii.gz')\n",
    "    print(\"Saved 3D shape as 'custom_test_shape_aligned3.nii.gz'\")\n",
    "\n"
   ]
  },
  {
   "cell_type": "code",
   "execution_count": 31,
   "metadata": {},
   "outputs": [
    {
     "name": "stdout",
     "output_type": "stream",
     "text": [
      "Saved 3D shape as 'custom_test_shape_aligned3.nii.gz'\n"
     ]
    }
   ],
   "source": [
    "# Parameters\n",
    "volume_size = (100, 100, 100)       # Volume size (modify as needed)\n",
    "cylinder_radius = 10                # Radius of the central cylinder\n",
    "cylinder_height = 100                # Height of the central cylinder\n",
    "cube_size = 10                      # Side length of red cubes\n",
    "cube_spacing = 5                   # Spacing of the anterior bones (smaller bones)\n",
    "rectangle_size = (20, 10)           # Dimensions of purple rectangles (length, width)\n",
    "rectangle_spacing = 15             # Spacing of the posterior bones (big bones)\n",
    "\n",
    "# Run the function\n",
    "create_test_shape(volume_size, cylinder_radius, cylinder_height, cube_size, cube_spacing, rectangle_size, rectangle_spacing)"
   ]
  },
  {
   "cell_type": "code",
   "execution_count": 18,
   "metadata": {},
   "outputs": [],
   "source": [
    "# Now the mask\n",
    "import numpy as np\n",
    "import nibabel as nib\n",
    "\n",
    "# Path to the existing NIfTI file with the cylinder\n",
    "nifti_path = 'custom_test_shape_aligned.nii.gz'\n",
    "\n",
    "# Load the NIfTI image\n",
    "img = nib.load(nifti_path)\n",
    "data = img.get_fdata()\n",
    "\n",
    "# Get the affine matrix for saving the new NIfTI\n",
    "affine = img.affine\n"
   ]
  },
  {
   "cell_type": "code",
   "execution_count": 19,
   "metadata": {},
   "outputs": [],
   "source": [
    "# Define the value assigned to the cylinder in the original volume\n",
    "cylinder_value = -9.055\n",
    "\n",
    "# Create a mask for the cylinder\n",
    "cylinder_mask = (data == cylinder_value)\n"
   ]
  },
  {
   "cell_type": "code",
   "execution_count": 24,
   "metadata": {},
   "outputs": [],
   "source": [
    "# Get the dimensions of the volume\n",
    "dim_x, dim_y, dim_z = data.shape\n",
    "\n",
    "# Calculate the center of the volume\n",
    "center_x, center_y, center_z = dim_x // 2, dim_y // 2, dim_z // 2\n",
    "\n",
    "# Initialize a new volume for the segmented cylinder\n",
    "segmented_cylinder = np.zeros_like(data)\n",
    "\n",
    "# Define the four quadrants\n",
    "# Quadrant I: x >= center_x and y >= center_y\n",
    "# Quadrant II: x < center_x and y >= center_y\n",
    "# Quadrant III: x < center_x and y < center_y\n",
    "# Quadrant IV: x >= center_x and y < center_y\n",
    "\n",
    "# Quadrant I\n",
    "segmented_cylinder[np.logical_and(cylinder_mask,\n",
    "                                  np.logical_and(np.arange(dim_x)[:, None, None] >= center_z,\n",
    "                                                 np.arange(dim_y)[None, :, None] >= center_x))] = 1\n",
    "\n",
    "# Quadrant II\n",
    "segmented_cylinder[np.logical_and(cylinder_mask,\n",
    "                                  np.logical_and(np.arange(dim_x)[:, None, None] < center_z,\n",
    "                                                 np.arange(dim_y)[None, :, None] >= center_x))] = 2\n",
    "\n",
    "# Quadrant III\n",
    "segmented_cylinder[np.logical_and(cylinder_mask,\n",
    "                                  np.logical_and(np.arange(dim_x)[:, None, None] < center_z,\n",
    "                                                 np.arange(dim_y)[None, :, None] < center_x))] = 3\n",
    "\n",
    "# Quadrant IV\n",
    "segmented_cylinder[np.logical_and(cylinder_mask,\n",
    "                                  np.logical_and(np.arange(dim_x)[:, None, None] >= center_z,\n",
    "                                                 np.arange(dim_y)[None, :, None] < center_x))] = 4\n"
   ]
  },
  {
   "cell_type": "code",
   "execution_count": 25,
   "metadata": {},
   "outputs": [
    {
     "name": "stdout",
     "output_type": "stream",
     "text": [
      "Saved segmented cylinder with four sections as 'segmented_cylinder_four_sections.nii.gz'\n"
     ]
    }
   ],
   "source": [
    "# Save the segmented cylinder as a new NIfTI file\n",
    "segmented_nifti = nib.Nifti1Image(segmented_cylinder, affine)\n",
    "nib.save(segmented_nifti, 'segmented_cylinder_four_sections.nii.gz')\n",
    "\n",
    "print(\"Saved segmented cylinder with four sections as 'segmented_cylinder_four_sections.nii.gz'\")\n"
   ]
  }
 ],
 "metadata": {
  "kernelspec": {
   "display_name": "env-GBM8378",
   "language": "python",
   "name": "python3"
  },
  "language_info": {
   "codemirror_mode": {
    "name": "ipython",
    "version": 3
   },
   "file_extension": ".py",
   "mimetype": "text/x-python",
   "name": "python",
   "nbconvert_exporter": "python",
   "pygments_lexer": "ipython3",
   "version": "3.6.13"
  }
 },
 "nbformat": 4,
 "nbformat_minor": 2
}
