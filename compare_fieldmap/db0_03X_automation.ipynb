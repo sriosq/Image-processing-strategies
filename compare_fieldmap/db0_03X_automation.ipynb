{
 "cells": [
  {
   "cell_type": "code",
   "execution_count": 112,
   "metadata": {},
   "outputs": [],
   "source": [
    "import numpy as np\n",
    "import nibabel as nib\n",
    "import os\n",
    "import matplotlib.pyplot as plt\n",
    "import pandas as pd\n",
    "from convert_fm import convert_img_ppm_to_Hz_data, convert_ppm_data_to_Hz_data\n",
    "from demod import demod_pls\n",
    "from extract_metric import extract_metrics"
   ]
  },
  {
   "cell_type": "markdown",
   "metadata": {},
   "source": [
    "# <span style=\"color:orange\"> *db0_032 processing* </span> "
   ]
  },
  {
   "cell_type": "code",
   "execution_count": 113,
   "metadata": {},
   "outputs": [],
   "source": [
    "path_to_fms = \"E:/msc_data/ismrm_2025/db0_032/fm/sim/fms\"\n",
    "path_to_dmod_mask = \"E:/msc_data/ismrm_2025/db0_032/fm/sim/D2_D3_masks/cord_mask.nii.gz\"\n",
    "path_to_labeled_cord = \"E:/msc_data/ismrm_2025/db0_032/fm/sim/D2_D3_masks/cord_mask_labeled.nii.gz\"\n",
    "path_to_metrics = \"E:/msc_data/ismrm_2025/db0_032/fm/sim/D4_metrics\"\n",
    "path_to_dmod_folder = \"E:/msc_data/ismrm_2025/db0_032/fm/sim/dmod_sim\""
   ]
  },
  {
   "cell_type": "markdown",
   "metadata": {},
   "source": [
    "## Measured B0 - Inspiration & Expiration"
   ]
  },
  {
   "cell_type": "markdown",
   "metadata": {},
   "source": [
    "### <span style=\"color:green\"> Expiration </span> "
   ]
  },
  {
   "cell_type": "code",
   "execution_count": 140,
   "metadata": {},
   "outputs": [],
   "source": [
    "path_to_exp_meas = \"E:/msc_data/ismrm_2025/db0_032/fm/C1_meas/exp/tests/test6_pro/B0.nii\"\n",
    "path_to_exp_dmod_mask = \"E:/msc_data/ismrm_2025/db0_032/fm/processing_steps/exp/label_vert/cord_mask.nii.gz\"\n",
    "path_to_exp_metric_mask = \"E:/msc_data/ismrm_2025/db0_032/fm/processing_steps/exp/label_vert_c3c4/cord_mask_labeled.nii.gz\""
   ]
  },
  {
   "cell_type": "code",
   "execution_count": 141,
   "metadata": {},
   "outputs": [],
   "source": [
    "# Load images and get nifti data to manipulate!\n",
    "exp_B0_meas_img = nib.load(path_to_exp_meas)\n",
    "exp_B0_meas_data = exp_B0_meas_img.get_fdata()\n",
    "\n",
    "exp_dmod_mask_img = nib.load(path_to_exp_dmod_mask)\n",
    "exp_dmod_mask_data = exp_dmod_mask_img.get_fdata()\n",
    "\n",
    "exp_metric_mask_img = nib.load(path_to_exp_metric_mask)\n",
    "exp_metric_mask_data = exp_metric_mask_img.get_fdata()\n"
   ]
  },
  {
   "cell_type": "code",
   "execution_count": 142,
   "metadata": {},
   "outputs": [
    {
     "name": "stdout",
     "output_type": "stream",
     "text": [
      "Expiration demod value:  -237.49879980185443  Hz\n"
     ]
    }
   ],
   "source": [
    "exp_dmod_value = np.mean(exp_B0_meas_data[exp_dmod_mask_data==1])\n",
    "print(\"Expiration demod value: \",exp_dmod_value,\" Hz\")"
   ]
  },
  {
   "cell_type": "code",
   "execution_count": 143,
   "metadata": {},
   "outputs": [],
   "source": [
    "exp_dmod_B0_meas = exp_B0_meas_data - exp_dmod_value\n",
    "# Create nifti and save\n",
    "exp_dmod_B0_meas_img = nib.Nifti1Image(exp_dmod_B0_meas, affine = exp_B0_meas_img.affine)\n",
    "path_to_exp_dmod_fm = \"E:/msc_data/ismrm_2025/db0_032/fm/C_dmod_meas/exp/exp_dmod_B0_meas.nii.gz\"\n",
    "nib.save(exp_dmod_B0_meas_img,path_to_exp_dmod_fm)"
   ]
  },
  {
   "cell_type": "code",
   "execution_count": 150,
   "metadata": {},
   "outputs": [
    {
     "name": "stdout",
     "output_type": "stream",
     "text": [
      "Metrics extracted successfully: \n",
      "--\n",
      "Spinal Cord Toolbox (6.2)\n",
      "\n",
      "sct_extract_metric -i E:/msc_data/ismrm_2025/db0_032/fm/C_dmod_meas/exp/exp_dmod_B0_meas.nii.gz -f E:/msc_data/ismrm_2025/db0_032/fm/processing_steps/exp/label_vert/cord_mask.nii.gz -method wa -vert 3:15 -vertfile E:/msc_data/ismrm_2025/db0_032/fm/processing_steps/exp/label_vert_c3c4/cord_mask_labeled.nii.gz -perlevel 1 -o E:/msc_data/ismrm_2025/db0_032/fm/C_dmod_meas/exp/exp_metrics.csv\n",
      "--\n",
      "\n",
      "\n",
      "Load metric image...\n",
      "Estimation for label: cord_mask\n",
      "\n",
      "Done! To view results, type:\n",
      "start E:/msc_data/ismrm_2025/db0_032/fm/C_dmod_meas/exp/exp_metrics.csv\n",
      "\n",
      "\n"
     ]
    }
   ],
   "source": [
    "# Extract metrics, plot and save value\n",
    "exp_B0_metrics_path =  \"E:/msc_data/ismrm_2025/db0_032/fm/C_dmod_meas/exp/exp_metrics.csv\"\n",
    "extract_metrics(path_to_exp_dmod_fm, path_to_exp_dmod_mask, path_to_exp_metric_mask, exp_B0_metrics_path, method='wa', vert=\"3:15\")"
   ]
  },
  {
   "cell_type": "code",
   "execution_count": 151,
   "metadata": {},
   "outputs": [
    {
     "data": {
      "text/plain": [
       "12   -133.966738\n",
       "11   -121.118786\n",
       "10    -80.314337\n",
       "9      -8.943227\n",
       "8      55.167182\n",
       "7      39.844835\n",
       "6     -12.995903\n",
       "5      -8.459881\n",
       "4      22.489457\n",
       "3      56.544607\n",
       "2      63.354887\n",
       "1      41.714478\n",
       "0      19.229226\n",
       "Name: WA(), dtype: float64"
      ]
     },
     "execution_count": 151,
     "metadata": {},
     "output_type": "execute_result"
    }
   ],
   "source": [
    "exp_metrics_df = pd.read_csv(exp_B0_metrics_path)\n",
    "exp_metrics_data = exp_metrics_df['WA()']\n",
    "exp_metrics_data = exp_metrics_data[::-1]\n",
    "exp_metrics_data"
   ]
  },
  {
   "cell_type": "code",
   "execution_count": 153,
   "metadata": {},
   "outputs": [
    {
     "data": {
      "text/plain": [
       "0    -133.966738\n",
       "1    -121.118786\n",
       "2     -80.314337\n",
       "3      -8.943227\n",
       "4      55.167182\n",
       "5      39.844835\n",
       "6     -12.995903\n",
       "7      -8.459881\n",
       "8      22.489457\n",
       "9      56.544607\n",
       "10     63.354887\n",
       "11     41.714478\n",
       "12     19.229226\n",
       "13          None\n",
       "dtype: object"
      ]
     },
     "execution_count": 153,
     "metadata": {},
     "output_type": "execute_result"
    }
   ],
   "source": [
    "# For this case exp and insp go from 4 to 16 so we gotta add None to C3\n",
    "exp_metrics_data_comp = pd.concat([exp_metrics_data, pd.Series([None])]).reset_index(drop=True)\n",
    "exp_metrics_data_comp"
   ]
  },
  {
   "cell_type": "markdown",
   "metadata": {},
   "source": [
    "### <span style=\"color:red\"> Inspiration </span> "
   ]
  },
  {
   "cell_type": "code",
   "execution_count": 121,
   "metadata": {},
   "outputs": [],
   "source": [
    "path_to_insp_meas = \"E:/msc_data/ismrm_2025/db0_032/fm/C1_meas/insp/tests/test6_pro/B0.nii\"\n",
    "path_to_insp_dmod_mask = \"E:/msc_data/ismrm_2025/db0_032/fm/processing_steps/insp/label_vert/cord_mask.nii.gz\"\n",
    "path_to_insp_metric_mask = \"E:/msc_data/ismrm_2025/db0_032/fm/processing_steps/insp/label_vert/cord_mask_labeled.nii.gz\""
   ]
  },
  {
   "cell_type": "code",
   "execution_count": 122,
   "metadata": {},
   "outputs": [],
   "source": [
    "# Load images and get nifti data to manipulate!\n",
    "insp_B0_meas_img = nib.load(path_to_insp_meas)\n",
    "insp_B0_meas_data = insp_B0_meas_img.get_fdata()\n",
    "\n",
    "insp_dmod_mask_img = nib.load(path_to_insp_dmod_mask)\n",
    "insp_dmod_mask_data = insp_dmod_mask_img.get_fdata()\n",
    "\n",
    "insp_metric_mask_img = nib.load(path_to_insp_metric_mask)\n",
    "insp_metric_mask_data = insp_metric_mask_img.get_fdata()"
   ]
  },
  {
   "cell_type": "code",
   "execution_count": 123,
   "metadata": {},
   "outputs": [
    {
     "name": "stdout",
     "output_type": "stream",
     "text": [
      "Inspiration demod value:  -226.22557016176847  Hz\n"
     ]
    }
   ],
   "source": [
    "insp_dmod_value = np.mean(insp_B0_meas_data[insp_dmod_mask_data==1])\n",
    "print(\"Inspiration demod value: \",insp_dmod_value,\" Hz\")"
   ]
  },
  {
   "cell_type": "code",
   "execution_count": 124,
   "metadata": {},
   "outputs": [],
   "source": [
    "insp_dmod_B0_meas = insp_B0_meas_data - insp_dmod_value\n",
    "# Create nifti and save\n",
    "insp_dmod_B0_meas_img = nib.Nifti1Image(insp_dmod_B0_meas, affine = insp_B0_meas_img.affine)\n",
    "path_to_insp_dmod_fm = \"E:/msc_data/ismrm_2025/db0_032/fm/C_dmod_meas/insp/insp_dmod_B0_meas.nii.gz\"\n",
    "nib.save(insp_dmod_B0_meas_img, path_to_insp_dmod_fm)"
   ]
  },
  {
   "cell_type": "code",
   "execution_count": 125,
   "metadata": {},
   "outputs": [
    {
     "name": "stdout",
     "output_type": "stream",
     "text": [
      "Metrics extracted successfully: \n",
      "--\n",
      "Spinal Cord Toolbox (6.2)\n",
      "\n",
      "sct_extract_metric -i E:/msc_data/ismrm_2025/db0_032/fm/C_dmod_meas/insp/insp_dmod_B0_meas.nii.gz -f E:/msc_data/ismrm_2025/db0_032/fm/processing_steps/insp/label_vert/cord_mask.nii.gz -method wa -vert 3:15 -vertfile E:/msc_data/ismrm_2025/db0_032/fm/processing_steps/insp/label_vert/cord_mask_labeled.nii.gz -perlevel 1 -o E:/msc_data/ismrm_2025/db0_032/fm/C_dmod_meas/insp/insp_metrics.csv\n",
      "--\n",
      "\n",
      "\n",
      "Load metric image...\n",
      "Estimation for label: cord_mask\n",
      "\n",
      "Done! To view results, type:\n",
      "start E:/msc_data/ismrm_2025/db0_032/fm/C_dmod_meas/insp/insp_metrics.csv\n",
      "\n",
      "\n"
     ]
    }
   ],
   "source": [
    "insp_B0_metrics_path = \"E:/msc_data/ismrm_2025/db0_032/fm/C_dmod_meas/insp/insp_metrics.csv\"\n",
    "extract_metrics(path_to_insp_dmod_fm, path_to_insp_dmod_mask, path_to_insp_metric_mask, insp_B0_metrics_path, method='wa', vert=\"3:15\")"
   ]
  },
  {
   "cell_type": "code",
   "execution_count": 126,
   "metadata": {},
   "outputs": [
    {
     "data": {
      "text/plain": [
       "12   -106.765630\n",
       "11    -78.994747\n",
       "10     -3.712555\n",
       "9      95.571609\n",
       "8     153.102335\n",
       "7      95.810823\n",
       "6     -12.150226\n",
       "5     -53.264191\n",
       "4     -43.344680\n",
       "3     -21.873568\n",
       "2     -11.487829\n",
       "1     -11.175013\n",
       "0     -26.279172\n",
       "Name: WA(), dtype: float64"
      ]
     },
     "execution_count": 126,
     "metadata": {},
     "output_type": "execute_result"
    }
   ],
   "source": [
    "insp_metrics_df = pd.read_csv(insp_B0_metrics_path)\n",
    "insp_metrics_data = insp_metrics_df['WA()']\n",
    "insp_metrics_data = insp_metrics_data[::-1]\n",
    "insp_metrics_data"
   ]
  },
  {
   "cell_type": "code",
   "execution_count": 148,
   "metadata": {},
   "outputs": [
    {
     "data": {
      "text/plain": [
       "0     -106.76563\n",
       "1     -78.994747\n",
       "2      -3.712555\n",
       "3      95.571609\n",
       "4     153.102335\n",
       "5      95.810823\n",
       "6     -12.150226\n",
       "7     -53.264191\n",
       "8      -43.34468\n",
       "9     -21.873568\n",
       "10    -11.487829\n",
       "11    -11.175013\n",
       "12    -26.279172\n",
       "13          None\n",
       "dtype: object"
      ]
     },
     "execution_count": 148,
     "metadata": {},
     "output_type": "execute_result"
    }
   ],
   "source": [
    "# For this case exp and insp go from 4 to 16 so we gotta add None to C3\n",
    "insp_metrics_data_comp = pd.concat([insp_metrics_data, pd.Series([None])]).reset_index(drop=True)\n",
    "insp_metrics_data_comp"
   ]
  },
  {
   "cell_type": "markdown",
   "metadata": {},
   "source": [
    "### <span style=\"color:purple\"> Average Insp and Exp </span> "
   ]
  },
  {
   "cell_type": "code",
   "execution_count": 132,
   "metadata": {},
   "outputs": [
    {
     "data": {
      "text/plain": [
       "0            NaN\n",
       "1    -106.480743\n",
       "2     -62.415671\n",
       "3       7.628636\n",
       "4      70.102047\n",
       "5      74.679581\n",
       "6      12.407146\n",
       "7     -33.130047\n",
       "8     -25.902281\n",
       "9       0.307945\n",
       "10     22.528389\n",
       "11     26.089937\n",
       "12      7.717653\n",
       "13           NaN\n",
       "dtype: object"
      ]
     },
     "execution_count": 132,
     "metadata": {},
     "output_type": "execute_result"
    }
   ],
   "source": [
    "avg_respiration = (exp_metrics_data_comp + insp_metrics_data_comp )/2\n",
    "avg_respiration"
   ]
  },
  {
   "cell_type": "markdown",
   "metadata": {},
   "source": [
    "### Simualted FM loading, demod, extract metric and plot!\n",
    "The path_to_fm variable will contain 1 to n number of fms that we want to extract, demodulated and extract metrics"
   ]
  },
  {
   "cell_type": "code",
   "execution_count": 128,
   "metadata": {},
   "outputs": [],
   "source": [
    "from utils.show_slice import display_nifti_slice\n",
    "from convert_fm import convert_ppm_data_to_Hz_data\n",
    "from extract_metric import extract_metrics\n",
    "import re\n",
    "\n",
    "dmod_mask_img = nib.load(path_to_dmod_mask)\n",
    "dmod_mask_data = dmod_mask_img.get_fdata()\n",
    "\n",
    "metric_mask_img = nib.load(path_to_labeled_cord)\n",
    "metric_mask_data = metric_mask_img.get_fdata()\n"
   ]
  },
  {
   "cell_type": "code",
   "execution_count": 129,
   "metadata": {},
   "outputs": [
    {
     "name": "stdout",
     "output_type": "stream",
     "text": [
      "Demod value for db0_032_fm_opt_chi_ppm.nii.gz: -2.119983176442465\n",
      "Phrase found\n",
      "New filename: dmod_db0_032_fm_opt_chi_Hz.nii.gz\n",
      "Demod value for db0_032_fm_ppm.nii.gz: -2.123123427725569\n",
      "Phrase found\n",
      "New filename: dmod_db0_032_fm_Hz.nii.gz\n",
      "Demod value for test1_fm.nii.gz: -1.0418373620866774\n",
      "Phrase not found.\n",
      "New filename: dmod_test1_fm_Hz.nii.gz\n"
     ]
    }
   ],
   "source": [
    "phrase = \"ppm\"\n",
    "\n",
    "for filename in os.listdir(path_to_fms):\n",
    "    path_to_curr_fm = os.path.join(path_to_fms, filename)\n",
    "    current_fm_img = nib.load(path_to_curr_fm)\n",
    "    current_fm_data = current_fm_img.get_fdata()\n",
    "    \n",
    "    #display_nifti_slice(path_to_curr_fm, 470, 'ppm', inf_limit=-5, sup_limit=5, cmap = 'gray')\n",
    "\n",
    "    # Now, demodulationg by the average over the mask -> demod mask\n",
    "    demod_value = np.mean(current_fm_data[dmod_mask_data==1])\n",
    "    print(f\"Demod value for {filename}:\",demod_value)\n",
    "\n",
    "    curr_dmod_fm_ppm = current_fm_data - demod_value\n",
    "    dmod_fm_Hz = convert_ppm_data_to_Hz_data(curr_dmod_fm_ppm,3)\n",
    "\n",
    "    # Small RE block to update the FM name from ppm to Hz\n",
    "    match = re.search(re.escape(phrase), filename)\n",
    "\n",
    "    if match:\n",
    "        #start, end = match.start(), match.end()\n",
    "        print(f\"Phrase found\")\n",
    "        updated_text = \"dmod_\" + re.sub(phrase, 'Hz', filename)\n",
    "        print(\"New filename:\",updated_text)\n",
    "    else:\n",
    "        print(\"Phrase not found.\")\n",
    "        if filename.endswith(\".nii.gz\"): # Maybe code for .nii later (not urgent)\n",
    "            base_name = filename[:-7]  # Remove the `.nii.gz`\n",
    "            extension = \".nii.gz\"\n",
    "        else:\n",
    "            base_name, extension = os.path.splitext(filename)\n",
    "                # Add 'Hz' to the base name and retain the extension\n",
    "        updated_text = \"dmod_\" + base_name + \"_Hz\" + extension\n",
    "        print(\"New filename:\", updated_text)\n",
    "    \n",
    "    # Saving the demod fm to its new folder with custom name\n",
    "\n",
    "    dmod_save_path = os.path.join(path_to_dmod_folder,updated_text)\n",
    "    dmod_fm_img = nib.Nifti1Image(dmod_fm_Hz, affine = current_fm_img.affine)\n",
    "    nib.save(dmod_fm_img,dmod_save_path)\n",
    "\n",
    "    # Now metric extraction + saving and plotting :)\n",
    "\n",
    "    \n"
   ]
  },
  {
   "cell_type": "code",
   "execution_count": 130,
   "metadata": {},
   "outputs": [
    {
     "name": "stdout",
     "output_type": "stream",
     "text": [
      "dmod_db0_032_fm_Hz.nii.gz\n",
      "Metrics extracted successfully: \n",
      "--\n",
      "Spinal Cord Toolbox (6.2)\n",
      "\n",
      "sct_extract_metric -i E:/msc_data/ismrm_2025/db0_032/fm/sim/dmod_sim\\dmod_db0_032_fm_Hz.nii.gz -f E:/msc_data/ismrm_2025/db0_032/fm/sim/D2_D3_masks/cord_mask.nii.gz -method wa -vert 3:16 -vertfile E:/msc_data/ismrm_2025/db0_032/fm/sim/D2_D3_masks/cord_mask_labeled.nii.gz -perlevel 1 -o E:/msc_data/ismrm_2025/db0_032/fm/sim/D4_metrics\\metrics_dmod_db0_032_fm_Hz.csv\n",
      "--\n",
      "\n",
      "\n",
      "Load metric image...\n",
      "Estimation for label: cord_mask\n",
      "\n",
      "Done! To view results, type:\n",
      "start E:/msc_data/ismrm_2025/db0_032/fm/sim/D4_metrics\\metrics_dmod_db0_032_fm_Hz.csv\n",
      "\n",
      "\n",
      "dmod_db0_032_fm_opt_chi_Hz.nii.gz\n",
      "Metrics extracted successfully: \n",
      "--\n",
      "Spinal Cord Toolbox (6.2)\n",
      "\n",
      "sct_extract_metric -i E:/msc_data/ismrm_2025/db0_032/fm/sim/dmod_sim\\dmod_db0_032_fm_opt_chi_Hz.nii.gz -f E:/msc_data/ismrm_2025/db0_032/fm/sim/D2_D3_masks/cord_mask.nii.gz -method wa -vert 3:16 -vertfile E:/msc_data/ismrm_2025/db0_032/fm/sim/D2_D3_masks/cord_mask_labeled.nii.gz -perlevel 1 -o E:/msc_data/ismrm_2025/db0_032/fm/sim/D4_metrics\\metrics_dmod_db0_032_fm_opt_chi_Hz.csv\n",
      "--\n",
      "\n",
      "\n",
      "Load metric image...\n",
      "Estimation for label: cord_mask\n",
      "\n",
      "Done! To view results, type:\n",
      "start E:/msc_data/ismrm_2025/db0_032/fm/sim/D4_metrics\\metrics_dmod_db0_032_fm_opt_chi_Hz.csv\n",
      "\n",
      "\n",
      "dmod_test1_fm_Hz.nii.gz\n",
      "Metrics extracted successfully: \n",
      "--\n",
      "Spinal Cord Toolbox (6.2)\n",
      "\n",
      "sct_extract_metric -i E:/msc_data/ismrm_2025/db0_032/fm/sim/dmod_sim\\dmod_test1_fm_Hz.nii.gz -f E:/msc_data/ismrm_2025/db0_032/fm/sim/D2_D3_masks/cord_mask.nii.gz -method wa -vert 3:16 -vertfile E:/msc_data/ismrm_2025/db0_032/fm/sim/D2_D3_masks/cord_mask_labeled.nii.gz -perlevel 1 -o E:/msc_data/ismrm_2025/db0_032/fm/sim/D4_metrics\\metrics_dmod_test1_fm_Hz.csv\n",
      "--\n",
      "\n",
      "\n",
      "Load metric image...\n",
      "Estimation for label: cord_mask\n",
      "\n",
      "Done! To view results, type:\n",
      "start E:/msc_data/ismrm_2025/db0_032/fm/sim/D4_metrics\\metrics_dmod_test1_fm_Hz.csv\n",
      "\n",
      "\n"
     ]
    }
   ],
   "source": [
    "phrase = \"ppm\"\n",
    "for filename in os.listdir(path_to_dmod_folder):\n",
    "    print(filename)\n",
    "    path_to_dmod_fm = os.path.join(path_to_dmod_folder, filename)\n",
    "    # Testing extract metric subprocess\n",
    "    if filename.endswith(\".nii.gz\"): # Maybe code for .nii later (not urgent)\n",
    "        base_name = filename[:-7]  # Remove the `.nii.gz`\n",
    "        extension = \".nii.gz\"\n",
    "    updated_text = \"metrics_\" + base_name + \".csv\"\n",
    "    outfn = os.path.join(path_to_metrics,updated_text)\n",
    "    extract_metrics(path_to_dmod_fm, path_to_dmod_mask, path_to_labeled_cord, outfn, method='wa', vert=\"3:15\")\n"
   ]
  },
  {
   "cell_type": "code",
   "execution_count": 155,
   "metadata": {},
   "outputs": [
    {
     "name": "stdout",
     "output_type": "stream",
     "text": [
      "E:/msc_data/ismrm_2025/db0_032/fm/sim/D4_metrics\\metrics_dmod_db0_032_fm_Hz.csv\n",
      "metrics_dmod_db0_032_fm_Hz\n",
      "E:/msc_data/ismrm_2025/db0_032/fm/sim/D4_metrics\\metrics_dmod_db0_032_fm_opt_chi_Hz.csv\n",
      "metrics_dmod_db0_032_fm_opt_chi_Hz\n",
      "E:/msc_data/ismrm_2025/db0_032/fm/sim/D4_metrics\\metrics_dmod_test1_fm_Hz.csv\n",
      "metrics_dmod_test1_fm_Hz\n"
     ]
    },
    {
     "data": {
      "image/png": "[encoded data removed]",
      "text/plain": [
       "<Figure size 640x480 with 1 Axes>"
      ]
     },
     "metadata": {},
     "output_type": "display_data"
    }
   ],
   "source": [
    "vertebrae_levels = ['C3', 'C4', 'C5', 'C6', 'C7', 'T1', 'T2', 'T3', 'T4', 'T5', 'T6', 'T7','T8', 'T9'] # From 3 to 16\n",
    "colors = ['#33C3FF','#DBA5FD','#008000','#4d79ff','996633']\n",
    "color_index = 0\n",
    "for fn in os.listdir(path_to_metrics):\n",
    "\n",
    "    #print(fn)\n",
    "    metric_fn = os.path.join(path_to_metrics,fn)\n",
    "    print(metric_fn)\n",
    "    metric_df = pd.read_csv(metric_fn)\n",
    "\n",
    "    metric_values = metric_df['WA()']\n",
    "    metric_values = metric_values[::-1]\n",
    "\n",
    "    if fn.endswith(\".csv\"): # Maybe code for .nii later (not urgent)\n",
    "        base_name = fn[:-4]  # Remove the `.nii.gz`\n",
    "        extension = \".csv\"\n",
    "\n",
    "    print(base_name)\n",
    "    if base_name == \"metrics_dmod_db0_032_fm_opt_chi_Hz\":\n",
    "\n",
    "        plt.plot(vertebrae_levels, metric_values, marker = 'o', linestyle = '--', label = base_name, color = colors[color_index % len(colors)]) \n",
    "        color_index += 1\n",
    "\n",
    "# Adding expiration and inspiration measured values\n",
    "plt.plot(vertebrae_levels, exp_metrics_data_comp, marker = 'o', linestyle = '-', label = \"Expiration B0 measured\", color = \"#ff4900\")\n",
    "#plt.plot(vertebrae_levels, insp_metrics_data_comp, marker = 'o', linestyle = '-', label = \"Inspiration B0 measured\", color = \"#ffad00\")\n",
    "#plt.plot(vertebrae_levels, avg_respiration, marker = 'o', linestyle = ':', label = \"Avg respiratin B0 meas\", color = \"#264cff\")\n",
    "plt.title(\"Final analysis with automation\")\n",
    "plt.xlabel('Vertebral Level', fontsize=12)\n",
    "plt.ylabel('B0 [Hz]', fontsize=12)\n",
    "plt.legend()\n",
    "# Customize grid and display\n",
    "plt.grid(True, which='both', linestyle='--', linewidth=0.7)\n",
    "plt.tight_layout()\n",
    "\n",
    "# Show the plot\n",
    "plt.show()\n",
    "\n"
   ]
  }
 ],
 "metadata": {
  "kernelspec": {
   "display_name": "Python 3",
   "language": "python",
   "name": "python3"
  },
  "language_info": {
   "codemirror_mode": {
    "name": "ipython",
    "version": 3
   },
   "file_extension": ".py",
   "mimetype": "text/x-python",
   "name": "python",
   "nbconvert_exporter": "python",
   "pygments_lexer": "ipython3",
   "version": "3.12.5"
  }
 },
 "nbformat": 4,
 "nbformat_minor": 2
}
