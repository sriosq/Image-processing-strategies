{
 "cells": [
  {
   "cell_type": "code",
   "execution_count": 1,
   "metadata": {},
   "outputs": [],
   "source": [
    "import numpy as np\n",
    "import nibabel as nib\n",
    "import os\n",
    "import matplotlib.pyplot as plt\n",
    "import pandas as pd\n",
    "from convert_fm import convert_img_ppm_to_Hz_data, convert_ppm_data_to_Hz_data\n",
    "from demod import demod_pls\n",
    "from extract_metric import extract_metrics"
   ]
  },
  {
   "cell_type": "markdown",
   "metadata": {},
   "source": [
    "# <span style=\"color:orange\"> *db0_033 processing* </span> \n",
    "\n",
    "Due to the FOV and ROMEO cropping some of the bottom slices, we should only extract metric from C2 or C3 until T7 (14)"
   ]
  },
  {
   "cell_type": "code",
   "execution_count": 4,
   "metadata": {},
   "outputs": [],
   "source": [
    "# Simulation folders and files\n",
    "path_to_fms = \"E:/msc_data/ismrm_2025/dB0_033_dup1/fm/sim/fms\" # 4 Simulations\n",
    "path_to_dmod_mask = \"E:/msc_data/ismrm_2025/dB0_033_dup1/fm/sim/D2_D3_masks/cord_mask.nii.gz\" # 4 Simulations (also cord mask)\n",
    "path_to_labeled_cord = \"E:/msc_data/ismrm_2025/dB0_033_dup1/fm/sim/D2_D3_masks/cord_mask_labeled.nii.gz\" # 4 Simulations\n",
    "path_to_metrics = \"E:/msc_data/ismrm_2025/dB0_033_dup1/fm/sim/D4_metrics\" # 4 Simulations\n",
    "path_to_dmod_folder = \"E:/msc_data/ismrm_2025/dB0_033_dup1/fm/sim/V1_dmod_sim\" # 4 Simulations"
   ]
  },
  {
   "cell_type": "markdown",
   "metadata": {},
   "source": [
    "## Measured B0 - Inspiration & Expiration"
   ]
  },
  {
   "cell_type": "markdown",
   "metadata": {},
   "source": [
    "### <span style=\"color:green\"> Expiration </span> "
   ]
  },
  {
   "cell_type": "code",
   "execution_count": 2,
   "metadata": {},
   "outputs": [],
   "source": [
    "path_to_exp_meas = \"E:/msc_data/ismrm_2025/dB0_033_dup1/fm/C1_meas/exp/tests/test1/B0.nii\"\n",
    "path_to_exp_dmod_mask = \"E:/msc_data/ismrm_2025/dB0_033_dup1/fm/processing_steps/D1_D2_label_vert/exp/cord_mask.nii.gz\"\n",
    "path_to_exp_metric_mask = \"E:/msc_data/ismrm_2025/dB0_033_dup1/fm/processing_steps/D1_D2_label_vert/exp/cord_mask_labeled.nii.gz\""
   ]
  },
  {
   "cell_type": "code",
   "execution_count": 3,
   "metadata": {},
   "outputs": [],
   "source": [
    "# Load images and get nifti data to manipulate!\n",
    "exp_B0_meas_img = nib.load(path_to_exp_meas)\n",
    "exp_B0_meas_data = exp_B0_meas_img.get_fdata()\n",
    "\n",
    "exp_metric_mask_img = nib.load(path_to_exp_metric_mask)\n",
    "exp_metric_mask_data = exp_metric_mask_img.get_fdata()"
   ]
  },
  {
   "cell_type": "code",
   "execution_count": 4,
   "metadata": {},
   "outputs": [
    {
     "name": "stdout",
     "output_type": "stream",
     "text": [
      "Demodulation value for expiration:  260.6165514583544\n"
     ]
    }
   ],
   "source": [
    "# Work July 7th - retrying everything for this dub\n",
    "dmod_value_exp = np.mean(exp_B0_meas_data[exp_metric_mask_data == 1])\n",
    "print(\"Demodulation value for expiration: \", dmod_value_exp)"
   ]
  },
  {
   "cell_type": "code",
   "execution_count": 12,
   "metadata": {},
   "outputs": [
    {
     "name": "stdout",
     "output_type": "stream",
     "text": [
      "Metrics extracted successfully: \n",
      "--\n",
      "Spinal Cord Toolbox (7.0)\n",
      "\n",
      "sct_extract_metric -i E:/msc_data/ismrm_2025/dB0_033_dup1/fm/C1_meas/exp/tests/test1/B0.nii -f E:/msc_data/ismrm_2025/dB0_033_dup1/fm/processing_steps/D1_D2_label_vert/exp/cord_mask.nii.gz -method wa -vert 4:14 -vertfile E:/msc_data/ismrm_2025/dB0_033_dup1/fm/processing_steps/D1_D2_label_vert/exp/cord_mask_labeled.nii.gz -perlevel 1 -o E:/msc_data/ismrm_2025/dB0_033_dup1/fm/C1_meas/exp/exp_metrics_july_test.csv\n",
      "--\n",
      "\n",
      "\n",
      "Load metric image...\n",
      "Estimation for label: cord_mask\n",
      "\n",
      "Done! To view results, type:\n",
      "start E:/msc_data/ismrm_2025/dB0_033_dup1/fm/C1_meas/exp/exp_metrics_july_test.csv\n",
      "\n",
      "Total runtime; 0.383 seconds.\n",
      "\n"
     ]
    }
   ],
   "source": [
    "# Extract metrics, plot and save value\n",
    "exp_B0_metrics_path =  \"E:/msc_data/ismrm_2025/dB0_033_dup1/fm/C1_meas/exp/exp_metrics_july_test.csv\"\n",
    "extract_metrics(path_to_exp_meas, path_to_exp_dmod_mask, path_to_exp_metric_mask, exp_B0_metrics_path, method='wa', vert=\"4:14\")"
   ]
  },
  {
   "cell_type": "code",
   "execution_count": 6,
   "metadata": {},
   "outputs": [
    {
     "data": {
      "text/plain": [
       "10    181.808669\n",
       "9     234.078980\n",
       "8     294.024011\n",
       "7     369.443786\n",
       "6     405.704963\n",
       "5     379.206845\n",
       "4     359.523679\n",
       "3     367.167140\n",
       "2     374.285754\n",
       "1     371.927968\n",
       "0     352.401951\n",
       "Name: WA(), dtype: float64"
      ]
     },
     "execution_count": 6,
     "metadata": {},
     "output_type": "execute_result"
    }
   ],
   "source": [
    "# Load the metrics\n",
    "exp_B0_metrics_df = pd.read_csv(exp_B0_metrics_path)\n",
    "exp_B0_metrics = exp_B0_metrics_df['WA()'][::-1]\n",
    "exp_B0_metrics\n"
   ]
  },
  {
   "cell_type": "code",
   "execution_count": 13,
   "metadata": {},
   "outputs": [
    {
     "data": {
      "text/plain": [
       "10    -78.807882\n",
       "9     -26.537571\n",
       "8      33.407460\n",
       "7     108.827235\n",
       "6     145.088412\n",
       "5     118.590294\n",
       "4      98.907127\n",
       "3     106.550588\n",
       "2     113.669203\n",
       "1     111.311417\n",
       "0      91.785400\n",
       "Name: WA(), dtype: float64"
      ]
     },
     "execution_count": 13,
     "metadata": {},
     "output_type": "execute_result"
    }
   ],
   "source": [
    "dmod_exp_B0_metrics = exp_B0_metrics - dmod_value_exp\n",
    "dmod_exp_B0_metrics"
   ]
  },
  {
   "cell_type": "code",
   "execution_count": 14,
   "metadata": {},
   "outputs": [
    {
     "name": "stdout",
     "output_type": "stream",
     "text": [
      "Frequency of water at 3T:  127.74 MHz\n",
      "Frequency adjustment for absolute frequency per voxel:  -4.490510999999998 MHz\n"
     ]
    }
   ],
   "source": [
    "central_freq_exp_db33 = 123.249489 # in MHz\n",
    "gamma_bar = 42.58 # MHz/T\n",
    "B0 = 3 # [T]\n",
    "water_Hz_3T = B0 * gamma_bar # This comes from Larmor equation, gyromagnetic ratio in MHz/T\n",
    "print(\"Frequency of water at 3T: \", water_Hz_3T, \"MHz\")\n",
    "\n",
    "freq_offset_exp =  central_freq_exp_db33 - water_Hz_3T \n",
    "print(\"Frequency adjustment for absolute frequency per voxel: \", freq_offset_exp, \"MHz\")"
   ]
  },
  {
   "cell_type": "code",
   "execution_count": 9,
   "metadata": {},
   "outputs": [],
   "source": [
    "# If the central frequency from the scanner is 123.249489 MHz, it meas the B0 strenght we need to simulate is:\n",
    "B0_used_scanner = central_freq_exp_db33 /gamma_bar"
   ]
  },
  {
   "cell_type": "code",
   "execution_count": 9,
   "metadata": {},
   "outputs": [
    {
     "name": "stdout",
     "output_type": "stream",
     "text": [
      "Frequency offset from a 2 pi wrap:  518.1347150259068  Hz\n"
     ]
    }
   ],
   "source": [
    "# Lets calculate the frequency offset from \"n\" pi wraps\n",
    "n = 2\n",
    "gamma = gamma_bar*2*np.pi\n",
    "deltaTE = 5.2-3.27\n",
    "freq_offset_npi = (central_freq_exp_db33*n*np.pi)/(gamma*deltaTE*1e-3*B0_used_scanner)\n",
    "print(f\"Frequency offset from a {n} pi wrap: \",freq_offset_npi,\" Hz\")"
   ]
  },
  {
   "cell_type": "code",
   "execution_count": 15,
   "metadata": {},
   "outputs": [
    {
     "data": {
      "text/plain": [
       "10    181.808669\n",
       "9     234.078980\n",
       "8     294.024011\n",
       "7     369.443786\n",
       "6     405.704963\n",
       "5     379.206845\n",
       "4     359.523679\n",
       "3     367.167140\n",
       "2     374.285754\n",
       "1     371.927968\n",
       "0     352.401951\n",
       "Name: WA(), dtype: float64"
      ]
     },
     "execution_count": 15,
     "metadata": {},
     "output_type": "execute_result"
    }
   ],
   "source": [
    "# Import the data:\n",
    "raw_exp_metrics_path = r\"E:\\msc_data\\ismrm_2025\\dB0_033_dup1\\fm\\C1_meas\\exp\\raw_exp_metrics.csv\"\n",
    "raw_exp_metrics_csv = pd.read_csv(raw_exp_metrics_path)\n",
    "\n",
    "raw_exp_metrics= raw_exp_metrics_csv['WA()'][::-1]\n",
    "\n",
    "raw_exp_metrics "
   ]
  },
  {
   "cell_type": "markdown",
   "metadata": {},
   "source": [
    "### <span style=\"color:red\"> Inspiration </span> "
   ]
  },
  {
   "cell_type": "code",
   "execution_count": 10,
   "metadata": {},
   "outputs": [],
   "source": [
    "path_to_insp_meas = \"E:/msc_data/ismrm_2025/dB0_033_dup1/fm/C1_meas/insp/tests/test1/B0.nii\"\n",
    "# This don't change:\n",
    "path_to_insp_dmod_mask = \"E:/msc_data/ismrm_2025/dB0_033_dup1/fm/processing_steps/D1_D2_label_vert/insp/cord_mask.nii.gz\"\n",
    "path_to_insp_metric_mask = \"E:/msc_data/ismrm_2025/dB0_033_dup1/fm/processing_steps/D1_D2_label_vert/insp/cord_mask_labeled.nii.gz\""
   ]
  },
  {
   "cell_type": "code",
   "execution_count": 11,
   "metadata": {},
   "outputs": [],
   "source": [
    "# Load images and get nifti data to manipulate!\n",
    "insp_B0_meas_img = nib.load(path_to_insp_meas)\n",
    "insp_B0_meas_data = insp_B0_meas_img.get_fdata()\n",
    "\n",
    "insp_metric_mask_img = nib.load(path_to_insp_metric_mask)\n",
    "insp_metric_mask_data = insp_metric_mask_img.get_fdata()"
   ]
  },
  {
   "cell_type": "code",
   "execution_count": 18,
   "metadata": {},
   "outputs": [
    {
     "name": "stdout",
     "output_type": "stream",
     "text": [
      "Demodulation value for expiration:  -302.81905592872096\n"
     ]
    }
   ],
   "source": [
    "# Work July 7th - retrying everything for this dub\n",
    "dmod_value_insp = np.mean(insp_B0_meas_data[insp_metric_mask_data == 1])\n",
    "print(\"Demodulation value for expiration: \", dmod_value_insp)"
   ]
  },
  {
   "cell_type": "code",
   "execution_count": 16,
   "metadata": {},
   "outputs": [
    {
     "name": "stdout",
     "output_type": "stream",
     "text": [
      "Metrics extracted successfully: \n",
      "--\n",
      "Spinal Cord Toolbox (7.0)\n",
      "\n",
      "sct_extract_metric -i E:/msc_data/ismrm_2025/dB0_033_dup1/fm/C1_meas/insp/tests/test1/B0.nii -f E:/msc_data/ismrm_2025/dB0_033_dup1/fm/processing_steps/D1_D2_label_vert/insp/cord_mask.nii.gz -method wa -vert 4:14 -vertfile E:/msc_data/ismrm_2025/dB0_033_dup1/fm/processing_steps/D1_D2_label_vert/insp/cord_mask_labeled.nii.gz -perlevel 1 -o E:/msc_data/ismrm_2025/dB0_033_dup1/fm/C1_meas/insp/exp_metrics_july_test.csv\n",
      "--\n",
      "\n",
      "\n",
      "Load metric image...\n",
      "Estimation for label: cord_mask\n",
      "\n",
      "Done! To view results, type:\n",
      "start E:/msc_data/ismrm_2025/dB0_033_dup1/fm/C1_meas/insp/exp_metrics_july_test.csv\n",
      "\n",
      "Total runtime; 0.435 seconds.\n",
      "\n"
     ]
    }
   ],
   "source": [
    "insp_B0_metrics_path = \"E:/msc_data/ismrm_2025/dB0_033_dup1/fm/C1_meas/insp/exp_metrics_july_test.csv\"\n",
    "\n",
    "extract_metrics(path_to_insp_meas, path_to_insp_dmod_mask, path_to_insp_metric_mask, insp_B0_metrics_path, method='wa', vert=\"4:14\")"
   ]
  },
  {
   "cell_type": "code",
   "execution_count": 20,
   "metadata": {},
   "outputs": [
    {
     "data": {
      "text/plain": [
       "10   -368.069584\n",
       "9    -305.188981\n",
       "8    -229.622627\n",
       "7    -146.332100\n",
       "6    -116.067738\n",
       "5    -183.757192\n",
       "4    -229.167591\n",
       "3    -240.508212\n",
       "2    -240.673513\n",
       "1    -239.302442\n",
       "0    -245.267424\n",
       "Name: WA(), dtype: float64"
      ]
     },
     "execution_count": 20,
     "metadata": {},
     "output_type": "execute_result"
    }
   ],
   "source": [
    "# Load the metrics\n",
    "insp_B0_metrics_df = pd.read_csv(insp_B0_metrics_path)\n",
    "insp_B0_metrics = insp_B0_metrics_df['WA()'][::-1]\n",
    "insp_B0_metrics"
   ]
  },
  {
   "cell_type": "code",
   "execution_count": 24,
   "metadata": {},
   "outputs": [
    {
     "data": {
      "text/plain": [
       "10    -65.250528\n",
       "9      -2.369925\n",
       "8      73.196429\n",
       "7     156.486956\n",
       "6     186.751318\n",
       "5     119.061864\n",
       "4      73.651465\n",
       "3      62.310844\n",
       "2      62.145543\n",
       "1      63.516614\n",
       "0      57.551632\n",
       "Name: WA(), dtype: float64"
      ]
     },
     "execution_count": 24,
     "metadata": {},
     "output_type": "execute_result"
    }
   ],
   "source": [
    "dmod_insp_B0_metrics = insp_B0_metrics - dmod_value_insp\n",
    "dmod_insp_B0_metrics"
   ]
  },
  {
   "cell_type": "code",
   "execution_count": 17,
   "metadata": {},
   "outputs": [],
   "source": [
    "raw_insp_metrics_path = \"E:/msc_data/ismrm_2025/dB0_033_dup1/fm/C1_meas/insp/raw_insp_metrics.csv\""
   ]
  },
  {
   "cell_type": "code",
   "execution_count": 12,
   "metadata": {},
   "outputs": [
    {
     "data": {
      "text/plain": [
       "10   -368.069584\n",
       "9    -305.188981\n",
       "8    -229.622627\n",
       "7    -146.332100\n",
       "6    -116.067738\n",
       "5    -183.757192\n",
       "4    -229.167591\n",
       "3    -240.508212\n",
       "2    -240.673513\n",
       "1    -239.302442\n",
       "0    -245.267424\n",
       "Name: WA(), dtype: float64"
      ]
     },
     "execution_count": 12,
     "metadata": {},
     "output_type": "execute_result"
    }
   ],
   "source": [
    "raw_insp_metrics_df = pd.read_csv(raw_insp_metrics_path)\n",
    "raw_insp_metrics = raw_insp_metrics_df['WA()'][::-1]\n",
    "\n",
    "raw_insp_metrics"
   ]
  },
  {
   "cell_type": "code",
   "execution_count": 16,
   "metadata": {},
   "outputs": [],
   "source": [
    "two_pi_offset_corrected_insp = raw_insp_metrics + freq_offset_npi"
   ]
  },
  {
   "cell_type": "code",
   "execution_count": 33,
   "metadata": {},
   "outputs": [
    {
     "data": {
      "image/png": "[encoded data removed]",
      "text/plain": [
       "<Figure size 640x480 with 1 Axes>"
      ]
     },
     "metadata": {},
     "output_type": "display_data"
    }
   ],
   "source": [
    "# Correct for phase wraps the Expiration:\n",
    "#exp_corrected_metrics = raw_exp_metrics - np.abs(freq_offset_npi)\n",
    "vertebrae_levels = [ 'C4', 'C5', 'C6', 'C7', 'T1', 'T2', 'T3', 'T4', 'T5', 'T6', 'T7'] # From 4 to 14\n",
    "plt.plot(vertebrae_levels, dmod_exp_B0_metrics, marker = 'o', linestyle = '--', label = \"Demodulated Exp.\", color = \"green\")\n",
    "plt.plot(vertebrae_levels, dmod_insp_B0_metrics, marker = 'o', linestyle = '--', label = \"Demodulated Insp.\", color = \"red\")\n",
    "\n",
    "plt.title(\"Demodulated In-vivo Measured B0 maps\")\n",
    "plt.xlabel('Vertebral Level', fontsize=12)\n",
    "plt.ylabel('B0 [MHz]', fontsize=12)\n",
    "plt.legend()\n",
    "# Customize grid and display\n",
    "plt.grid(True, which='both', linestyle='--', linewidth=0.7)\n",
    "plt.tight_layout()\n",
    "\n",
    "# Show the plot\n",
    "plt.show()"
   ]
  },
  {
   "cell_type": "markdown",
   "metadata": {},
   "source": [
    "### <span style=\"color:#C28AD1\"> Average Insp and Exp </span> "
   ]
  },
  {
   "cell_type": "code",
   "execution_count": 31,
   "metadata": {},
   "outputs": [
    {
     "data": {
      "text/plain": [
       "10    -72.029205\n",
       "9     -14.453748\n",
       "8      53.301945\n",
       "7     132.657095\n",
       "6     165.919865\n",
       "5     118.826079\n",
       "4      86.279296\n",
       "3      84.430716\n",
       "2      87.907373\n",
       "1      87.414016\n",
       "0      74.668516\n",
       "Name: WA(), dtype: float64"
      ]
     },
     "execution_count": 31,
     "metadata": {},
     "output_type": "execute_result"
    }
   ],
   "source": [
    "avg_demod_respiration = (dmod_exp_B0_metrics + dmod_insp_B0_metrics )/2\n",
    "avg_demod_respiration"
   ]
  },
  {
   "cell_type": "code",
   "execution_count": 34,
   "metadata": {},
   "outputs": [
    {
     "data": {
      "image/png": "[encoded data removed]",
      "text/plain": [
       "<Figure size 640x480 with 1 Axes>"
      ]
     },
     "metadata": {},
     "output_type": "display_data"
    }
   ],
   "source": [
    "# Correct for phase wraps the Expiration:\n",
    "#exp_corrected_metrics = raw_exp_metrics - np.abs(freq_offset_npi)\n",
    "vertebrae_levels = [ 'C4', 'C5', 'C6', 'C7', 'T1', 'T2', 'T3', 'T4', 'T5', 'T6', 'T7'] # From 4 to 14\n",
    "plt.plot(vertebrae_levels, dmod_exp_B0_metrics, marker = 'o', linestyle = '--', label = \"Demodulated Exp.\", color = \"green\")\n",
    "plt.plot(vertebrae_levels, dmod_insp_B0_metrics, marker = 'o', linestyle = '--', label = \"Demodulated Insp.\", color = \"red\")\n",
    "# After you have the average done:\n",
    "plt.plot(vertebrae_levels, avg_demod_respiration, marker = 'o', linestyle = '--', label = \"Demodulated Insp.\", color = \"orange\")\n",
    "\n",
    "plt.title(\"Demodulated In-vivo Measured B0 maps\")\n",
    "plt.xlabel('Vertebral Level', fontsize=12)\n",
    "plt.ylabel('B0 [MHz]', fontsize=12)\n",
    "plt.legend()\n",
    "# Customize grid and display\n",
    "plt.grid(True, which='both', linestyle='--', linewidth=0.7)\n",
    "plt.tight_layout()\n",
    "\n",
    "# Show the plot\n",
    "plt.show()"
   ]
  },
  {
   "cell_type": "code",
   "execution_count": 35,
   "metadata": {},
   "outputs": [],
   "source": [
    "# Now we save this to load the average to load for susceptibility fitting\n",
    "avg_demod_respiration.to_csv(\"E:/msc_data/ismrm_2025/dB0_033_dup1/fm/C_dmod_meas/dmod_avg_respiration.csv\" , index = False, header = True)"
   ]
  },
  {
   "cell_type": "markdown",
   "metadata": {},
   "source": [
    "### <span style=\"color:#81DDE7\"> Simualted FM loading, calculations, extract metric and plot!  </span> \n",
    "Here we bring the data from the simulation with an initial assumption of chi value for trachea and lung </br>\n",
    "This helps confirm the shape of the curves and the dimension of the graphs"
   ]
  },
  {
   "cell_type": "code",
   "execution_count": 22,
   "metadata": {},
   "outputs": [],
   "source": [
    "dmod_mask_img = nib.load(path_to_dmod_mask)\n",
    "dmod_mask_data = dmod_mask_img.get_fdata()\n",
    "\n",
    "metric_mask_img = nib.load(path_to_labeled_cord)\n",
    "metric_mask_data = metric_mask_img.get_fdata()"
   ]
  },
  {
   "cell_type": "code",
   "execution_count": 23,
   "metadata": {},
   "outputs": [
    {
     "data": {
      "text/plain": [
       "'E:/msc_data/ismrm_2025/dB0_033_dup1/fm/sim/fms'"
      ]
     },
     "execution_count": 21,
     "metadata": {},
     "output_type": "execute_result"
    }
   ],
   "source": [
    "path_to_fms"
   ]
  },
  {
   "cell_type": "markdown",
   "metadata": {},
   "source": [
    "In theory, the simulated fieldmaps in PPM use susceptibility distributions referenced to either free space (0) or relative to other values. If it is the same subject, changing the reference should not change the fm values in ppm."
   ]
  },
  {
   "cell_type": "code",
   "execution_count": 23,
   "metadata": {},
   "outputs": [],
   "source": [
    "fm_ppm_ref_zero_img = nib.load(os.path.join(path_to_fms,\"dB0_033_sim_fm_ppm.nii.gz\"))\n",
    "fm_ppm_ref_zero_data = fm_ppm_ref_zero_img.get_fdata()\n",
    "\n",
    "#fmref_zero_Hz_ = convert_ppm_data_to_Hz_data(fm_ppm_ref_zero_data,B0_used_scanner)\n",
    "# ## # # ### ##  ###  ## ### # # # # #### \n",
    "fm_ppm_ref_h20_img = nib.load(os.path.join(path_to_fms,\"custom_dmod_water_fm_ppm.nii.gz\"))\n",
    "fm_ppm_ref_h20_data = fm_ppm_ref_h20_img.get_fdata()\n"
   ]
  },
  {
   "cell_type": "code",
   "execution_count": 24,
   "metadata": {},
   "outputs": [],
   "source": [
    "# Extracting metrics faster through this code (not using extract_metrics)\n",
    "start_vert = 4\n",
    "end_vert = 14\n",
    "selected_range_mask = (metric_mask_data >= start_vert) & (metric_mask_data <= end_vert)\n",
    "\n",
    "level_means_ref_zero = {}\n",
    "level_means_ref_h20 = {}\n",
    "\n",
    "for level in range(start_vert, end_vert + 1):\n",
    "    level_mask = metric_mask_data == level\n",
    "    level_means_ref_zero[level] = np.mean(fm_ppm_ref_zero_data[level_mask])\n",
    "    level_means_ref_h20[level] = np.mean(fm_ppm_ref_h20_data[level_mask])"
   ]
  },
  {
   "cell_type": "code",
   "execution_count": 25,
   "metadata": {},
   "outputs": [
    {
     "name": "stdout",
     "output_type": "stream",
     "text": [
      "4 -3.5799368440219044\n",
      "5 -3.4931521458916452\n",
      "6 -3.2764471133429227\n",
      "7 -2.9993050221288415\n",
      "8 -2.9182237643342317\n",
      "9 -3.1384212111863565\n",
      "10 -3.26151118486044\n",
      "11 -3.2208164853089354\n",
      "12 -3.162387757876323\n",
      "13 -3.2214410207454205\n",
      "14 -3.24259450512859\n"
     ]
    }
   ],
   "source": [
    "list_c4_t7_ref_zero =  []\n",
    "\n",
    "for key, value in level_means_ref_zero.items():\n",
    "    print(key,value)\n",
    "    list_c4_t7_ref_zero.append(value)"
   ]
  },
  {
   "cell_type": "code",
   "execution_count": 26,
   "metadata": {},
   "outputs": [
    {
     "name": "stdout",
     "output_type": "stream",
     "text": [
      "4 2.443396489331677\n",
      "5 2.5301811881670253\n",
      "6 2.7468862205653206\n",
      "7 3.0240283106502734\n",
      "8 3.1051095705218996\n",
      "9 2.884912125238283\n",
      "10 2.7618221489993378\n",
      "11 2.802516845739256\n",
      "12 2.860945573823025\n",
      "13 2.801892314102317\n",
      "14 2.7807388312903494\n"
     ]
    }
   ],
   "source": [
    "list_c4_t7_ref_h20 =  []\n",
    "\n",
    "for key, value in level_means_ref_h20.items():\n",
    "    print(key,value)\n",
    "    list_c4_t7_ref_h20.append(value)\n"
   ]
  },
  {
   "cell_type": "code",
   "execution_count": 32,
   "metadata": {},
   "outputs": [],
   "source": [
    "list_c4_t7_ref_zero_Hz = [i*central_freq_exp_db33 for i in list_c4_t7_ref_zero]\n",
    "list_c4_t7_ref_h20_Hz = [i*central_freq_exp_db33 for i in list_c4_t7_ref_h20]"
   ]
  },
  {
   "cell_type": "code",
   "execution_count": 36,
   "metadata": {},
   "outputs": [
    {
     "data": {
      "text/plain": [
       "[np.float64(301.1473687345231),\n",
       " np.float64(311.8435385189987),\n",
       " np.float64(338.55232302581703),\n",
       " np.float64(372.7099440091794),\n",
       " np.float64(382.70316785583356),\n",
       " np.float64(355.5639452455224),\n",
       " np.float64(340.3931685730502),\n",
       " np.float64(345.40876915125517),\n",
       " np.float64(352.6100800304996),\n",
       " np.float64(345.3317959461381),\n",
       " np.float64(342.72463999899276)]"
      ]
     },
     "execution_count": 36,
     "metadata": {},
     "output_type": "execute_result"
    }
   ],
   "source": [
    "list_c4_t7_ref_h20_Hz"
   ]
  },
  {
   "cell_type": "code",
   "execution_count": 33,
   "metadata": {},
   "outputs": [
    {
     "data": {
      "text/plain": [
       "[np.float64(-441.2253866779724),\n",
       " np.float64(-430.5292169803987),\n",
       " np.float64(-403.8204324550403),\n",
       " np.float64(-369.6628113325134),\n",
       " np.float64(-359.6695877418505),\n",
       " np.float64(-386.8088105454795),\n",
       " np.float64(-401.9795869018337),\n",
       " np.float64(-396.9639859771023),\n",
       " np.float64(-389.7626751781125),\n",
       " np.float64(-397.04095965051147),\n",
       " np.float64(-399.64811579130657)]"
      ]
     },
     "execution_count": 33,
     "metadata": {},
     "output_type": "execute_result"
    }
   ],
   "source": [
    "list_c4_t7_ref_zero_Hz"
   ]
  },
  {
   "cell_type": "markdown",
   "metadata": {},
   "source": [
    "What we see here is that the values are different but are the deltas different?"
   ]
  },
  {
   "cell_type": "code",
   "execution_count": 27,
   "metadata": {},
   "outputs": [
    {
     "data": {
      "text/plain": [
       "np.float64(0.08678469813025913)"
      ]
     },
     "execution_count": 27,
     "metadata": {},
     "output_type": "execute_result"
    }
   ],
   "source": [
    "list_c4_t7_ref_zero[1] - list_c4_t7_ref_zero[0]"
   ]
  },
  {
   "cell_type": "code",
   "execution_count": 28,
   "metadata": {},
   "outputs": [
    {
     "data": {
      "text/plain": [
       "np.float64(0.08678469883534845)"
      ]
     },
     "execution_count": 28,
     "metadata": {},
     "output_type": "execute_result"
    }
   ],
   "source": [
    "list_c4_t7_ref_h20[1] - list_c4_t7_ref_h20[0]"
   ]
  },
  {
   "cell_type": "markdown",
   "metadata": {},
   "source": [
    "So, the deltas seem to be the same but the magnitude won't be the same\n",
    "It makes sense to use the susceptibility distribution that is relative to free space, that's most likely the one that could be understood is used when we get into the scanner, i.e., our \"susceptibility distributions\" are not referenced to water or to bone, this is something we change for reporting values."
   ]
  },
  {
   "cell_type": "code",
   "execution_count": 29,
   "metadata": {},
   "outputs": [],
   "source": [
    "curr_fm = nib.load(os.path.join(path_to_fms,\"custom_dmod_water_fm_ppm.nii.gz\"))\n",
    "curr_fm_data = curr_fm.get_fdata()"
   ]
  },
  {
   "cell_type": "code",
   "execution_count": 31,
   "metadata": {},
   "outputs": [
    {
     "name": "stdout",
     "output_type": "stream",
     "text": [
      "Metrics extracted successfully: \n",
      "--\n",
      "Spinal Cord Toolbox (6.5)\n",
      "\n",
      "sct_extract_metric -i E:\\msc_data\\ismrm_2025\\dB0_033_dup1\\fm\\sim/raw_sim_fm.nii.gz -f E:/msc_data/ismrm_2025/dB0_033_dup1/fm/sim/D2_D3_masks/cord_mask.nii.gz -method wa -vert 4:14 -vertfile E:/msc_data/ismrm_2025/dB0_033_dup1/fm/sim/D2_D3_masks/cord_mask_labeled.nii.gz -perlevel 1 -o E:/msc_data/ismrm_2025/dB0_033_dup1/fm/sim/D4_metrics\\initial_raw_sim_fm.csv\n",
      "--\n",
      "\n",
      "\n",
      "Load metric image...\n",
      "Estimation for label: cord_mask\n",
      "\n",
      "Done! To view results, type:\n",
      "start E:/msc_data/ismrm_2025/dB0_033_dup1/fm/sim/D4_metrics\\initial_raw_sim_fm.csv\n",
      "\n",
      "\n"
     ]
    }
   ],
   "source": [
    "raw_fm_Hz = convert_ppm_data_to_Hz_data(curr_fm_data,B0_used_scanner)\n",
    "\n",
    "rawSimHz_save_path = r\"E:\\msc_data\\ismrm_2025\\dB0_033_dup1\\fm\\sim/raw_sim_fm.nii.gz\"\n",
    "\n",
    "raw_sim_fm_img = nib.Nifti1Image(raw_fm_Hz, affine = curr_fm.affine)\n",
    "\n",
    "nib.save(raw_sim_fm_img, rawSimHz_save_path)\n",
    "\n",
    "outfn_raw_fm_sim = os.path.join(path_to_metrics,\"initial_raw_sim_fm.csv\")\n",
    "\n",
    "extract_metrics(rawSimHz_save_path, path_to_dmod_mask, path_to_labeled_cord, outfn_raw_fm_sim, method='wa', vert=\"4:14\")"
   ]
  },
  {
   "cell_type": "code",
   "execution_count": 37,
   "metadata": {},
   "outputs": [
    {
     "data": {
      "text/plain": [
       "123.249489"
      ]
     },
     "execution_count": 37,
     "metadata": {},
     "output_type": "execute_result"
    }
   ],
   "source": [
    "central_freq_exp_db33"
   ]
  },
  {
   "cell_type": "code",
   "execution_count": 38,
   "metadata": {},
   "outputs": [
    {
     "data": {
      "text/plain": [
       "[np.float64(-441.2253866779724),\n",
       " np.float64(-430.5292169803987),\n",
       " np.float64(-403.8204324550403),\n",
       " np.float64(-369.6628113325134),\n",
       " np.float64(-359.6695877418505),\n",
       " np.float64(-386.8088105454795),\n",
       " np.float64(-401.9795869018337),\n",
       " np.float64(-396.9639859771023),\n",
       " np.float64(-389.7626751781125),\n",
       " np.float64(-397.04095965051147),\n",
       " np.float64(-399.64811579130657)]"
      ]
     },
     "execution_count": 38,
     "metadata": {},
     "output_type": "execute_result"
    }
   ],
   "source": [
    "# The equations show that to get the simulation to be comparable with the raw measured fieldmaps we just need to:\n",
    "# 1st. Perform the FM calculation which will give us the fieldmap in PPM\n",
    "# 2nd. We multiply by the central frequency.\n",
    "test_raw_sim1 = [i*central_freq_exp_db33 for i in list_c4_t7_ref_zero]\n",
    "test_raw_sim1"
   ]
  },
  {
   "cell_type": "code",
   "execution_count": 28,
   "metadata": {},
   "outputs": [],
   "source": [
    "path_to_ref_zero_fm_Hz = r\"E:\\msc_data\\ismrm_2025\\dB0_033_dup1\\fm\\sim/raw_sim_fm_ref_zero_Hz.csv\"\n",
    "\n",
    "# Convert to DataFrame\n",
    "df_raw_sim1 = pd.DataFrame(test_raw_sim1, columns=['WA()'])\n",
    "\n",
    "# Save to CSV\n",
    "df_raw_sim1.to_csv(path_to_ref_zero_fm_Hz, index=False, header = True)"
   ]
  },
  {
   "cell_type": "code",
   "execution_count": 39,
   "metadata": {},
   "outputs": [
    {
     "data": {
      "text/plain": [
       "0    -441.225387\n",
       "1    -430.529217\n",
       "2    -403.820432\n",
       "3    -369.662811\n",
       "4    -359.669588\n",
       "5    -386.808811\n",
       "6    -401.979587\n",
       "7    -396.963986\n",
       "8    -389.762675\n",
       "9    -397.040960\n",
       "10   -399.648116\n",
       "Name: WA(), dtype: float64"
      ]
     },
     "execution_count": 39,
     "metadata": {},
     "output_type": "execute_result"
    }
   ],
   "source": [
    "# Now we can load this without having to re-do calculations\n",
    "path_to_ref_zero_fm_Hz = r\"E:\\msc_data\\ismrm_2025\\dB0_033_dup1\\fm\\sim/raw_sim_fm_ref_zero_Hz.csv\"\n",
    "\n",
    "raw_sim_fm_ref_zero_Hz_csv = pd.read_csv(path_to_ref_zero_fm_Hz)\n",
    "raw_sim_fm_ref_zero_Hz_csv = raw_sim_fm_ref_zero_Hz_csv[\"WA()\"]\n",
    "raw_sim_fm_ref_zero_Hz_csv"
   ]
  },
  {
   "cell_type": "code",
   "execution_count": 40,
   "metadata": {},
   "outputs": [
    {
     "data": {
      "text/plain": [
       "[np.float64(301.1473687345231),\n",
       " np.float64(311.8435385189987),\n",
       " np.float64(338.55232302581703),\n",
       " np.float64(372.7099440091794),\n",
       " np.float64(382.70316785583356),\n",
       " np.float64(355.5639452455224),\n",
       " np.float64(340.3931685730502),\n",
       " np.float64(345.40876915125517),\n",
       " np.float64(352.6100800304996),\n",
       " np.float64(345.3317959461381),\n",
       " np.float64(342.72463999899276)]"
      ]
     },
     "execution_count": 40,
     "metadata": {},
     "output_type": "execute_result"
    }
   ],
   "source": [
    "test_raw_sim2 = [i*central_freq_exp_db33 for i in list_c4_t7_ref_h20]\n",
    "test_raw_sim2"
   ]
  },
  {
   "cell_type": "code",
   "execution_count": 33,
   "metadata": {},
   "outputs": [],
   "source": [
    "path_to_ref_h20_fm_Hz = r\"E:\\msc_data\\ismrm_2025\\dB0_033_dup1\\fm\\sim/raw_sim_fm_ref_h20_Hz.csv\"\n",
    "\n",
    "# Convert to DataFrame\n",
    "df_raw_sim2 = pd.DataFrame(test_raw_sim2, columns=['WA()'])\n",
    "\n",
    "# Save to CSV\n",
    "df_raw_sim2.to_csv(path_to_ref_h20_fm_Hz, index=False, header = True)"
   ]
  },
  {
   "cell_type": "code",
   "execution_count": 41,
   "metadata": {},
   "outputs": [
    {
     "data": {
      "text/plain": [
       "0     301.147369\n",
       "1     311.843539\n",
       "2     338.552323\n",
       "3     372.709944\n",
       "4     382.703168\n",
       "5     355.563945\n",
       "6     340.393169\n",
       "7     345.408769\n",
       "8     352.610080\n",
       "9     345.331796\n",
       "10    342.724640\n",
       "Name: WA(), dtype: float64"
      ]
     },
     "execution_count": 41,
     "metadata": {},
     "output_type": "execute_result"
    }
   ],
   "source": [
    "# Now we can load this without having to re-do calculations\n",
    "path_to_ref_h20_fm_Hz = r\"E:\\msc_data\\ismrm_2025\\dB0_033_dup1\\fm\\sim/raw_sim_fm_ref_h20_Hz.csv\"\n",
    "\n",
    "raw_sim_fm_ref_h20_Hz_csv = pd.read_csv(path_to_ref_h20_fm_Hz)[\"WA()\"]\n",
    "raw_sim_fm_ref_h20_Hz_csv"
   ]
  },
  {
   "cell_type": "code",
   "execution_count": 50,
   "metadata": {},
   "outputs": [
    {
     "data": {
      "image/png": "[encoded data removed]",
      "text/plain": [
       "<Figure size 640x480 with 1 Axes>"
      ]
     },
     "metadata": {},
     "output_type": "display_data"
    }
   ],
   "source": [
    "# With that done we can plot them:\n",
    "vertebrae_levels = ['C4','C5', 'C6', 'C7', 'T1', 'T2', 'T3', 'T4', 'T5', 'T6', 'T7'] # From 5 to 14\n",
    "plt.plot(vertebrae_levels, two_pi_offset_corrected_insp, marker = 'o', linestyle = '-', label = \"2pi Corrected Insp B0 measured\", color = \"#81C184\")\n",
    "#plt.plot(vertebrae_levels, raw_exp_metrics, marker = '*', linestyle = '-', label = \"Raw Exp B0 measured\", color = \"#7BA9D1\")\n",
    "plt.plot(vertebrae_levels, raw_exp_metrics, marker = 'o', linestyle = '-', label = f\"Raw Expiration\", color = \"#7BA9D1\")\n",
    "plt.plot(vertebrae_levels, raw_sim_fm_ref_h20_Hz_csv, marker = 'v', linestyle = '--', label = r\"Simulated $\\chi_{dist}$ relative to water\", color = \"#D5CB6A\")\n",
    "#plt.plot(vertebrae_levels, raw_sim_fm_ref_zero_Hz_csv, marker = '*', linestyle = '--', label = r\"Simulated Absolute $\\chi_{dist}$\", color = \"#D5CB6A\")\n",
    "\n",
    "title = \"dB0_033 Simulation vs Measured\"\n",
    "plt.title(\"$\\\\chi$ of trachea: -4.2 & Lung: -4.2\")\n",
    "plt.xlabel('Vertebral Level', fontsize=12)\n",
    "plt.ylabel('B0 [Hz]', fontsize=12)\n",
    "plt.legend()\n",
    "# Customize grid and display\n",
    "plt.grid(True, which='both', linestyle='--', linewidth=0.7)\n",
    "plt.tight_layout()\n",
    "\n",
    "yticks = range(50, 450, 50) \n",
    "plt.yticks(yticks)\n",
    "\n",
    "# Show the plot\n",
    "plt.show()"
   ]
  },
  {
   "cell_type": "code",
   "execution_count": 5,
   "metadata": {},
   "outputs": [
    {
     "ename": "NameError",
     "evalue": "name 'raw_insp_metrics' is not defined",
     "output_type": "error",
     "traceback": [
      "\u001b[1;31m---------------------------------------------------------------------------\u001b[0m",
      "\u001b[1;31mNameError\u001b[0m                                 Traceback (most recent call last)",
      "Cell \u001b[1;32mIn[5], line 1\u001b[0m\n\u001b[1;32m----> 1\u001b[0m avg_raw_db0_033_offset_correction \u001b[38;5;241m=\u001b[39m  raw_insp_metrics \u001b[38;5;241m+\u001b[39m exp_corrected_metrics\n\u001b[0;32m      2\u001b[0m avg_raw_db0_033_offset_correction\n",
      "\u001b[1;31mNameError\u001b[0m: name 'raw_insp_metrics' is not defined"
     ]
    }
   ],
   "source": [
    "avg_raw_db0_033_offset_correction =  raw_insp_metrics + exp_corrected_metrics\n",
    "avg_raw_db0_033_offset_correction"
   ]
  },
  {
   "cell_type": "markdown",
   "metadata": {},
   "source": [
    "# <span style=\"color:#2F67A7\"> Testing new demodulation approach* </span> </br>\n",
    "\n",
    "Done to one subject only to test the hypothesis: </br>\n",
    "The absolute frequency is: \n",
    "\n",
    "$$ f_{abs} = f_{meas} + f_{water} - f_{central}$$\n",
    "\n",
    "Where the frequency of water depends on the field strength in Tesla and the central frequency is something the scanner sets during load tune-up. The latter can be obtained from the accompanying json sidecar of the echoes."
   ]
  },
  {
   "cell_type": "markdown",
   "metadata": {},
   "source": [
    "### <span style=\"color:green\"> Expiration* </span> </br>\n",
    "The difference is now we need to get the central frequency value from the json sidecars </br>\n",
    "For expiration: 123.249489 Hz"
   ]
  },
  {
   "cell_type": "markdown",
   "metadata": {},
   "source": [
    "The frequency shift of an MR image is given by: deltaF / F0 </br>\n",
    "F0 is the resonating frequency of spins at the defined Tesla </br>\n",
    "Recall the gyromagnetic ratio in [Hz/Tesla] is 42.58 1e6 for Hydrogen nuclei </br>\n",
    "If you don't use the 1e6 in calculations, the final value will be in [ppm]"
   ]
  },
  {
   "cell_type": "code",
   "execution_count": 1,
   "metadata": {},
   "outputs": [
    {
     "name": "stdout",
     "output_type": "stream",
     "text": [
      "Frequency of water at 3T:  127.74 MHz\n",
      "Frequency adjustment for absolute frequency per voxel:  -4.490510999999998 MHz\n"
     ]
    }
   ],
   "source": [
    "# For example, at 1.5 T 1000 Hz difference [-500, 500] is equal to:\n",
    "#500 / (1.5 * 42.58)\n",
    "# in [ppm]\n",
    "central_freq_exp = 123.249489 # in MHz\n",
    "gamma_bar = 42.58 # MHz/T\n",
    "water_Hz_3T = 3 * 42.58 # This comes from Larmor equation, gyromagnetic ratio in MHz/T\n",
    "print(\"Frequency of water at 3T: \", water_Hz_3T, \"MHz\")\n",
    "\n",
    "freq_offset_exp =  central_freq_exp - water_Hz_3T \n",
    "print(\"Frequency adjustment for absolute frequency per voxel: \", freq_offset_exp, \"MHz\")"
   ]
  },
  {
   "cell_type": "code",
   "execution_count": 3,
   "metadata": {},
   "outputs": [
    {
     "name": "stdout",
     "output_type": "stream",
     "text": [
      "B0 used this scan:  2.8945394316580555 T\n"
     ]
    }
   ],
   "source": [
    "B0_scanner = central_freq_exp/gamma_bar\n",
    "print(\"B0 used this scan: \", B0_scanner, \"T\")"
   ]
  },
  {
   "cell_type": "code",
   "execution_count": 63,
   "metadata": {},
   "outputs": [
    {
     "name": "stdout",
     "output_type": "stream",
     "text": [
      "Metrics extracted successfully: \n",
      "--\n",
      "Spinal Cord Toolbox (6.5)\n",
      "\n",
      "sct_extract_metric -i E:/msc_data/ismrm_2025/dB0_033_dup1/fm/C1_meas/exp/tests/test1/B0.nii -f E:/msc_data/ismrm_2025/dB0_033_dup1/fm/processing_steps/D1_D2_label_vert/exp/cord_mask.nii.gz -method wa -vert 4:14 -vertfile E:/msc_data/ismrm_2025/dB0_033_dup1/fm/processing_steps/D1_D2_label_vert/exp/cord_mask_labeled.nii.gz -perlevel 1 -o E:/msc_data/ismrm_2025/dB0_033_dup1/fm/C1_meas/exp/raw_exp_metrics.csv\n",
      "--\n",
      "\n",
      "\n",
      "Load metric image...\n",
      "Estimation for label: cord_mask\n",
      "\n",
      "Done! To view results, type:\n",
      "start E:/msc_data/ismrm_2025/dB0_033_dup1/fm/C1_meas/exp/raw_exp_metrics.csv\n",
      "\n",
      "\n"
     ]
    }
   ],
   "source": [
    "# We need to apply this to the measured Expiration values\n",
    "# Lets see what the raw values look like before demodulation\n",
    "raw_exp_B0_metrics_path = \"E:/msc_data/ismrm_2025/dB0_033_dup1/fm/C1_meas/exp/raw_exp_metrics.csv\"\n",
    "extract_metrics(path_to_exp_meas, path_to_exp_dmod_mask, path_to_exp_metric_mask, raw_exp_B0_metrics_path, method='wa', vert=\"4:14\")"
   ]
  },
  {
   "cell_type": "markdown",
   "metadata": {},
   "source": [
    "With this, the simulation of the fieldmap needs to have values of susceptibility referenced to water. </br>\n",
    "This can be done manually with the following cell of you can just load your own </br>\n",
    "Tissue2MR property already has enabled a \"reference\" flag that enables you to change the reference value for all the susceptibility values"
   ]
  },
  {
   "cell_type": "markdown",
   "metadata": {},
   "source": [
    "### Manual demodulation of chimap (skip)"
   ]
  },
  {
   "cell_type": "code",
   "execution_count": 44,
   "metadata": {},
   "outputs": [],
   "source": [
    "# Load chi map\n",
    "og_chimap = nib.load(r\"E:\\msc_data\\ismrm_2025\\dB0_033_dup1\\fm\\sim\\B1_chi_maps/dB0_033_mod0.nii.gz\")\n",
    "og_chimap_data = og_chimap.get_fdata()\n",
    "water_ppm = -9.035\n",
    "water_sim_dmod = og_chimap_data - (water_ppm)\n",
    "\n",
    "#Now simulate fieldmap and load\n",
    "water_sim_dmod_chimap = nib.Nifti1Image(water_sim_dmod, affine = og_chimap.affine)\n",
    "outpath = r\"E:\\msc_data\\ismrm_2025\\dB0_033_dup1\\fm\\sim\\B1_chi_maps/dB0_033_dmod_water.nii.gz\"\n",
    "nib.save(water_sim_dmod_chimap, outpath)"
   ]
  },
  {
   "cell_type": "code",
   "execution_count": null,
   "metadata": {},
   "outputs": [],
   "source": [
    "# Load it\n",
    "path_to_dmod_sim_water = r\"E:\\msc_data\\ismrm_2025\\dB0_033_dup1\\fm\\sim\\B1_chi_maps/custom_dmod_water_fm_ppm.nii.gz\"\n",
    "dmod_sim_water_fm_ppm = nib.load(path_to_dmod_sim_water)\n",
    "dmod_sim_water_fm_Hz = dmod_sim_water_fm_ppm * 3 * 42.58"
   ]
  },
  {
   "cell_type": "markdown",
   "metadata": {},
   "source": [
    "### Loading Chi map with susceptibility referenced to water"
   ]
  },
  {
   "cell_type": "code",
   "execution_count": 23,
   "metadata": {},
   "outputs": [],
   "source": [
    "# Do it on your own terminal and just load\n",
    "path_to_2nd_water_dmod_fm = r\"E:\\msc_data\\ismrm_2025\\dB0_033_dup1\\anat\\t1w\\segmentations\\merging_outputs\\output/custom_dmod_water_fm_ppm.nii.gz\"\n",
    "path_to_water_dmod_test_results1 = \"E:/msc_data/ismrm_2025/dB0_033_dup1/fm/sim/D4_metrics/water_dmod_test1.csv\""
   ]
  },
  {
   "cell_type": "code",
   "execution_count": 54,
   "metadata": {},
   "outputs": [
    {
     "name": "stdout",
     "output_type": "stream",
     "text": [
      "Metrics extracted successfully: \n",
      "--\n",
      "Spinal Cord Toolbox (6.5)\n",
      "\n",
      "sct_extract_metric -i E:\\msc_data\\ismrm_2025\\dB0_033_dup1\\anat\\t1w\\segmentations\\merging_outputs\\output/custom_dmod_water_fm_ppm.nii.gz -f E:/msc_data/ismrm_2025/dB0_033_dup1/fm/sim/D2_D3_masks/cord_mask.nii.gz -method wa -vert 4:14 -vertfile E:/msc_data/ismrm_2025/dB0_033_dup1/fm/sim/D2_D3_masks/cord_mask_labeled.nii.gz -perlevel 1 -o E:/msc_data/ismrm_2025/dB0_033_dup1/fm/sim/D4_metrics/water_dmod_test1.csv\n",
      "--\n",
      "\n",
      "\n",
      "Load metric image...\n",
      "Estimation for label: cord_mask\n",
      "\n",
      "Done! To view results, type:\n",
      "start E:/msc_data/ismrm_2025/dB0_033_dup1/fm/sim/D4_metrics/water_dmod_test1.csv\n",
      "\n",
      "\n"
     ]
    }
   ],
   "source": [
    "extract_metrics(path_to_2nd_water_dmod_fm, path_to_dmod_mask, path_to_labeled_cord, path_to_water_dmod_test_results1, method='wa', vert=\"4:14\")"
   ]
  },
  {
   "cell_type": "code",
   "execution_count": 30,
   "metadata": {},
   "outputs": [],
   "source": [
    "# Import the data:\n",
    "dmod_water_results = pd.read_csv(path_to_water_dmod_test_results1)\n",
    "\n",
    "dmod_water_results_csv = dmod_water_results['WA()']\n",
    "dmod_water_results_csv = dmod_water_results_csv[::-1]\n",
    "\n",
    "dmod_water_results_Hz = dmod_water_results_csv*3*42.58"
   ]
  },
  {
   "cell_type": "code",
   "execution_count": 31,
   "metadata": {},
   "outputs": [
    {
     "data": {
      "text/plain": [
       "10    312.145353\n",
       "9     323.201694\n",
       "8     350.994819\n",
       "7     386.081746\n",
       "6     396.752853\n",
       "5     368.322464\n",
       "4     352.905186\n",
       "3     357.780743\n",
       "2     365.425772\n",
       "1     357.945871\n",
       "0     355.298681\n",
       "Name: WA(), dtype: float64"
      ]
     },
     "execution_count": 31,
     "metadata": {},
     "output_type": "execute_result"
    }
   ],
   "source": [
    "dmod_water_results_Hz"
   ]
  }
 ],
 "metadata": {
  "kernelspec": {
   "display_name": "mirror33",
   "language": "python",
   "name": "python3"
  },
  "language_info": {
   "codemirror_mode": {
    "name": "ipython",
    "version": 3
   },
   "file_extension": ".py",
   "mimetype": "text/x-python",
   "name": "python",
   "nbconvert_exporter": "python",
   "pygments_lexer": "ipython3",
   "version": "3.13.2"
  }
 },
 "nbformat": 4,
 "nbformat_minor": 2
}
